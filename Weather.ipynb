{
 "cells": [
  {
   "cell_type": "markdown",
   "metadata": {
    "jp-MarkdownHeadingCollapsed": true,
    "tags": []
   },
   "source": [
    "# Imports and Definitions"
   ]
  },
  {
   "cell_type": "code",
   "execution_count": 1,
   "metadata": {},
   "outputs": [],
   "source": [
    "import pandas as pd\n",
    "import numpy as np\n",
    "from matplotlib import pyplot as plt\n",
    "import seaborn as sns\n",
    "%matplotlib inline\n",
    "\n",
    "forecast_dir = './data/forecast/'"
   ]
  },
  {
   "cell_type": "code",
   "execution_count": 2,
   "metadata": {},
   "outputs": [],
   "source": [
    "# Fields in historical dataset from rp5\n",
    "h = {'T': 'Температура воздуха (градусы Цельсия) на высоте 2 метра над поверхностью земли',\n",
    "    'Po': 'Атмосферное давление на уровне станции (миллиметры ртутного столба)',\n",
    "    'P': 'Атмосферное давление, приведенное к среднему уровню моря (миллиметры ртутного столба)',\n",
    "    'Pa': 'Барическая тенденция: изменение атмосферного давления за последние три часа (миллиметры ртутного столба)',\n",
    "    'U': 'Относительная влажность (%) на высоте 2 метра над поверхностью земли',\n",
    "    'DD': 'Направление ветра (румбы) на высоте 10-12 метров над земной поверхностью, осредненное за 10-минутный период, непосредственно предшествовавший сроку наблюдения',\n",
    "    'Ff': 'Cкорость ветра на высоте 10-12 метров над земной поверхностью, осредненная за 10-минутный период, непосредственно предшествовавший сроку наблюдения (метры в секунду)',\n",
    "    'ff10': 'Максимальное значение порыва ветра на высоте 10-12 метров над земной поверхностью за 10-минутный период, непосредственно предшествующий сроку наблюдения (метры в секунду)',\n",
    "    'ff3': 'Максимальное значение порыва ветра на высоте 10-12 метров над земной поверхностью за период между сроками (метры в секунду)',\n",
    "    'N': 'Общая облачность',\n",
    "    'WW': 'Текущая погода, сообщаемая с метеорологической станции',\n",
    "    'W1': 'Прошедшая погода между сроками наблюдения 1',\n",
    "    'W2': 'Прошедшая погода между сроками наблюдения 2',\n",
    "    'Tn': 'Минимальная температура воздуха (градусы Цельсия) за прошедший период (не более 12 часов)',\n",
    "    'Tx': 'Максимальная температура воздуха (градусы Цельсия) за прошедший период (не более 12 часов)',\n",
    "    'Cl': 'Слоисто-кучевые, слоистые, кучевые и кучево-дождевые облака',\n",
    "    'Nh': 'Количество всех наблюдающихся облаков Cl или, при отсутствии облаков Cl, количество всех наблюдающихся облаков Cm',\n",
    "    'H': 'Высота основания самых низких облаков (м)',\n",
    "    'Cm': 'Высококучевые, высокослоистые и слоисто-дождевые облака',\n",
    "    'Ch': 'Перистые, перисто-кучевые и перисто-слоистые облака',\n",
    "    'VV': 'Горизонтальная дальность видимости (км)',\n",
    "    'Td': 'Температура точки росы на высоте 2 метра над поверхностью земли (градусы Цельсия)',\n",
    "    'RRR': 'Количество выпавших осадков (миллиметры)',\n",
    "    'tR': 'Период времени, за который накоплено указанное количество осадков (часы)',\n",
    "    'E': 'Состояние поверхности почвы без снега или измеримого ледяного покрова',\n",
    "    'Tg': 'Минимальная температура поверхности почвы за ночь. (градусы Цельсия)',\n",
    "    \"E'\": 'Состояние поверхности почвы со снегом или измеримым ледяным покровом',\n",
    "    'sss': 'Высота снежного покрова (см)'}"
   ]
  },
  {
   "cell_type": "code",
   "execution_count": 3,
   "metadata": {},
   "outputs": [],
   "source": [
    "# Fields in forecast datasets\n",
    "forecast_cols = {'Request time': 'req_datetime',\n",
    "                 'Update time': 'upd_datetime',\n",
    "                 'Time': 'datetime',\n",
    "                 'Temperature, deg. C': 'temp',\n",
    "                 'Min temperature, deg. C': 'min_temp',\n",
    "                 'Max temperature, deg. C': 'max_temp',\n",
    "                 'Min/max temperature, deg. C': 'temp',\n",
    "                 'Feels like, deg. C': 'feels_like',\n",
    "                 'Humidity, pct': 'hum',\n",
    "                 'Pressure, mmHg': 'press',\n",
    "                 'Precipitation': 'precip_str',\n",
    "                 'Precipitation, mm': 'precip',\n",
    "                 'Probability of precipitation, pct': 'precip_prob',\n",
    "                 'Snowfall, sm': 'snowfall',\n",
    "                 'Snow depth, sm': 'snow_depth',\n",
    "                 'Wind speed, m/s': 'wind_speed',\n",
    "                 'Wind gusts, m/s': 'wind_gusts',\n",
    "                 'Wind direction, deg': 'wind_dir_deg',\n",
    "                 'Wind direction': 'wind_dir',\n",
    "                 'Cloud cover': 'cloud_cover',\n",
    "                 'Conditions': 'conditions',\n",
    "                 'Road conditions': 'road',\n",
    "                 'Fog, pct': 'fog',\n",
    "                 'Visibility': 'vis',\n",
    "                 'UV index': 'uv_ind',\n",
    "                 'Kp-index': 'kp_ind',\n",
    "                 'Birch pollen, points': 'birch',\n",
    "                 'Magnetic field': 'm_field'}\n",
    "wind_dir_to_deg = {'С': '0', 'СВ': '45', 'В': '90', 'ЮВ': '135',\n",
    "                   'Ю': '180', 'ЮЗ': '225', 'З': '270', 'СЗ': '315'}"
   ]
  },
  {
   "cell_type": "code",
   "execution_count": 4,
   "metadata": {},
   "outputs": [],
   "source": [
    "def sort_cols_rows(df):\n",
    "    first_cols = ['datetime', 'req_datetime', '12h_bin']\n",
    "    new_df = df.reindex(columns=first_cols + [c for c in list(df.columns) if c not in first_cols], copy=False)\n",
    "    new_df.sort_values(by=['datetime', 'req_datetime'], axis=0, ascending=[1, 1], inplace=True)\n",
    "    return new_df\n",
    "\n",
    "def replace_minus_plus(df, cols):\n",
    "    for c in cols:\n",
    "        df[c] = df[c].str.replace('−', '-')\n",
    "        df[c] = df[c].str.replace('+', '', regex=False)\n",
    "        df[c] = df[c].astype(float)\n",
    "        \n",
    "def precip_at_8_and_20(df):\n",
    "    df_0 = df[['datetime', '12h_bin', 'precip']].copy()\n",
    "    # add \"precip_datetime\" column for aggregating precipitation data at 08:00 and 20:00\n",
    "    df_0['precip_datetime'] = (df_0['datetime'] + pd.to_timedelta(4, unit=\"h\")).dt.ceil('12H') - pd.to_timedelta(4, unit=\"h\")\n",
    "    df_0 = df_0.groupby(['12h_bin', 'precip_datetime']).aggregate({'datetime': 'max', 'precip': 'sum'}).reset_index()\n",
    "    # an interval should include the end point\n",
    "    df_0 = df_0.loc[(df_0['precip_datetime'] == df_0['datetime']) & (df_0['12h_bin'] > 0)]\n",
    "    # the interval will be incomplete if request time is in:\n",
    "    # [11:00, 12:00) or [23:00, 00:00) for Gismeteo or HMCR\n",
    "    # [09:00, 12:00) or [21:00, 00:00) for rp5\n",
    "    return df_0[['datetime', '12h_bin', 'precip']].sort_values(by=['datetime', '12h_bin'], axis=0, ascending=[1, 0])\n",
    "        \n",
    "def get_min_max_temp(df, col='temp', new_col_name='temp', which='both'):\n",
    "    df_min_max = df.loc[:, ['datetime', '12h_bin', col]].copy()\n",
    "    # df_min_max.reset_index(inplace=True)\n",
    "    if col != new_col_name:\n",
    "        df_min_max.rename(columns={col: new_col_name}, inplace=True)\n",
    "    df_min_max['date'] = df_min_max['datetime'].dt.date\n",
    "    min_filt = df_min_max['datetime'].dt.hour < 12\n",
    "    df_min_max.drop('datetime', axis=1, inplace=True)\n",
    "    if which != 'max':\n",
    "        df_min = df_min_max.loc[min_filt].groupby(by=['date', '12h_bin'], axis=0).min()\n",
    "        df_min.reset_index(inplace=True)\n",
    "        # drop records with a request time after the beginning of the interval\n",
    "        df_min = df_min.loc[df_min['12h_bin']>0]\n",
    "        df_min.sort_values(by=['date', '12h_bin'], axis=0, ascending=[1, 0], inplace=True)\n",
    "    if which != 'min':\n",
    "        df_max = df_min_max.loc[~min_filt].groupby(by=['date', '12h_bin'], axis=0).max()\n",
    "        df_max.reset_index(inplace=True)\n",
    "        # drop records with a request time after the beginning of the interval\n",
    "        df_max = df_max.loc[df_max['12h_bin']>0]\n",
    "        df_max.sort_values(by=['date', '12h_bin'], axis=0, ascending=[1, 0], inplace=True)\n",
    "    if which == 'min':\n",
    "        return df_min\n",
    "    elif which == 'max':\n",
    "        return df_max\n",
    "    else:\n",
    "        return df_min, df_max\n",
    "\n",
    "def merge_dfs(dfs, col, col_keys, how):\n",
    "    keys = list(dfs.keys())\n",
    "    cols = col_keys.copy()\n",
    "    cols.append(col)\n",
    "    key0 = keys[0]\n",
    "    df0 = dfs[key0][cols].copy()\n",
    "    df0.rename(columns={col: key0}, inplace=True)\n",
    "    for k in keys[1:]:\n",
    "        df1 = dfs[k][cols].copy()\n",
    "        df1.rename(columns={col: k}, inplace=True)\n",
    "        df0 = df0.merge(df1, \n",
    "                        how=how,\n",
    "                        left_on=col_keys,\n",
    "                        right_on=col_keys,\n",
    "                        sort=False,\n",
    "                        validate='one_to_one')\n",
    "    return df0\n",
    "\n",
    "\n",
    "def boxplot_params(df, title, ylabel, ylim, legend_labels, legend_loc='upper left', yticks=None):\n",
    "    df_ = df.loc[(df['datetime'] >= start_date) & (df['datetime'] <= end_date)].copy()\n",
    "    df_['Day'] = np.ceil(df_['12h_bin'] / 2).astype(int)\n",
    "    pm_filt = df_['datetime'].dt.hour > 12\n",
    "    df_.loc[pm_filt, 'Day'] = np.ceil((df_.loc[pm_filt, '12h_bin'] - 1) / 2).astype(int)\n",
    "    df_ = df_.loc[df_['Day'] <= day_lim]\n",
    "    df_ = df_.melt(id_vars=['Day'],\n",
    "                   value_vars=[*legend_labels.keys()],\n",
    "                   var_name='Forecast',\n",
    "                   value_name=ylabel)\n",
    "    ax = sns.boxplot(x='Day', y=ylabel, data=df_, hue='Forecast', palette=colors, whis=1.5, fliersize=3)\n",
    "    handles, labels = ax.get_legend_handles_labels()\n",
    "    ax.set(title=title)\n",
    "    ax.set_ylim(*ylim)\n",
    "    if yticks:\n",
    "        ax.set_yticks(range(*yticks))\n",
    "    ax.legend(handles, [legend_labels[k] for k in labels], ncol=len(labels), loc=legend_loc)"
   ]
  },
  {
   "cell_type": "markdown",
   "metadata": {
    "jp-MarkdownHeadingCollapsed": true,
    "tags": []
   },
   "source": [
    "# Location"
   ]
  },
  {
   "cell_type": "markdown",
   "metadata": {},
   "source": [
    "[Wikipedia](https://en.wikipedia.org/wiki/Artyomovsky,_Sverdlovsk_Oblast): **Artyomovsky** (Russian: Артёмовский) is a town in Sverdlovsk Oblast, Russia, located on the Bobrovka River (Irbit's tributary, Ob's basin), 120 kilometers (75 mi) northeast of Yekaterinburg. Population: 33,160 (2010 Census); 34,980 (2002 Census); 41,247 (1989 Census). The map below is provided by [Yandex.Maps](https://yandex.com/maps/geo/artyomovskiy/53156571)."
   ]
  },
  {
   "cell_type": "markdown",
   "metadata": {},
   "source": [
    "![Artyomovsky_Yandex.png](./data/images/Artyomovsky_Yandex.png)"
   ]
  },
  {
   "cell_type": "markdown",
   "metadata": {
    "jp-MarkdownHeadingCollapsed": true,
    "tags": []
   },
   "source": [
    "# Historical Data"
   ]
  },
  {
   "cell_type": "markdown",
   "metadata": {},
   "source": [
    "A weather archive for Artyomovsky, Sverdlovsk Oblast was downloaded from [rp5.ru](https://rp5.ru/%D0%90%D1%80%D1%85%D0%B8%D0%B2_%D0%BF%D0%BE%D0%B3%D0%BE%D0%B4%D1%8B_%D0%B2_%D0%90%D1%80%D1%82%D0%B5%D0%BC%D0%BE%D0%B2%D1%81%D0%BA%D0%BE%D0%BC)."
   ]
  },
  {
   "cell_type": "code",
   "execution_count": 5,
   "metadata": {
    "scrolled": true
   },
   "outputs": [
    {
     "data": {
      "text/html": [
       "<div>\n",
       "<style scoped>\n",
       "    .dataframe tbody tr th:only-of-type {\n",
       "        vertical-align: middle;\n",
       "    }\n",
       "\n",
       "    .dataframe tbody tr th {\n",
       "        vertical-align: top;\n",
       "    }\n",
       "\n",
       "    .dataframe thead th {\n",
       "        text-align: right;\n",
       "    }\n",
       "</style>\n",
       "<table border=\"1\" class=\"dataframe\">\n",
       "  <thead>\n",
       "    <tr style=\"text-align: right;\">\n",
       "      <th></th>\n",
       "      <th>temp</th>\n",
       "      <th>press</th>\n",
       "      <th>hum</th>\n",
       "      <th>wind_dir_10m</th>\n",
       "      <th>wind_speed_10m</th>\n",
       "      <th>max_wind_speed_10m</th>\n",
       "      <th>max_wind_speed_3h</th>\n",
       "      <th>cur_weather</th>\n",
       "      <th>weather_3h_1</th>\n",
       "      <th>weather_3h_2</th>\n",
       "      <th>min_temp_3h</th>\n",
       "      <th>max_temp_3h</th>\n",
       "      <th>vis</th>\n",
       "      <th>precip</th>\n",
       "      <th>precip_int</th>\n",
       "      <th>snow_level</th>\n",
       "    </tr>\n",
       "    <tr>\n",
       "      <th>datetime</th>\n",
       "      <th></th>\n",
       "      <th></th>\n",
       "      <th></th>\n",
       "      <th></th>\n",
       "      <th></th>\n",
       "      <th></th>\n",
       "      <th></th>\n",
       "      <th></th>\n",
       "      <th></th>\n",
       "      <th></th>\n",
       "      <th></th>\n",
       "      <th></th>\n",
       "      <th></th>\n",
       "      <th></th>\n",
       "      <th></th>\n",
       "      <th></th>\n",
       "    </tr>\n",
       "  </thead>\n",
       "  <tbody>\n",
       "    <tr>\n",
       "      <th>2020-09-04 02:00:00</th>\n",
       "      <td>7.5</td>\n",
       "      <td>755.9</td>\n",
       "      <td>74.0</td>\n",
       "      <td>337.5</td>\n",
       "      <td>2.0</td>\n",
       "      <td>NaN</td>\n",
       "      <td>NaN</td>\n",
       "      <td></td>\n",
       "      <td>NaN</td>\n",
       "      <td>NaN</td>\n",
       "      <td>NaN</td>\n",
       "      <td>NaN</td>\n",
       "      <td>10.0</td>\n",
       "      <td>NaN</td>\n",
       "      <td>NaN</td>\n",
       "      <td>NaN</td>\n",
       "    </tr>\n",
       "    <tr>\n",
       "      <th>2022-07-14 05:00:00</th>\n",
       "      <td>15.0</td>\n",
       "      <td>749.5</td>\n",
       "      <td>94.0</td>\n",
       "      <td>NaN</td>\n",
       "      <td>0.0</td>\n",
       "      <td>NaN</td>\n",
       "      <td>NaN</td>\n",
       "      <td>Более или менее сплошной слой приземного или л...</td>\n",
       "      <td>Облака покрывали более половины неба в течение...</td>\n",
       "      <td>Облака покрывали более половины неба в течение...</td>\n",
       "      <td>NaN</td>\n",
       "      <td>NaN</td>\n",
       "      <td>20.0</td>\n",
       "      <td>NaN</td>\n",
       "      <td>NaN</td>\n",
       "      <td>NaN</td>\n",
       "    </tr>\n",
       "    <tr>\n",
       "      <th>2020-04-05 08:00:00</th>\n",
       "      <td>1.1</td>\n",
       "      <td>743.8</td>\n",
       "      <td>93.0</td>\n",
       "      <td>0.0</td>\n",
       "      <td>2.0</td>\n",
       "      <td>NaN</td>\n",
       "      <td>NaN</td>\n",
       "      <td>Дождь или морось со снегом слабые.</td>\n",
       "      <td>Дождь со снегом или другими видами твердых оса...</td>\n",
       "      <td>Дождь.</td>\n",
       "      <td>1.1</td>\n",
       "      <td>NaN</td>\n",
       "      <td>10.0</td>\n",
       "      <td>4.0</td>\n",
       "      <td>12.0</td>\n",
       "      <td>NaN</td>\n",
       "    </tr>\n",
       "    <tr>\n",
       "      <th>2018-05-15 14:00:00</th>\n",
       "      <td>13.5</td>\n",
       "      <td>745.0</td>\n",
       "      <td>23.0</td>\n",
       "      <td>292.5</td>\n",
       "      <td>5.0</td>\n",
       "      <td>NaN</td>\n",
       "      <td>13.0</td>\n",
       "      <td></td>\n",
       "      <td>NaN</td>\n",
       "      <td>NaN</td>\n",
       "      <td>NaN</td>\n",
       "      <td>NaN</td>\n",
       "      <td>50.0</td>\n",
       "      <td>NaN</td>\n",
       "      <td>NaN</td>\n",
       "      <td>NaN</td>\n",
       "    </tr>\n",
       "  </tbody>\n",
       "</table>\n",
       "</div>"
      ],
      "text/plain": [
       "                     temp  press   hum  wind_dir_10m  wind_speed_10m  \\\n",
       "datetime                                                               \n",
       "2020-09-04 02:00:00   7.5  755.9  74.0         337.5             2.0   \n",
       "2022-07-14 05:00:00  15.0  749.5  94.0           NaN             0.0   \n",
       "2020-04-05 08:00:00   1.1  743.8  93.0           0.0             2.0   \n",
       "2018-05-15 14:00:00  13.5  745.0  23.0         292.5             5.0   \n",
       "\n",
       "                     max_wind_speed_10m  max_wind_speed_3h  \\\n",
       "datetime                                                     \n",
       "2020-09-04 02:00:00                 NaN                NaN   \n",
       "2022-07-14 05:00:00                 NaN                NaN   \n",
       "2020-04-05 08:00:00                 NaN                NaN   \n",
       "2018-05-15 14:00:00                 NaN               13.0   \n",
       "\n",
       "                                                           cur_weather  \\\n",
       "datetime                                                                 \n",
       "2020-09-04 02:00:00                                                      \n",
       "2022-07-14 05:00:00  Более или менее сплошной слой приземного или л...   \n",
       "2020-04-05 08:00:00                Дождь или морось со снегом слабые.    \n",
       "2018-05-15 14:00:00                                                      \n",
       "\n",
       "                                                          weather_3h_1  \\\n",
       "datetime                                                                 \n",
       "2020-09-04 02:00:00                                                NaN   \n",
       "2022-07-14 05:00:00  Облака покрывали более половины неба в течение...   \n",
       "2020-04-05 08:00:00  Дождь со снегом или другими видами твердых оса...   \n",
       "2018-05-15 14:00:00                                                NaN   \n",
       "\n",
       "                                                          weather_3h_2  \\\n",
       "datetime                                                                 \n",
       "2020-09-04 02:00:00                                                NaN   \n",
       "2022-07-14 05:00:00  Облака покрывали более половины неба в течение...   \n",
       "2020-04-05 08:00:00                                             Дождь.   \n",
       "2018-05-15 14:00:00                                                NaN   \n",
       "\n",
       "                     min_temp_3h  max_temp_3h   vis  precip  precip_int  \\\n",
       "datetime                                                                  \n",
       "2020-09-04 02:00:00          NaN          NaN  10.0     NaN         NaN   \n",
       "2022-07-14 05:00:00          NaN          NaN  20.0     NaN         NaN   \n",
       "2020-04-05 08:00:00          1.1          NaN  10.0     4.0        12.0   \n",
       "2018-05-15 14:00:00          NaN          NaN  50.0     NaN         NaN   \n",
       "\n",
       "                     snow_level  \n",
       "datetime                         \n",
       "2020-09-04 02:00:00         NaN  \n",
       "2022-07-14 05:00:00         NaN  \n",
       "2020-04-05 08:00:00         NaN  \n",
       "2018-05-15 14:00:00         NaN  "
      ]
     },
     "execution_count": 5,
     "metadata": {},
     "output_type": "execute_result"
    }
   ],
   "source": [
    "hist_file = './data/28346.13.04.2006.18.08.2022.1.0.0.ru.utf8.00000000.csv'\n",
    "hist_cols = {'T': 'temp', 'Po': 'press', 'P': 'press_sea', 'Pa': 'press_change_3h',\n",
    "     'U': 'hum', 'DD': 'wind_dir_10m', 'Ff': 'wind_speed_10m',\n",
    "     'ff10': 'max_wind_speed_10m', 'ff3': 'max_wind_speed_3h', 'N': 'clouds',\n",
    "    'WW': 'cur_weather', 'W1': 'weather_3h_1', 'W2': 'weather_3h_2',\n",
    "    'Tn': 'min_temp_3h', 'Tx': 'max_temp_3h', 'Cl': 'Cl_clouds',\n",
    "    'Nh': 'Cl_Cm_clouds','H': 'cloud_base', 'Cm': 'Cm_clouds', 'Ch': 'Ch_clouds',\n",
    "    'VV': 'vis', 'Td': 'dew_point', 'RRR': 'precip', 'tR': 'precip_int',\n",
    "    'E': 'earth_wo_snow', 'Tg': 'min_night_earth_temp', \"E'\": 'earth_w_snow',\n",
    "    'sss': 'snow_level', 'Местное время в Артемовском': 'datetime'}\n",
    "hist_wind_dir_to_deg = {'Ветер, дующий с севера': '0',\n",
    "                        'Ветер, дующий с северо-северо-востока': '22.5',\n",
    "                        'Ветер, дующий с северо-востока': '45',\n",
    "                        'Ветер, дующий с востоко-северо-востока': '67.5',\n",
    "                        'Ветер, дующий с востока': '90',\n",
    "                        'Ветер, дующий с востоко-юго-востока': '112.5',\n",
    "                        'Ветер, дующий с юго-востока': '135',\n",
    "                        'Ветер, дующий с юго-юго-востока': '157.5',\n",
    "                        'Ветер, дующий с юга': '180',\n",
    "                        'Ветер, дующий с юго-юго-запада': '202.5',\n",
    "                        'Ветер, дующий с юго-запада': '225',\n",
    "                        'Ветер, дующий с западо-юго-запада': '247.5',\n",
    "                        'Ветер, дующий с запада': '270',\n",
    "                        'Ветер, дующий с западо-северо-запада': '292.5',\n",
    "                        'Ветер, дующий с северо-запада': '315',\n",
    "                        'Ветер, дующий с северо-северо-запада': '337.5',\n",
    "                        'Штиль, безветрие': np.nan,\n",
    "                        'Переменное направление': np.nan}\n",
    "cols_to_drop = ['press_sea', 'press_change_3h', 'clouds', \n",
    "                'Cl_clouds', 'Cl_Cm_clouds', 'cloud_base', \n",
    "                'Cm_clouds', 'Ch_clouds', 'dew_point', 'earth_wo_snow', \n",
    "                'min_night_earth_temp', 'earth_w_snow']\n",
    "hist = pd.read_csv(hist_file, sep=';', comment='#', \n",
    "                   parse_dates=[0], dayfirst=True, index_col=False)\n",
    "hist.rename(columns=hist_cols, inplace=True)\n",
    "hist.drop(columns=cols_to_drop, inplace=True)\n",
    "hist.set_index('datetime', inplace=True)\n",
    "hist.sort_index(level='datetime', axis=0, ascending=True, inplace=True)\n",
    "# convert wind directions into numerical values (degrees)\n",
    "hist['wind_dir_10m'] = hist['wind_dir_10m'].map(hist_wind_dir_to_deg).astype(float)\n",
    "# convert \"precip\" and \"snow_level\" columns to float\n",
    "hist['precip'].replace({'Осадков нет': '0', 'Следы осадков': '0.05'}, inplace=True)\n",
    "hist['precip'] = hist['precip'].astype(float)\n",
    "hist['snow_level'].replace({'Менее 0.5': '0.25', 'Снежный покров не постоянный.': np.nan}, inplace=True)\n",
    "hist['snow_level'] = hist['snow_level'].astype(float)\n",
    "hist.sample(4)"
   ]
  },
  {
   "cell_type": "markdown",
   "metadata": {
    "jp-MarkdownHeadingCollapsed": true,
    "tags": []
   },
   "source": [
    "# Gismeteo Forecast"
   ]
  },
  {
   "cell_type": "markdown",
   "metadata": {},
   "source": [
    "**Gismeteo** provides [10-day forecast](https://www.gismeteo.ru/weather-artemovsky-4495/) ([EN](https://www.gismeteo.com/weather-artemovsky-4495/)) with a three hour interval (02:00, 05:00, 08:00, 11:00, 14:00, 17:00, 20:00, 23:00)."
   ]
  },
  {
   "cell_type": "markdown",
   "metadata": {
    "jp-MarkdownHeadingCollapsed": true,
    "tags": []
   },
   "source": [
    "### Russian Version"
   ]
  },
  {
   "cell_type": "markdown",
   "metadata": {},
   "source": [
    "![gm_main_ru.png](./data/images/gm_main_ru.png)"
   ]
  },
  {
   "cell_type": "markdown",
   "metadata": {},
   "source": [
    "![gm_wind_ru.png](./data/images/gm_wind_ru.png)"
   ]
  },
  {
   "cell_type": "markdown",
   "metadata": {},
   "source": [
    "![gm_pollen_ru.png](./data/images/gm_pollen_ru.png)"
   ]
  },
  {
   "cell_type": "markdown",
   "metadata": {},
   "source": [
    "![gm_roads_ru.png](./data/images/gm_roads_ru.png)"
   ]
  },
  {
   "cell_type": "markdown",
   "metadata": {},
   "source": [
    "![gm_pressure_ru.png](./data/images/gm_pressure_ru.png)"
   ]
  },
  {
   "cell_type": "markdown",
   "metadata": {},
   "source": [
    "![gm_humidity_ru.png](./data/images/gm_humidity_ru.png)"
   ]
  },
  {
   "cell_type": "markdown",
   "metadata": {},
   "source": [
    "![gm_sun_moon_ru.png](./data/images/gm_sun_moon_ru.png)"
   ]
  },
  {
   "cell_type": "markdown",
   "metadata": {},
   "source": [
    "![gm_kp_ru.png](./data/images/gm_kp_ru.png)"
   ]
  },
  {
   "cell_type": "markdown",
   "metadata": {
    "jp-MarkdownHeadingCollapsed": true,
    "tags": []
   },
   "source": [
    "### English Version"
   ]
  },
  {
   "cell_type": "markdown",
   "metadata": {},
   "source": [
    "![gm_main_en.png](./data/images/gm_main_en.png)"
   ]
  },
  {
   "cell_type": "markdown",
   "metadata": {},
   "source": [
    "![gm_wind_en.png](./data/images/gm_wind_en.png)"
   ]
  },
  {
   "cell_type": "markdown",
   "metadata": {},
   "source": [
    "![gm_pollen_en.png](./data/images/gm_pollen_en.png)"
   ]
  },
  {
   "cell_type": "markdown",
   "metadata": {},
   "source": [
    "![gm_pressure_en.png](./data/images/gm_pressure_en.png)"
   ]
  },
  {
   "cell_type": "markdown",
   "metadata": {},
   "source": [
    "![gm_humidity_en.png](./data/images/gm_humidity_en.png)"
   ]
  },
  {
   "cell_type": "markdown",
   "metadata": {},
   "source": [
    "![gm_visibility_en.png](./data/images/gm_visibility_en.png)"
   ]
  },
  {
   "cell_type": "markdown",
   "metadata": {},
   "source": [
    "![gm_sun_moon_en.png](./data/images/gm_sun_moon_en.png)"
   ]
  },
  {
   "cell_type": "markdown",
   "metadata": {},
   "source": [
    "![gm_kp_en.png](./data/images/gm_kp_en.png)"
   ]
  },
  {
   "cell_type": "markdown",
   "metadata": {
    "jp-MarkdownHeadingCollapsed": true,
    "tags": []
   },
   "source": [
    "### Loading Data"
   ]
  },
  {
   "cell_type": "code",
   "execution_count": 6,
   "metadata": {},
   "outputs": [
    {
     "data": {
      "text/html": [
       "<div>\n",
       "<style scoped>\n",
       "    .dataframe tbody tr th:only-of-type {\n",
       "        vertical-align: middle;\n",
       "    }\n",
       "\n",
       "    .dataframe tbody tr th {\n",
       "        vertical-align: top;\n",
       "    }\n",
       "\n",
       "    .dataframe thead th {\n",
       "        text-align: right;\n",
       "    }\n",
       "</style>\n",
       "<table border=\"1\" class=\"dataframe\">\n",
       "  <thead>\n",
       "    <tr style=\"text-align: right;\">\n",
       "      <th></th>\n",
       "      <th>datetime</th>\n",
       "      <th>req_datetime</th>\n",
       "      <th>12h_bin</th>\n",
       "      <th>temp</th>\n",
       "      <th>hum</th>\n",
       "      <th>press</th>\n",
       "      <th>precip</th>\n",
       "      <th>snowfall</th>\n",
       "      <th>snow_depth</th>\n",
       "      <th>wind_speed</th>\n",
       "      <th>wind_dir</th>\n",
       "      <th>conditions</th>\n",
       "      <th>road</th>\n",
       "      <th>vis</th>\n",
       "      <th>uv_ind</th>\n",
       "      <th>kp_ind</th>\n",
       "      <th>birch</th>\n",
       "      <th>wind_gusts</th>\n",
       "    </tr>\n",
       "  </thead>\n",
       "  <tbody>\n",
       "    <tr>\n",
       "      <th>19020</th>\n",
       "      <td>2022-06-22 14:00:00</td>\n",
       "      <td>2022-06-15 05:25:28</td>\n",
       "      <td>15</td>\n",
       "      <td>16.0</td>\n",
       "      <td>81.0</td>\n",
       "      <td>741.0</td>\n",
       "      <td>0.0</td>\n",
       "      <td>NaN</td>\n",
       "      <td>NaN</td>\n",
       "      <td>6.0</td>\n",
       "      <td>0.0</td>\n",
       "      <td>Пасмурно</td>\n",
       "      <td>Сухая дорога</td>\n",
       "      <td>NaN</td>\n",
       "      <td>NaN</td>\n",
       "      <td>3.0</td>\n",
       "      <td>0.0</td>\n",
       "      <td>9.0</td>\n",
       "    </tr>\n",
       "    <tr>\n",
       "      <th>23172</th>\n",
       "      <td>2022-07-17 14:00:00</td>\n",
       "      <td>2022-07-11 05:25:28</td>\n",
       "      <td>13</td>\n",
       "      <td>24.0</td>\n",
       "      <td>62.0</td>\n",
       "      <td>745.0</td>\n",
       "      <td>0.5</td>\n",
       "      <td>NaN</td>\n",
       "      <td>NaN</td>\n",
       "      <td>2.0</td>\n",
       "      <td>0.0</td>\n",
       "      <td>Пасмурно, небольшой дождь</td>\n",
       "      <td>Влажная дорога</td>\n",
       "      <td>NaN</td>\n",
       "      <td>NaN</td>\n",
       "      <td>3.0</td>\n",
       "      <td>0.0</td>\n",
       "      <td>3.0</td>\n",
       "    </tr>\n",
       "    <tr>\n",
       "      <th>15240</th>\n",
       "      <td>2022-05-28 02:00:00</td>\n",
       "      <td>2022-05-23 05:29:34</td>\n",
       "      <td>10</td>\n",
       "      <td>10.0</td>\n",
       "      <td>87.0</td>\n",
       "      <td>742.0</td>\n",
       "      <td>0.0</td>\n",
       "      <td>NaN</td>\n",
       "      <td>NaN</td>\n",
       "      <td>4.0</td>\n",
       "      <td>180.0</td>\n",
       "      <td>Облачно</td>\n",
       "      <td>Сухая дорога</td>\n",
       "      <td>NaN</td>\n",
       "      <td>NaN</td>\n",
       "      <td>4.0</td>\n",
       "      <td>1.0</td>\n",
       "      <td>15.0</td>\n",
       "    </tr>\n",
       "    <tr>\n",
       "      <th>20174</th>\n",
       "      <td>2022-06-23 20:00:00</td>\n",
       "      <td>2022-06-22 17:25:24</td>\n",
       "      <td>2</td>\n",
       "      <td>21.0</td>\n",
       "      <td>71.0</td>\n",
       "      <td>741.0</td>\n",
       "      <td>0.0</td>\n",
       "      <td>NaN</td>\n",
       "      <td>NaN</td>\n",
       "      <td>2.0</td>\n",
       "      <td>315.0</td>\n",
       "      <td>Ясно</td>\n",
       "      <td>Сухая дорога</td>\n",
       "      <td>NaN</td>\n",
       "      <td>NaN</td>\n",
       "      <td>3.0</td>\n",
       "      <td>0.0</td>\n",
       "      <td>5.0</td>\n",
       "    </tr>\n",
       "  </tbody>\n",
       "</table>\n",
       "</div>"
      ],
      "text/plain": [
       "                 datetime        req_datetime  12h_bin  temp   hum  press  \\\n",
       "19020 2022-06-22 14:00:00 2022-06-15 05:25:28       15  16.0  81.0  741.0   \n",
       "23172 2022-07-17 14:00:00 2022-07-11 05:25:28       13  24.0  62.0  745.0   \n",
       "15240 2022-05-28 02:00:00 2022-05-23 05:29:34       10  10.0  87.0  742.0   \n",
       "20174 2022-06-23 20:00:00 2022-06-22 17:25:24        2  21.0  71.0  741.0   \n",
       "\n",
       "       precip  snowfall  snow_depth  wind_speed  wind_dir  \\\n",
       "19020     0.0       NaN         NaN         6.0       0.0   \n",
       "23172     0.5       NaN         NaN         2.0       0.0   \n",
       "15240     0.0       NaN         NaN         4.0     180.0   \n",
       "20174     0.0       NaN         NaN         2.0     315.0   \n",
       "\n",
       "                      conditions            road  vis  uv_ind  kp_ind  birch  \\\n",
       "19020                   Пасмурно    Сухая дорога  NaN     NaN     3.0    0.0   \n",
       "23172  Пасмурно, небольшой дождь  Влажная дорога  NaN     NaN     3.0    0.0   \n",
       "15240                    Облачно    Сухая дорога  NaN     NaN     4.0    1.0   \n",
       "20174                       Ясно    Сухая дорога  NaN     NaN     3.0    0.0   \n",
       "\n",
       "       wind_gusts  \n",
       "19020         9.0  \n",
       "23172         3.0  \n",
       "15240        15.0  \n",
       "20174         5.0  "
      ]
     },
     "execution_count": 6,
     "metadata": {},
     "output_type": "execute_result"
    }
   ],
   "source": [
    "gm = pd.read_csv(forecast_dir + 'gismeteo-artemovsky-4495.csv',\n",
    "                 sep=';',\n",
    "                 parse_dates=[0, 1, 2],\n",
    "                 dtype={3: 'float', 4: 'float', 5: 'float'},\n",
    "                 na_values=['н/д', '-', '—', 'Нет данных'])\n",
    "gm.rename(columns=forecast_cols, inplace=True)\n",
    "gm['req_datetime'].fillna(method='ffill', inplace=True)\n",
    "# replace commas in some columns and convert them to float\n",
    "for c in ['precip', 'snowfall', 'snow_depth']:\n",
    "    gm[c] = gm[c].str.replace(',', '.').astype(float)\n",
    "gm['kp_ind'] = gm['kp_ind'].astype(float)\n",
    "# split wind data into speed and gusts columns\n",
    "speed_gusts = gm['wind_speed'].str.split(pat='-', expand=True)\n",
    "gm['wind_speed'] = speed_gusts[0].astype(float)\n",
    "gm['wind_gusts'] = speed_gusts[1].astype(float)\n",
    "# convert wind directions into numerical values (degrees)\n",
    "gm['wind_dir'] = gm['wind_dir'].map(wind_dir_to_deg).astype(float)\n",
    "# visibility column has different units\n",
    "vis = gm['vis'].str.extract(r'(\\d+)\\ ?([км]+)')\n",
    "vis[2] = vis[0].astype(float)\n",
    "km_filt = vis[1] == 'км'\n",
    "vis.loc[km_filt, 2] = vis.loc[km_filt, 2] * 1000\n",
    "gm['vis'] = vis[2]\n",
    "# Gismeteo forecast also contains actual data\n",
    "# (temperature, wind speed, wind gusts, precipitations, conditions)\n",
    "past_filt = gm['req_datetime'] > gm['datetime']\n",
    "gm_hist = gm.loc[past_filt & gm['upd_datetime'].isna()].copy()\n",
    "gm = gm.loc[~past_filt]\n",
    "# \"upd_datetime\" column can be dropped\n",
    "gm.drop('upd_datetime', axis=1, inplace=True)\n",
    "gm_hist.drop(['req_datetime', 'upd_datetime'], axis=1, inplace=True)\n",
    "gm_hist.drop_duplicates(subset='datetime', keep='last', inplace=True)\n",
    "gm_hist.set_index('datetime', inplace=True)\n",
    "# \"datetime\" and \"req_datetime\" can be split into 12-hour bins ([00:00, 12:00) and [12:00, 24:00))\n",
    "# add \"12h_bin\" column indicating bin number: 0 if \"datetime\" and \"req_datetime\" are in the same bin,\n",
    "# 1 if \"datetime\" is in the next bin relative to \"req_datetime\" and so on\n",
    "gm['12h_bin'] = ((gm['datetime'].dt.floor('12H') - gm['req_datetime'].dt.floor('12H')) / pd.to_timedelta(12, unit=\"h\")).astype(int)\n",
    "# drop duplicates by keeping the last record in a bin for each \"datetime\"\n",
    "gm.drop_duplicates(subset=['datetime', '12h_bin'], keep='last', inplace=True)\n",
    "# sort columns and rows\n",
    "gm = sort_cols_rows(gm)\n",
    "gm.sample(4)"
   ]
  },
  {
   "cell_type": "markdown",
   "metadata": {
    "jp-MarkdownHeadingCollapsed": true,
    "tags": []
   },
   "source": [
    "# rp5 Forecast\n"
   ]
  },
  {
   "cell_type": "markdown",
   "metadata": {},
   "source": [
    "**rp5** (Russian: **РП5**) offers [6-day forecast](https://rp5.ru/%D0%9F%D0%BE%D0%B3%D0%BE%D0%B4%D0%B0_%D0%B2_%D0%9F%D0%BE%D0%BA%D1%80%D0%BE%D0%B2%D1%81%D0%BA%D0%BE%D0%BC,_%D0%90%D1%80%D1%82%D0%B5%D0%BC%D0%BE%D0%B2%D1%81%D0%BA%D0%B8%D0%B9_%D1%80%D0%B0%D0%B9%D0%BE%D0%BD) ([EN](https://rp5.ru/Weather_in_Artyomovsky)) with one hour interval for the first day or two and a three hour interval for the rest (time points are similar to those of Gismeteo). To convert snow precipitation into water we need to [divide by 10](https://rp5.ru/docs/descript/ru) ([EN](https://rp5.ru/docs/descript/en))."
   ]
  },
  {
   "cell_type": "markdown",
   "metadata": {
    "jp-MarkdownHeadingCollapsed": true,
    "tags": []
   },
   "source": [
    "### Russian Version"
   ]
  },
  {
   "cell_type": "markdown",
   "metadata": {},
   "source": [
    "![rp5_1_ru.png](./data/images/rp5_1_ru.png)"
   ]
  },
  {
   "cell_type": "markdown",
   "metadata": {},
   "source": [
    "![rp5_4_ru.png](./data/images/rp5_4_ru.png)"
   ]
  },
  {
   "cell_type": "markdown",
   "metadata": {
    "jp-MarkdownHeadingCollapsed": true,
    "tags": []
   },
   "source": [
    "### English Version"
   ]
  },
  {
   "cell_type": "markdown",
   "metadata": {},
   "source": [
    "![rp5_1_en.png](./data/images/rp5_1_en.png)"
   ]
  },
  {
   "cell_type": "markdown",
   "metadata": {},
   "source": [
    "![rp5_4_en.png](./data/images/rp5_4_en.png)"
   ]
  },
  {
   "cell_type": "markdown",
   "metadata": {
    "jp-MarkdownHeadingCollapsed": true,
    "tags": []
   },
   "source": [
    "### Loading Data"
   ]
  },
  {
   "cell_type": "code",
   "execution_count": 7,
   "metadata": {},
   "outputs": [
    {
     "data": {
      "text/html": [
       "<div>\n",
       "<style scoped>\n",
       "    .dataframe tbody tr th:only-of-type {\n",
       "        vertical-align: middle;\n",
       "    }\n",
       "\n",
       "    .dataframe tbody tr th {\n",
       "        vertical-align: top;\n",
       "    }\n",
       "\n",
       "    .dataframe thead th {\n",
       "        text-align: right;\n",
       "    }\n",
       "</style>\n",
       "<table border=\"1\" class=\"dataframe\">\n",
       "  <thead>\n",
       "    <tr style=\"text-align: right;\">\n",
       "      <th></th>\n",
       "      <th>datetime</th>\n",
       "      <th>req_datetime</th>\n",
       "      <th>12h_bin</th>\n",
       "      <th>temp</th>\n",
       "      <th>feels_like</th>\n",
       "      <th>hum</th>\n",
       "      <th>press</th>\n",
       "      <th>wind_speed</th>\n",
       "      <th>wind_gusts</th>\n",
       "      <th>wind_dir</th>\n",
       "      <th>fog</th>\n",
       "      <th>precip_str</th>\n",
       "      <th>cloud_cover</th>\n",
       "      <th>precip</th>\n",
       "    </tr>\n",
       "  </thead>\n",
       "  <tbody>\n",
       "    <tr>\n",
       "      <th>9660</th>\n",
       "      <td>2022-05-20 17:00:00</td>\n",
       "      <td>2022-05-16 17:25:05</td>\n",
       "      <td>8</td>\n",
       "      <td>13.0</td>\n",
       "      <td>13.0</td>\n",
       "      <td>34.0</td>\n",
       "      <td>743.0</td>\n",
       "      <td>4.0</td>\n",
       "      <td>9.0</td>\n",
       "      <td>270.0</td>\n",
       "      <td>NaN</td>\n",
       "      <td>Явления погоды отсутствуют</td>\n",
       "      <td>Облачно с прояснениями (облака вертикального р...</td>\n",
       "      <td>0.0</td>\n",
       "    </tr>\n",
       "    <tr>\n",
       "      <th>7686</th>\n",
       "      <td>2022-05-05 11:00:00</td>\n",
       "      <td>2022-05-02 05:25:04</td>\n",
       "      <td>6</td>\n",
       "      <td>13.0</td>\n",
       "      <td>13.0</td>\n",
       "      <td>42.0</td>\n",
       "      <td>739.0</td>\n",
       "      <td>8.0</td>\n",
       "      <td>18.0</td>\n",
       "      <td>225.0</td>\n",
       "      <td>NaN</td>\n",
       "      <td>Явления погоды отсутствуют</td>\n",
       "      <td>Пасмурная погода (облака вертикального развити...</td>\n",
       "      <td>0.0</td>\n",
       "    </tr>\n",
       "    <tr>\n",
       "      <th>15605</th>\n",
       "      <td>2022-07-02 05:00:00</td>\n",
       "      <td>2022-06-26 17:25:07</td>\n",
       "      <td>11</td>\n",
       "      <td>9.0</td>\n",
       "      <td>7.0</td>\n",
       "      <td>72.0</td>\n",
       "      <td>744.0</td>\n",
       "      <td>3.0</td>\n",
       "      <td>7.0</td>\n",
       "      <td>270.0</td>\n",
       "      <td>NaN</td>\n",
       "      <td>Явления погоды отсутствуют</td>\n",
       "      <td>Пасмурная погода (облака нижнего яруса 98%, ср...</td>\n",
       "      <td>0.0</td>\n",
       "    </tr>\n",
       "    <tr>\n",
       "      <th>4012</th>\n",
       "      <td>2022-04-08 14:00:00</td>\n",
       "      <td>2022-04-05 17:25:10</td>\n",
       "      <td>6</td>\n",
       "      <td>7.0</td>\n",
       "      <td>5.0</td>\n",
       "      <td>20.0</td>\n",
       "      <td>749.0</td>\n",
       "      <td>3.0</td>\n",
       "      <td>8.0</td>\n",
       "      <td>270.0</td>\n",
       "      <td>NaN</td>\n",
       "      <td>Явления погоды отсутствуют</td>\n",
       "      <td>Ясно (облаков нет)</td>\n",
       "      <td>0.0</td>\n",
       "    </tr>\n",
       "  </tbody>\n",
       "</table>\n",
       "</div>"
      ],
      "text/plain": [
       "                 datetime        req_datetime  12h_bin  temp  feels_like  \\\n",
       "9660  2022-05-20 17:00:00 2022-05-16 17:25:05        8  13.0        13.0   \n",
       "7686  2022-05-05 11:00:00 2022-05-02 05:25:04        6  13.0        13.0   \n",
       "15605 2022-07-02 05:00:00 2022-06-26 17:25:07       11   9.0         7.0   \n",
       "4012  2022-04-08 14:00:00 2022-04-05 17:25:10        6   7.0         5.0   \n",
       "\n",
       "        hum  press  wind_speed  wind_gusts  wind_dir  fog  \\\n",
       "9660   34.0  743.0         4.0         9.0     270.0  NaN   \n",
       "7686   42.0  739.0         8.0        18.0     225.0  NaN   \n",
       "15605  72.0  744.0         3.0         7.0     270.0  NaN   \n",
       "4012   20.0  749.0         3.0         8.0     270.0  NaN   \n",
       "\n",
       "                       precip_str  \\\n",
       "9660   Явления погоды отсутствуют   \n",
       "7686   Явления погоды отсутствуют   \n",
       "15605  Явления погоды отсутствуют   \n",
       "4012   Явления погоды отсутствуют   \n",
       "\n",
       "                                             cloud_cover  precip  \n",
       "9660   Облачно с прояснениями (облака вертикального р...     0.0  \n",
       "7686   Пасмурная погода (облака вертикального развити...     0.0  \n",
       "15605  Пасмурная погода (облака нижнего яруса 98%, ср...     0.0  \n",
       "4012                                  Ясно (облаков нет)     0.0  "
      ]
     },
     "execution_count": 7,
     "metadata": {},
     "output_type": "execute_result"
    }
   ],
   "source": [
    "rp = pd.read_csv(forecast_dir + 'rp5-Погода_в_Артемовском_Свердловская_область.csv',\n",
    "                 sep=\";\",\n",
    "                 parse_dates=[0, 1, 2],\n",
    "                 dtype={3: 'float', 4: 'float', 5: 'float', 6: 'float', 7: 'float', 8: 'float', 10: 'float'},\n",
    "                 na_values=['-'])\n",
    "rp.rename(columns=forecast_cols, inplace=True)\n",
    "# \"upd_datetime\" column can be dropped\n",
    "rp.drop('upd_datetime', axis=1, inplace=True)\n",
    "rp['req_datetime'].fillna(method='ffill', inplace=True)\n",
    "# due to a poorly written script for parsing HTML \n",
    "# forecast data has only four time points for each day (05:00, 11:00, 17:00, 23:00)\n",
    "# before the evening of 2022-03-15\n",
    "rp = rp.loc[rp['req_datetime'] >= '2022-03-16']\n",
    "# drop past records in case if there is any\n",
    "past_filt = rp['req_datetime'] > rp['datetime']\n",
    "rp = rp.loc[~past_filt]\n",
    "# add \"12h_bin\" column indicating bin number\n",
    "rp['12h_bin'] = ((rp['datetime'].dt.floor('12H') - rp['req_datetime'].dt.floor('12H')) / pd.to_timedelta(12, unit=\"h\")).astype(int)\n",
    "# drop duplicates by keeping the last record in a bin for each \"datetime\"\n",
    "rp.drop_duplicates(subset=['datetime', '12h_bin'], keep='last', inplace=True)\n",
    "# convert wind directions into numerical values (degrees)\n",
    "rp['wind_dir'] = rp['wind_dir'].str.replace('-', '').map(wind_dir_to_deg).astype(float)\n",
    "# sort columns and rows\n",
    "rp = sort_cols_rows(rp)\n",
    "# extract precipitation values from \"precip_str\" and convert them in mm\n",
    "precip_pat = r'(?P<amt>[0-9\\.]+)\\s(?P<unit>мм|см)\\s(?P<type>воды|снега)'\n",
    "pat = precip_pat + r'(?P<str_1>.+)за\\s(?P<dur>\\d)\\s[а-я]+\\sс\\s(?P<start>\\d\\d)\\:00\\sдо\\s(?P<end>\\d\\d)\\:00'\n",
    "amnt0 = rp['precip_str'].str.extract(pat, expand=True)\n",
    "amnt1 = amnt0['str_1'].str.extract(precip_pat, expand=True)\n",
    "amnt = amnt0.drop(columns='str_1').merge(amnt1, left_index=True, right_index=True, suffixes=('_0', '_1'))\n",
    "precip_int = amnt['end'].astype(float) - amnt['start'].astype(float)\n",
    "precip_int[precip_int<0] += 24\n",
    "# here we rely on the fact the snowfall is always in cm and we don't need a conversion\n",
    "p0 = amnt['amt_0'].astype(float).fillna(0.0)\n",
    "p1 = amnt['amt_1'].astype(float).fillna(0.0)\n",
    "rp['precip'] = ((p0 + p1) * precip_int / amnt['dur'].astype(float)).fillna(0.0)\n",
    "rp.sample(4)"
   ]
  },
  {
   "cell_type": "markdown",
   "metadata": {
    "jp-MarkdownHeadingCollapsed": true,
    "tags": []
   },
   "source": [
    "# Yandex.Weather Forecast"
   ]
  },
  {
   "cell_type": "markdown",
   "metadata": {},
   "source": [
    "**Yandex.Weather** (Russian: **Яндекс.Погода**) provides [10-day forecast](https://yandex.ru/pogoda/artyomovsky/details) ([EN](https://yandex.com/weather/artyomovsky/details)) with a day divided into [four intervals](https://yandex.ru/pogoda/docs/forecast-periods.html) ([EN](https://yandex.com/weather/docs/forecast-periods.html)): morning (06:00-12:00), day (12:00-18:00), evening (18:00-00:00), night (00:00-06:00)."
   ]
  },
  {
   "cell_type": "markdown",
   "metadata": {
    "jp-MarkdownHeadingCollapsed": true,
    "tags": []
   },
   "source": [
    "### Russian Version"
   ]
  },
  {
   "cell_type": "markdown",
   "metadata": {},
   "source": [
    "Only the first and last days are shown."
   ]
  },
  {
   "cell_type": "markdown",
   "metadata": {},
   "source": [
    "![ya_01_ru.png](./data/images/ya_01_ru.png)"
   ]
  },
  {
   "cell_type": "markdown",
   "metadata": {},
   "source": [
    "![ya_10_ru.png](./data/images/ya_10_ru.png)"
   ]
  },
  {
   "cell_type": "markdown",
   "metadata": {
    "jp-MarkdownHeadingCollapsed": true,
    "tags": []
   },
   "source": [
    "### English Version"
   ]
  },
  {
   "cell_type": "markdown",
   "metadata": {},
   "source": [
    "Only the first and last days are shown."
   ]
  },
  {
   "cell_type": "markdown",
   "metadata": {},
   "source": [
    "![ya_01_en.png](./data/images/ya_01_en.png)"
   ]
  },
  {
   "cell_type": "markdown",
   "metadata": {},
   "source": [
    "![ya_10_en.png](./data/images/ya_10_en.png)"
   ]
  },
  {
   "cell_type": "markdown",
   "metadata": {
    "jp-MarkdownHeadingCollapsed": true,
    "tags": []
   },
   "source": [
    "### Loading Data"
   ]
  },
  {
   "cell_type": "code",
   "execution_count": 8,
   "metadata": {},
   "outputs": [
    {
     "data": {
      "text/html": [
       "<div>\n",
       "<style scoped>\n",
       "    .dataframe tbody tr th:only-of-type {\n",
       "        vertical-align: middle;\n",
       "    }\n",
       "\n",
       "    .dataframe tbody tr th {\n",
       "        vertical-align: top;\n",
       "    }\n",
       "\n",
       "    .dataframe thead th {\n",
       "        text-align: right;\n",
       "    }\n",
       "</style>\n",
       "<table border=\"1\" class=\"dataframe\">\n",
       "  <thead>\n",
       "    <tr style=\"text-align: right;\">\n",
       "      <th></th>\n",
       "      <th>datetime</th>\n",
       "      <th>req_datetime</th>\n",
       "      <th>12h_bin</th>\n",
       "      <th>min_temp</th>\n",
       "      <th>max_temp</th>\n",
       "      <th>feels_like</th>\n",
       "      <th>hum</th>\n",
       "      <th>press</th>\n",
       "      <th>wind_speed</th>\n",
       "      <th>wind_dir</th>\n",
       "      <th>conditions</th>\n",
       "      <th>uv_ind</th>\n",
       "      <th>m_field</th>\n",
       "    </tr>\n",
       "  </thead>\n",
       "  <tbody>\n",
       "    <tr>\n",
       "      <th>4530</th>\n",
       "      <td>2022-04-17 21:00:00</td>\n",
       "      <td>2022-04-15 05:25:02</td>\n",
       "      <td>5</td>\n",
       "      <td>0.0</td>\n",
       "      <td>6.0</td>\n",
       "      <td>-1.0</td>\n",
       "      <td>58.0</td>\n",
       "      <td>749.0</td>\n",
       "      <td>2.3</td>\n",
       "      <td>315.0</td>\n",
       "      <td>Малооблачно</td>\n",
       "      <td>3.0</td>\n",
       "      <td>спокойное</td>\n",
       "    </tr>\n",
       "    <tr>\n",
       "      <th>2880</th>\n",
       "      <td>2022-03-26 09:00:00</td>\n",
       "      <td>2022-03-26 05:32:02</td>\n",
       "      <td>0</td>\n",
       "      <td>-14.0</td>\n",
       "      <td>-4.0</td>\n",
       "      <td>-16.0</td>\n",
       "      <td>62.0</td>\n",
       "      <td>745.0</td>\n",
       "      <td>3.0</td>\n",
       "      <td>270.0</td>\n",
       "      <td>Ясно</td>\n",
       "      <td>2.0</td>\n",
       "      <td>спокойное</td>\n",
       "    </tr>\n",
       "    <tr>\n",
       "      <th>7211</th>\n",
       "      <td>2022-05-20 03:00:00</td>\n",
       "      <td>2022-05-17 17:25:02</td>\n",
       "      <td>5</td>\n",
       "      <td>6.0</td>\n",
       "      <td>6.0</td>\n",
       "      <td>3.0</td>\n",
       "      <td>86.0</td>\n",
       "      <td>734.0</td>\n",
       "      <td>2.1</td>\n",
       "      <td>225.0</td>\n",
       "      <td>Облачно с прояснениями</td>\n",
       "      <td>2.0</td>\n",
       "      <td>спокойное</td>\n",
       "    </tr>\n",
       "    <tr>\n",
       "      <th>8596</th>\n",
       "      <td>2022-06-12 09:00:00</td>\n",
       "      <td>2022-06-03 05:25:03</td>\n",
       "      <td>18</td>\n",
       "      <td>14.0</td>\n",
       "      <td>16.0</td>\n",
       "      <td>14.0</td>\n",
       "      <td>65.0</td>\n",
       "      <td>742.0</td>\n",
       "      <td>1.4</td>\n",
       "      <td>90.0</td>\n",
       "      <td>Небольшой дождь</td>\n",
       "      <td>NaN</td>\n",
       "      <td>NaN</td>\n",
       "    </tr>\n",
       "  </tbody>\n",
       "</table>\n",
       "</div>"
      ],
      "text/plain": [
       "                datetime        req_datetime  12h_bin  min_temp  max_temp  \\\n",
       "4530 2022-04-17 21:00:00 2022-04-15 05:25:02        5       0.0       6.0   \n",
       "2880 2022-03-26 09:00:00 2022-03-26 05:32:02        0     -14.0      -4.0   \n",
       "7211 2022-05-20 03:00:00 2022-05-17 17:25:02        5       6.0       6.0   \n",
       "8596 2022-06-12 09:00:00 2022-06-03 05:25:03       18      14.0      16.0   \n",
       "\n",
       "      feels_like   hum  press  wind_speed  wind_dir              conditions  \\\n",
       "4530        -1.0  58.0  749.0         2.3     315.0             Малооблачно   \n",
       "2880       -16.0  62.0  745.0         3.0     270.0                    Ясно   \n",
       "7211         3.0  86.0  734.0         2.1     225.0  Облачно с прояснениями   \n",
       "8596        14.0  65.0  742.0         1.4      90.0         Небольшой дождь   \n",
       "\n",
       "      uv_ind    m_field  \n",
       "4530     3.0  спокойное  \n",
       "2880     2.0  спокойное  \n",
       "7211     2.0  спокойное  \n",
       "8596     NaN        NaN  "
      ]
     },
     "execution_count": 8,
     "metadata": {},
     "output_type": "execute_result"
    }
   ],
   "source": [
    "ya = pd.read_csv(forecast_dir + 'yandex-artyomovsky.csv',\n",
    "                 sep=';',\n",
    "                 parse_dates=[0, 1],\n",
    "                 dtype={5: 'float', 6: 'float'},\n",
    "                 na_values=['-'])\n",
    "ya.rename(columns=forecast_cols, inplace=True)\n",
    "ya['req_datetime'].fillna(method='ffill', inplace=True)\n",
    "# 03:00, 09:00, 15:00 and 21:00 times are used to define intervals (morning, day, evening and night)\n",
    "# drop records with a request time after the end of an interval\n",
    "past_filt = ya['req_datetime'] > (ya['datetime'] + pd.to_timedelta(3, unit=\"h\"))\n",
    "ya = ya.loc[~past_filt]\n",
    "# add \"12h_bin\" column indicating bin number\n",
    "ya['12h_bin'] = ((ya['datetime'].dt.floor('12H') - ya['req_datetime'].dt.floor('12H')) / pd.to_timedelta(12, unit=\"h\")).astype(int)\n",
    "# drop duplicates by keeping the last record in a bin for each \"datetime\"\n",
    "ya.drop_duplicates(subset=['datetime', '12h_bin'], keep='last', inplace=True)\n",
    "# convert \"wind_speed\" values to float\n",
    "ya['wind_speed'] = ya['wind_speed'].str.replace(',', '.')\n",
    "ya['wind_speed'] = ya['wind_speed'].str.replace('Штиль', '0')\n",
    "ya['wind_speed'] = ya['wind_speed'].astype(float)\n",
    "# convert wind directions into numerical values (degrees)\n",
    "ya['wind_dir'] = ya['wind_dir'].map(wind_dir_to_deg).astype(float)\n",
    "replace_minus_plus(ya, ['min_temp', 'max_temp', 'feels_like'])\n",
    "ya['uv_ind'] = ya['uv_ind'].str.split(pat=',', expand=True)[0].astype(float)\n",
    "# sort columns and rows\n",
    "ya = sort_cols_rows(ya)\n",
    "ya.sample(4)"
   ]
  },
  {
   "cell_type": "markdown",
   "metadata": {
    "tags": []
   },
   "source": [
    "# Forecast by Hydrometeorological Center of Russia (HMCR)"
   ]
  },
  {
   "cell_type": "markdown",
   "metadata": {},
   "source": [
    "The [official website](https://meteoinfo.ru/) of **Hydrometeorological Center of Russia** (Russian: **Гидрометцентр России**) has [two types of weather forecasts](https://meteoinfo.ru/forecasts/russia/sverdlovsk-area/artenovsky) ([EN](https://meteoinfo.ru/en/forecasts-eng/russia/sverdlovsk-area/artenovsky)): 7-day forecast (\"1-week forecast\" or \"Прогноз на 7 дней\" tab) with a day divided into two intervals (day and night) and a 3- to 4-day forecast presented by graphs with three hour intervals (\"GRAPHS\" or \"График\" tab)."
   ]
  },
  {
   "cell_type": "markdown",
   "metadata": {
    "jp-MarkdownHeadingCollapsed": true,
    "tags": []
   },
   "source": [
    "## 1-week Forecast"
   ]
  },
  {
   "cell_type": "markdown",
   "metadata": {
    "jp-MarkdownHeadingCollapsed": true,
    "tags": []
   },
   "source": [
    "### Russian Version"
   ]
  },
  {
   "cell_type": "markdown",
   "metadata": {},
   "source": [
    "![hmcr_w_ru.png](./data/images/hmcr_w_ru.png)"
   ]
  },
  {
   "cell_type": "markdown",
   "metadata": {
    "jp-MarkdownHeadingCollapsed": true,
    "tags": []
   },
   "source": [
    "### English Version"
   ]
  },
  {
   "cell_type": "markdown",
   "metadata": {},
   "source": [
    "![hmcr_w_en.png](./data/images/hmcr_w_en.png)"
   ]
  },
  {
   "cell_type": "markdown",
   "metadata": {
    "jp-MarkdownHeadingCollapsed": true,
    "tags": []
   },
   "source": [
    "### Loading Data"
   ]
  },
  {
   "cell_type": "markdown",
   "metadata": {},
   "source": [
    "Terms \"day\" and \"night\" are not clear despite a reference to a standard ([website](https://meteoinfo.ru/images/media/books-docs/RHM/nast-KPP-2019.pdf) or [local](./data/nast-KPP-2019.pdf)). Definitions on page 9 of the document suggest that a \"day\" is an interval from 9:00 to 17:00 and a \"night\" from 21:00 to 5:00. [meteonovosti.ru](http://www.hmn.ru/index.php?index=41&value=8) also uses terms \"day\" and \"night\" for its forecasts and they are from 09:00 to 21:00 (day) and from 21:00 to 09:00 (night); we will be using these definitions."
   ]
  },
  {
   "cell_type": "code",
   "execution_count": 9,
   "metadata": {},
   "outputs": [
    {
     "data": {
      "text/html": [
       "<div>\n",
       "<style scoped>\n",
       "    .dataframe tbody tr th:only-of-type {\n",
       "        vertical-align: middle;\n",
       "    }\n",
       "\n",
       "    .dataframe tbody tr th {\n",
       "        vertical-align: top;\n",
       "    }\n",
       "\n",
       "    .dataframe thead th {\n",
       "        text-align: right;\n",
       "    }\n",
       "</style>\n",
       "<table border=\"1\" class=\"dataframe\">\n",
       "  <thead>\n",
       "    <tr style=\"text-align: right;\">\n",
       "      <th></th>\n",
       "      <th>datetime</th>\n",
       "      <th>req_datetime</th>\n",
       "      <th>12h_bin</th>\n",
       "      <th>temp</th>\n",
       "      <th>press</th>\n",
       "      <th>wind_speed</th>\n",
       "      <th>wind_dir</th>\n",
       "      <th>precip</th>\n",
       "      <th>precip_prob</th>\n",
       "      <th>conditions</th>\n",
       "    </tr>\n",
       "  </thead>\n",
       "  <tbody>\n",
       "    <tr>\n",
       "      <th>2787</th>\n",
       "      <td>2022-06-12 02:00:00</td>\n",
       "      <td>2022-06-09 05:25:07</td>\n",
       "      <td>6</td>\n",
       "      <td>9.0</td>\n",
       "      <td>736.0</td>\n",
       "      <td>3.0</td>\n",
       "      <td>270.0</td>\n",
       "      <td>0.1</td>\n",
       "      <td>60.0</td>\n",
       "      <td>Облачно, небольшой кратковременный дождь</td>\n",
       "    </tr>\n",
       "    <tr>\n",
       "      <th>3324</th>\n",
       "      <td>2022-07-04 02:00:00</td>\n",
       "      <td>2022-06-29 17:25:06</td>\n",
       "      <td>9</td>\n",
       "      <td>10.0</td>\n",
       "      <td>740.0</td>\n",
       "      <td>3.0</td>\n",
       "      <td>0.0</td>\n",
       "      <td>4.0</td>\n",
       "      <td>79.0</td>\n",
       "      <td>Облачно, дождь</td>\n",
       "    </tr>\n",
       "    <tr>\n",
       "      <th>3373</th>\n",
       "      <td>2022-07-04 14:00:00</td>\n",
       "      <td>2022-07-01 17:25:10</td>\n",
       "      <td>6</td>\n",
       "      <td>17.0</td>\n",
       "      <td>745.0</td>\n",
       "      <td>4.0</td>\n",
       "      <td>0.0</td>\n",
       "      <td>0.3</td>\n",
       "      <td>58.0</td>\n",
       "      <td>Облачно, временами небольшой дождь</td>\n",
       "    </tr>\n",
       "    <tr>\n",
       "      <th>3443</th>\n",
       "      <td>2022-07-10 02:00:00</td>\n",
       "      <td>2022-07-04 05:25:08</td>\n",
       "      <td>12</td>\n",
       "      <td>14.0</td>\n",
       "      <td>748.0</td>\n",
       "      <td>2.0</td>\n",
       "      <td>180.0</td>\n",
       "      <td>0.0</td>\n",
       "      <td>NaN</td>\n",
       "      <td>Небольшая облачность, без осадков</td>\n",
       "    </tr>\n",
       "  </tbody>\n",
       "</table>\n",
       "</div>"
      ],
      "text/plain": [
       "                datetime        req_datetime  12h_bin  temp  press  \\\n",
       "2787 2022-06-12 02:00:00 2022-06-09 05:25:07        6   9.0  736.0   \n",
       "3324 2022-07-04 02:00:00 2022-06-29 17:25:06        9  10.0  740.0   \n",
       "3373 2022-07-04 14:00:00 2022-07-01 17:25:10        6  17.0  745.0   \n",
       "3443 2022-07-10 02:00:00 2022-07-04 05:25:08       12  14.0  748.0   \n",
       "\n",
       "      wind_speed  wind_dir  precip  precip_prob  \\\n",
       "2787         3.0     270.0     0.1         60.0   \n",
       "3324         3.0       0.0     4.0         79.0   \n",
       "3373         4.0       0.0     0.3         58.0   \n",
       "3443         2.0     180.0     0.0          NaN   \n",
       "\n",
       "                                    conditions  \n",
       "2787  Облачно, небольшой кратковременный дождь  \n",
       "3324                            Облачно, дождь  \n",
       "3373        Облачно, временами небольшой дождь  \n",
       "3443         Небольшая облачность, без осадков  "
      ]
     },
     "execution_count": 9,
     "metadata": {},
     "output_type": "execute_result"
    }
   ],
   "source": [
    "mi = pd.read_csv(forecast_dir + 'meteoinfo-russia-sverdlovsk-area-artenovsky.csv',\n",
    "                 sep=\";\",\n",
    "                 parse_dates=[0, 2],\n",
    "                 dtype={3: 'float', 4: 'float', 5: 'float', 7: 'float', 8: 'float'},\n",
    "                 na_values=['-'])\n",
    "mi.rename(columns=forecast_cols, inplace=True)\n",
    "# \"upd_datetime\" column can be dropped\n",
    "mi.drop('upd_datetime', axis=1, inplace=True)\n",
    "mi['req_datetime'].fillna(method='ffill', inplace=True)\n",
    "# 02:00 and 14:00 times are used to define intervals (night and day)\n",
    "# \"temp\" indicates the max temperature for the day interval and the min teperature for the night\n",
    "# drop rows of past data (request time > the end of the interval)\n",
    "past_filt = mi['req_datetime'] > (mi['datetime'] + pd.to_timedelta(7, unit=\"h\"))\n",
    "mi = mi.loc[~past_filt]\n",
    "# add \"12h_bin\" column indicating bin number\n",
    "mi['12h_bin'] = ((mi['datetime'].dt.floor('12H') - mi['req_datetime'].dt.floor('12H')) / pd.to_timedelta(12, unit=\"h\")).astype(int)\n",
    "# drop duplicates by keeping the last record in a bin for each \"datetime\"\n",
    "mi.drop_duplicates(subset=['datetime', '12h_bin'], keep='last', inplace=True)\n",
    "# convert wind directions into numerical values (degrees)\n",
    "mi['wind_dir'] = mi['wind_dir'].str.replace('-', '').map(wind_dir_to_deg).astype(float)\n",
    "# sort columns and rows\n",
    "mi = sort_cols_rows(mi)\n",
    "mi.sample(4)"
   ]
  },
  {
   "cell_type": "markdown",
   "metadata": {
    "jp-MarkdownHeadingCollapsed": true,
    "tags": []
   },
   "source": [
    "## \"Graphs\" Forecast"
   ]
  },
  {
   "cell_type": "markdown",
   "metadata": {
    "jp-MarkdownHeadingCollapsed": true,
    "tags": []
   },
   "source": [
    "### Russian Version"
   ]
  },
  {
   "cell_type": "markdown",
   "metadata": {},
   "source": [
    "![hmcr_g_ru.png](./data/images/hmcr_g_ru.png)"
   ]
  },
  {
   "cell_type": "markdown",
   "metadata": {
    "jp-MarkdownHeadingCollapsed": true,
    "tags": []
   },
   "source": [
    "### English Version"
   ]
  },
  {
   "cell_type": "markdown",
   "metadata": {},
   "source": [
    "![hmcr_g_en.png](./data/images/hmcr_g_en.png)"
   ]
  },
  {
   "cell_type": "markdown",
   "metadata": {
    "jp-MarkdownHeadingCollapsed": true,
    "tags": []
   },
   "source": [
    "### Loading Data"
   ]
  },
  {
   "cell_type": "code",
   "execution_count": 10,
   "metadata": {},
   "outputs": [
    {
     "data": {
      "text/html": [
       "<div>\n",
       "<style scoped>\n",
       "    .dataframe tbody tr th:only-of-type {\n",
       "        vertical-align: middle;\n",
       "    }\n",
       "\n",
       "    .dataframe tbody tr th {\n",
       "        vertical-align: top;\n",
       "    }\n",
       "\n",
       "    .dataframe thead th {\n",
       "        text-align: right;\n",
       "    }\n",
       "</style>\n",
       "<table border=\"1\" class=\"dataframe\">\n",
       "  <thead>\n",
       "    <tr style=\"text-align: right;\">\n",
       "      <th></th>\n",
       "      <th>datetime</th>\n",
       "      <th>req_datetime</th>\n",
       "      <th>12h_bin</th>\n",
       "      <th>temp</th>\n",
       "      <th>hum</th>\n",
       "      <th>press</th>\n",
       "      <th>wind_speed</th>\n",
       "      <th>wind_dir</th>\n",
       "      <th>precip</th>\n",
       "      <th>precip_prob</th>\n",
       "      <th>conditions</th>\n",
       "    </tr>\n",
       "  </thead>\n",
       "  <tbody>\n",
       "    <tr>\n",
       "      <th>10033</th>\n",
       "      <td>2022-08-11 08:00:00</td>\n",
       "      <td>2022-08-11 05:25:06</td>\n",
       "      <td>0</td>\n",
       "      <td>20.6</td>\n",
       "      <td>81.0</td>\n",
       "      <td>748.0</td>\n",
       "      <td>2.0</td>\n",
       "      <td>204.0</td>\n",
       "      <td>0.0</td>\n",
       "      <td>23.0</td>\n",
       "      <td>Переменная облачность, без осадков</td>\n",
       "    </tr>\n",
       "    <tr>\n",
       "      <th>8120</th>\n",
       "      <td>2022-07-10 11:00:00</td>\n",
       "      <td>2022-07-09 17:25:11</td>\n",
       "      <td>1</td>\n",
       "      <td>28.0</td>\n",
       "      <td>67.0</td>\n",
       "      <td>750.0</td>\n",
       "      <td>2.0</td>\n",
       "      <td>355.0</td>\n",
       "      <td>0.0</td>\n",
       "      <td>0.0</td>\n",
       "      <td>Переменная облачность, без осадков</td>\n",
       "    </tr>\n",
       "    <tr>\n",
       "      <th>7102</th>\n",
       "      <td>2022-06-24 17:00:00</td>\n",
       "      <td>2022-06-22 05:25:09</td>\n",
       "      <td>5</td>\n",
       "      <td>23.8</td>\n",
       "      <td>44.0</td>\n",
       "      <td>744.0</td>\n",
       "      <td>3.0</td>\n",
       "      <td>303.0</td>\n",
       "      <td>0.0</td>\n",
       "      <td>5.0</td>\n",
       "      <td>Малооблачно, без осадков</td>\n",
       "    </tr>\n",
       "    <tr>\n",
       "      <th>8385</th>\n",
       "      <td>2022-07-14 20:00:00</td>\n",
       "      <td>2022-07-14 05:25:07</td>\n",
       "      <td>1</td>\n",
       "      <td>24.9</td>\n",
       "      <td>51.0</td>\n",
       "      <td>746.0</td>\n",
       "      <td>2.0</td>\n",
       "      <td>249.0</td>\n",
       "      <td>0.0</td>\n",
       "      <td>31.0</td>\n",
       "      <td>Переменная облачность, без осадков</td>\n",
       "    </tr>\n",
       "  </tbody>\n",
       "</table>\n",
       "</div>"
      ],
      "text/plain": [
       "                 datetime        req_datetime  12h_bin  temp   hum  press  \\\n",
       "10033 2022-08-11 08:00:00 2022-08-11 05:25:06        0  20.6  81.0  748.0   \n",
       "8120  2022-07-10 11:00:00 2022-07-09 17:25:11        1  28.0  67.0  750.0   \n",
       "7102  2022-06-24 17:00:00 2022-06-22 05:25:09        5  23.8  44.0  744.0   \n",
       "8385  2022-07-14 20:00:00 2022-07-14 05:25:07        1  24.9  51.0  746.0   \n",
       "\n",
       "       wind_speed  wind_dir  precip  precip_prob  \\\n",
       "10033         2.0     204.0     0.0         23.0   \n",
       "8120          2.0     355.0     0.0          0.0   \n",
       "7102          3.0     303.0     0.0          5.0   \n",
       "8385          2.0     249.0     0.0         31.0   \n",
       "\n",
       "                               conditions  \n",
       "10033  Переменная облачность, без осадков  \n",
       "8120   Переменная облачность, без осадков  \n",
       "7102             Малооблачно, без осадков  \n",
       "8385   Переменная облачность, без осадков  "
      ]
     },
     "execution_count": 10,
     "metadata": {},
     "output_type": "execute_result"
    }
   ],
   "source": [
    "ms = pd.read_csv(forecast_dir + 'meteoinfo-js-russia-sverdlovsk-area-artenovsky.csv',\n",
    "                 sep=\";\",\n",
    "                 parse_dates=[0, 1],\n",
    "                 dtype={2: 'float', 3: 'float', 4: 'float', 5: 'float', 6: 'float', 8: 'float', 8: 'float'},\n",
    "                 na_values=['-'])\n",
    "ms.rename(columns=forecast_cols, inplace=True)\n",
    "ms['req_datetime'].fillna(method='ffill', inplace=True)\n",
    "# drop rows of past data\n",
    "past_filt = ms['req_datetime'] > ms['datetime']\n",
    "ms = ms.loc[~past_filt]\n",
    "# add \"12h_bin\" column indicating bin number\n",
    "ms['12h_bin'] = ((ms['datetime'].dt.floor('12H') - ms['req_datetime'].dt.floor('12H')) / pd.to_timedelta(12, unit=\"h\")).astype(int)\n",
    "# drop duplicates by keeping the last record in a bin for each \"datetime\"\n",
    "ms.drop_duplicates(subset=['datetime', '12h_bin'], keep='last', inplace=True)\n",
    "# the data already contains wind directions in degrees\n",
    "ms.loc[ms['wind_dir']=='Штиль', 'wind_dir_deg'] = np.nan\n",
    "ms.drop('wind_dir', axis=1, inplace=True)\n",
    "ms.rename(columns={'wind_dir_deg': 'wind_dir'}, inplace=True)\n",
    "# sort columns and rows\n",
    "ms = sort_cols_rows(ms)\n",
    "ms.sample(4)"
   ]
  },
  {
   "cell_type": "markdown",
   "metadata": {
    "tags": []
   },
   "source": [
    "# Comparison of Forecasts"
   ]
  },
  {
   "cell_type": "markdown",
   "metadata": {
    "jp-MarkdownHeadingCollapsed": true,
    "tags": []
   },
   "source": [
    "## Minimum Temperature Before 12:00 and Maximum Temperature After 12:00"
   ]
  },
  {
   "cell_type": "markdown",
   "metadata": {},
   "source": [
    "A day's minimum temperature for this location is usually observed before 12:00 and maximum temperature after 12:00. We can divide a day into these two intervals and search for minimum or maximum temperature in a corresponding interval. Let's start by looking at hours of minimum and maximum temperature records in the historical data."
   ]
  },
  {
   "cell_type": "code",
   "execution_count": 11,
   "metadata": {},
   "outputs": [
    {
     "data": {
      "text/plain": [
       "8     216\n",
       "11     32\n",
       "Name: datetime, dtype: int64"
      ]
     },
     "execution_count": 11,
     "metadata": {},
     "output_type": "execute_result"
    }
   ],
   "source": [
    "hist_temp = hist.loc['2022-01-01':,['temp', 'min_temp_3h', 'max_temp_3h']].asfreq(\"3H\")\n",
    "hist_temp['min_temp_3h'].dropna().index.hour.value_counts()"
   ]
  },
  {
   "cell_type": "code",
   "execution_count": 12,
   "metadata": {},
   "outputs": [
    {
     "data": {
      "text/plain": [
       "20    218\n",
       "17      1\n",
       "Name: datetime, dtype: int64"
      ]
     },
     "execution_count": 12,
     "metadata": {},
     "output_type": "execute_result"
    }
   ],
   "source": [
    "hist_temp['max_temp_3h'].dropna().index.hour.value_counts()"
   ]
  },
  {
   "cell_type": "markdown",
   "metadata": {},
   "source": [
    "As we can see minimum temperatures are mostly observed between 05:00 and 08:00 and maximum temperatures between 17:00 and 20:00. Depending on weather forecast we can extract minimum and maximum temperatures as follows:\n",
    "* **Gismeteo**: choose min value for points in {02:00, 05:00, 08:00, 11:00} and max in {14:00, 17:00, 20:00, 23:00};\n",
    "* **rp5**: choose min value for points in \\[00:00, 12:00) and max in \\[12:00, 24:00);\n",
    "* **Yandex.Weather**: choose min value in {night, morning} and max in {day, evening};\n",
    "* **HMCR (1-week)**: min and max values are already provided;\n",
    "* **HMCR (Graphs)**: the same as for Gismeteo."
   ]
  },
  {
   "cell_type": "code",
   "execution_count": 13,
   "metadata": {},
   "outputs": [],
   "source": [
    "# get dataframes with min and max temperatures for each forecast\n",
    "gm_min, gm_max = get_min_max_temp(gm)\n",
    "rp_min, rp_max = get_min_max_temp(rp)\n",
    "mi_min, mi_max = get_min_max_temp(mi)\n",
    "ms_min, ms_max = get_min_max_temp(ms)\n",
    "ya_min = get_min_max_temp(ya, col='min_temp', new_col_name='temp', which='min')\n",
    "ya_max = get_min_max_temp(ya, col='max_temp', new_col_name='temp', which='max')\n",
    "# merge all forecasts of min/max temp into min_temp/max_temp dataframe \n",
    "min_temp = merge_dfs({'gismeteo': gm_min, 'rp5': rp_min, 'yandex': ya_min, 'hmcr_w': mi_min, 'hmcr_g': ms_min},\n",
    "                     col='temp',\n",
    "                     col_keys=['date', '12h_bin'],\n",
    "                     how='outer')\n",
    "max_temp = merge_dfs({'gismeteo': gm_max, 'rp5': rp_max, 'yandex': ya_max, 'hmcr_w': mi_max, 'hmcr_g': ms_max},\n",
    "                     col='temp',\n",
    "                     col_keys=['date', '12h_bin'],\n",
    "                     how='outer')\n",
    "# select min and max temperatures from the historical weather dataset\n",
    "# this actually looks for the min value in (23:00, 11:00] and the max value in (11:00, 23:00]\n",
    "# but this is OK because we saw when those values are mostly recorded\n",
    "min_hist_temp = hist_temp.loc[hist_temp.index.hour < 12, ['min_temp_3h']]\n",
    "min_hist_temp = min_hist_temp.groupby(min_hist_temp.index.date).min().reset_index()\n",
    "min_hist_temp.rename(columns={'index': 'date', 'min_temp_3h': 'hist'}, inplace=True)\n",
    "max_hist_temp = hist_temp.loc[hist_temp.index.hour > 12, ['max_temp_3h']]\n",
    "max_hist_temp = max_hist_temp.groupby(max_hist_temp.index.date).max().reset_index()\n",
    "max_hist_temp.rename(columns={'index': 'date', 'max_temp_3h': 'hist'}, inplace=True)\n",
    "# add \"hist\" column containing historical values\n",
    "min_temp = min_temp.merge(min_hist_temp, how='left', left_on='date', right_on='date')\n",
    "max_temp = max_temp.merge(max_hist_temp, how='left', left_on='date', right_on='date')\n",
    "# subtract historical values from forecasted ones\n",
    "# and convert \"date\" column to datetime data type\n",
    "for col in ['gismeteo', 'rp5', 'yandex', 'hmcr_w', 'hmcr_g']:\n",
    "    min_temp[col] = min_temp[col] - min_temp['hist']\n",
    "    max_temp[col] = max_temp[col] - max_temp['hist']\n",
    "min_temp['date'] = pd.to_datetime(min_temp['date'])\n",
    "max_temp['date'] = pd.to_datetime(max_temp['date'])"
   ]
  },
  {
   "cell_type": "markdown",
   "metadata": {},
   "source": [
    "**min_temp** and **max_temp** dataframes contain differences between forecast temperatures and actual ones."
   ]
  },
  {
   "cell_type": "code",
   "execution_count": 14,
   "metadata": {},
   "outputs": [
    {
     "data": {
      "text/html": [
       "<div>\n",
       "<style scoped>\n",
       "    .dataframe tbody tr th:only-of-type {\n",
       "        vertical-align: middle;\n",
       "    }\n",
       "\n",
       "    .dataframe tbody tr th {\n",
       "        vertical-align: top;\n",
       "    }\n",
       "\n",
       "    .dataframe thead th {\n",
       "        text-align: right;\n",
       "    }\n",
       "</style>\n",
       "<table border=\"1\" class=\"dataframe\">\n",
       "  <thead>\n",
       "    <tr style=\"text-align: right;\">\n",
       "      <th></th>\n",
       "      <th>date</th>\n",
       "      <th>12h_bin</th>\n",
       "      <th>gismeteo</th>\n",
       "      <th>rp5</th>\n",
       "      <th>yandex</th>\n",
       "      <th>hmcr_w</th>\n",
       "      <th>hmcr_g</th>\n",
       "      <th>hist</th>\n",
       "    </tr>\n",
       "  </thead>\n",
       "  <tbody>\n",
       "    <tr>\n",
       "      <th>771</th>\n",
       "      <td>2022-04-06</td>\n",
       "      <td>3</td>\n",
       "      <td>0.9</td>\n",
       "      <td>-2.1</td>\n",
       "      <td>-0.1</td>\n",
       "      <td>-3.1</td>\n",
       "      <td>-2.3</td>\n",
       "      <td>-1.9</td>\n",
       "    </tr>\n",
       "    <tr>\n",
       "      <th>1835</th>\n",
       "      <td>2022-06-04</td>\n",
       "      <td>1</td>\n",
       "      <td>-0.6</td>\n",
       "      <td>-0.6</td>\n",
       "      <td>1.4</td>\n",
       "      <td>-1.6</td>\n",
       "      <td>-0.3</td>\n",
       "      <td>6.6</td>\n",
       "    </tr>\n",
       "    <tr>\n",
       "      <th>2173</th>\n",
       "      <td>2022-06-23</td>\n",
       "      <td>5</td>\n",
       "      <td>-1.6</td>\n",
       "      <td>-0.6</td>\n",
       "      <td>0.4</td>\n",
       "      <td>-0.6</td>\n",
       "      <td>0.3</td>\n",
       "      <td>13.6</td>\n",
       "    </tr>\n",
       "    <tr>\n",
       "      <th>3599</th>\n",
       "      <td>2022-08-08</td>\n",
       "      <td>19</td>\n",
       "      <td>NaN</td>\n",
       "      <td>NaN</td>\n",
       "      <td>1.8</td>\n",
       "      <td>NaN</td>\n",
       "      <td>NaN</td>\n",
       "      <td>13.2</td>\n",
       "    </tr>\n",
       "  </tbody>\n",
       "</table>\n",
       "</div>"
      ],
      "text/plain": [
       "           date  12h_bin  gismeteo  rp5  yandex  hmcr_w  hmcr_g  hist\n",
       "771  2022-04-06        3       0.9 -2.1    -0.1    -3.1    -2.3  -1.9\n",
       "1835 2022-06-04        1      -0.6 -0.6     1.4    -1.6    -0.3   6.6\n",
       "2173 2022-06-23        5      -1.6 -0.6     0.4    -0.6     0.3  13.6\n",
       "3599 2022-08-08       19       NaN  NaN     1.8     NaN     NaN  13.2"
      ]
     },
     "execution_count": 14,
     "metadata": {},
     "output_type": "execute_result"
    }
   ],
   "source": [
    "min_temp.sample(4)"
   ]
  },
  {
   "cell_type": "code",
   "execution_count": 15,
   "metadata": {},
   "outputs": [
    {
     "data": {
      "text/html": [
       "<div>\n",
       "<style scoped>\n",
       "    .dataframe tbody tr th:only-of-type {\n",
       "        vertical-align: middle;\n",
       "    }\n",
       "\n",
       "    .dataframe tbody tr th {\n",
       "        vertical-align: top;\n",
       "    }\n",
       "\n",
       "    .dataframe thead th {\n",
       "        text-align: right;\n",
       "    }\n",
       "</style>\n",
       "<table border=\"1\" class=\"dataframe\">\n",
       "  <thead>\n",
       "    <tr style=\"text-align: right;\">\n",
       "      <th></th>\n",
       "      <th>date</th>\n",
       "      <th>12h_bin</th>\n",
       "      <th>gismeteo</th>\n",
       "      <th>rp5</th>\n",
       "      <th>yandex</th>\n",
       "      <th>hmcr_w</th>\n",
       "      <th>hmcr_g</th>\n",
       "      <th>hist</th>\n",
       "    </tr>\n",
       "  </thead>\n",
       "  <tbody>\n",
       "    <tr>\n",
       "      <th>1436</th>\n",
       "      <td>2022-05-09</td>\n",
       "      <td>13</td>\n",
       "      <td>-2.8</td>\n",
       "      <td>NaN</td>\n",
       "      <td>-1.8</td>\n",
       "      <td>-2.8</td>\n",
       "      <td>NaN</td>\n",
       "      <td>21.8</td>\n",
       "    </tr>\n",
       "    <tr>\n",
       "      <th>572</th>\n",
       "      <td>2022-03-24</td>\n",
       "      <td>3</td>\n",
       "      <td>-4.5</td>\n",
       "      <td>-3.5</td>\n",
       "      <td>-2.5</td>\n",
       "      <td>-2.5</td>\n",
       "      <td>-2.9</td>\n",
       "      <td>6.5</td>\n",
       "    </tr>\n",
       "    <tr>\n",
       "      <th>604</th>\n",
       "      <td>2022-03-26</td>\n",
       "      <td>9</td>\n",
       "      <td>0.1</td>\n",
       "      <td>-0.9</td>\n",
       "      <td>2.1</td>\n",
       "      <td>3.1</td>\n",
       "      <td>NaN</td>\n",
       "      <td>-2.1</td>\n",
       "    </tr>\n",
       "    <tr>\n",
       "      <th>1207</th>\n",
       "      <td>2022-04-27</td>\n",
       "      <td>14</td>\n",
       "      <td>-10.8</td>\n",
       "      <td>NaN</td>\n",
       "      <td>-7.8</td>\n",
       "      <td>NaN</td>\n",
       "      <td>NaN</td>\n",
       "      <td>24.8</td>\n",
       "    </tr>\n",
       "  </tbody>\n",
       "</table>\n",
       "</div>"
      ],
      "text/plain": [
       "           date  12h_bin  gismeteo  rp5  yandex  hmcr_w  hmcr_g  hist\n",
       "1436 2022-05-09       13      -2.8  NaN    -1.8    -2.8     NaN  21.8\n",
       "572  2022-03-24        3      -4.5 -3.5    -2.5    -2.5    -2.9   6.5\n",
       "604  2022-03-26        9       0.1 -0.9     2.1     3.1     NaN  -2.1\n",
       "1207 2022-04-27       14     -10.8  NaN    -7.8     NaN     NaN  24.8"
      ]
     },
     "execution_count": 15,
     "metadata": {},
     "output_type": "execute_result"
    }
   ],
   "source": [
    "max_temp.sample(4)"
   ]
  },
  {
   "cell_type": "markdown",
   "metadata": {
    "jp-MarkdownHeadingCollapsed": true,
    "tags": []
   },
   "source": [
    "## Weather Parameters at 02:00, 05:00, 08:00, 11:00, 14:00, 17:00, 20:00 and 23:00"
   ]
  },
  {
   "cell_type": "markdown",
   "metadata": {},
   "source": [
    "3 out of 5 abovementioned weather forecasts offer forecast for hours of 02:00, 05:00, 08:00, 11:00, 14:00, 17:00, 20:00 and 23:00 (Yandex.Weather gives values for four intervals in a day and 1-week forecast by HMCR for two intervals). Historical records are also provided at this time points. Let's take a look at some weather parameters that we can compare:\n",
    "* **Temperature**: Gismeteo, rp5, HMCR (Graphs);\n",
    "* **Atmospheric pressure**: Gismeteo, rp5, Yandex.Weather, HMCR (1-week), HMCR (Graphs);\n",
    "* **Relative humidity**: Gismeteo, rp5, Yandex.Weather, HMCR (Graphs);\n",
    "* **Wind speed & direction**: Gismeteo, rp5, Yandex.Weather, HMCR (1-week), HMCR (Graphs)."
   ]
  },
  {
   "cell_type": "markdown",
   "metadata": {
    "jp-MarkdownHeadingCollapsed": true,
    "tags": []
   },
   "source": [
    "### Extracting Parameters Into Separate Dataframes"
   ]
  },
  {
   "cell_type": "markdown",
   "metadata": {},
   "source": [
    "**Gismeteo** forecast has all needed parameters at desired time points."
   ]
  },
  {
   "cell_type": "code",
   "execution_count": 16,
   "metadata": {},
   "outputs": [
    {
     "data": {
      "text/html": [
       "<div>\n",
       "<style scoped>\n",
       "    .dataframe tbody tr th:only-of-type {\n",
       "        vertical-align: middle;\n",
       "    }\n",
       "\n",
       "    .dataframe tbody tr th {\n",
       "        vertical-align: top;\n",
       "    }\n",
       "\n",
       "    .dataframe thead th {\n",
       "        text-align: right;\n",
       "    }\n",
       "</style>\n",
       "<table border=\"1\" class=\"dataframe\">\n",
       "  <thead>\n",
       "    <tr style=\"text-align: right;\">\n",
       "      <th></th>\n",
       "      <th>datetime</th>\n",
       "      <th>12h_bin</th>\n",
       "      <th>temp</th>\n",
       "      <th>hum</th>\n",
       "      <th>press</th>\n",
       "      <th>wind_speed</th>\n",
       "      <th>wind_dir</th>\n",
       "    </tr>\n",
       "  </thead>\n",
       "  <tbody>\n",
       "    <tr>\n",
       "      <th>11408</th>\n",
       "      <td>2022-05-05 02:00:00</td>\n",
       "      <td>11</td>\n",
       "      <td>7.0</td>\n",
       "      <td>70.0</td>\n",
       "      <td>739.0</td>\n",
       "      <td>3.0</td>\n",
       "      <td>180.0</td>\n",
       "    </tr>\n",
       "    <tr>\n",
       "      <th>16601</th>\n",
       "      <td>2022-06-05 05:00:00</td>\n",
       "      <td>10</td>\n",
       "      <td>14.0</td>\n",
       "      <td>95.0</td>\n",
       "      <td>747.0</td>\n",
       "      <td>2.0</td>\n",
       "      <td>180.0</td>\n",
       "    </tr>\n",
       "    <tr>\n",
       "      <th>7910</th>\n",
       "      <td>2022-04-15 20:00:00</td>\n",
       "      <td>16</td>\n",
       "      <td>4.0</td>\n",
       "      <td>90.0</td>\n",
       "      <td>738.0</td>\n",
       "      <td>5.0</td>\n",
       "      <td>0.0</td>\n",
       "    </tr>\n",
       "    <tr>\n",
       "      <th>6642</th>\n",
       "      <td>2022-03-31 08:00:00</td>\n",
       "      <td>0</td>\n",
       "      <td>-5.0</td>\n",
       "      <td>81.0</td>\n",
       "      <td>749.0</td>\n",
       "      <td>3.0</td>\n",
       "      <td>225.0</td>\n",
       "    </tr>\n",
       "  </tbody>\n",
       "</table>\n",
       "</div>"
      ],
      "text/plain": [
       "                 datetime  12h_bin  temp   hum  press  wind_speed  wind_dir\n",
       "11408 2022-05-05 02:00:00       11   7.0  70.0  739.0         3.0     180.0\n",
       "16601 2022-06-05 05:00:00       10  14.0  95.0  747.0         2.0     180.0\n",
       "7910  2022-04-15 20:00:00       16   4.0  90.0  738.0         5.0       0.0\n",
       "6642  2022-03-31 08:00:00        0  -5.0  81.0  749.0         3.0     225.0"
      ]
     },
     "execution_count": 16,
     "metadata": {},
     "output_type": "execute_result"
    }
   ],
   "source": [
    "gm_8 = gm[['datetime', '12h_bin', 'temp', 'hum', 'press', 'wind_speed', 'wind_dir']].copy()\n",
    "gm_8.sample(4)"
   ]
  },
  {
   "cell_type": "markdown",
   "metadata": {},
   "source": [
    "**rp5** also has all listed parameters although we need to filter desired time points."
   ]
  },
  {
   "cell_type": "code",
   "execution_count": 17,
   "metadata": {},
   "outputs": [
    {
     "data": {
      "text/html": [
       "<div>\n",
       "<style scoped>\n",
       "    .dataframe tbody tr th:only-of-type {\n",
       "        vertical-align: middle;\n",
       "    }\n",
       "\n",
       "    .dataframe tbody tr th {\n",
       "        vertical-align: top;\n",
       "    }\n",
       "\n",
       "    .dataframe thead th {\n",
       "        text-align: right;\n",
       "    }\n",
       "</style>\n",
       "<table border=\"1\" class=\"dataframe\">\n",
       "  <thead>\n",
       "    <tr style=\"text-align: right;\">\n",
       "      <th></th>\n",
       "      <th>datetime</th>\n",
       "      <th>12h_bin</th>\n",
       "      <th>temp</th>\n",
       "      <th>hum</th>\n",
       "      <th>press</th>\n",
       "      <th>wind_speed</th>\n",
       "      <th>wind_dir</th>\n",
       "    </tr>\n",
       "  </thead>\n",
       "  <tbody>\n",
       "    <tr>\n",
       "      <th>22459</th>\n",
       "      <td>2022-08-16 11:00:00</td>\n",
       "      <td>0</td>\n",
       "      <td>20.0</td>\n",
       "      <td>43.0</td>\n",
       "      <td>753.0</td>\n",
       "      <td>4.0</td>\n",
       "      <td>315.0</td>\n",
       "    </tr>\n",
       "    <tr>\n",
       "      <th>2739</th>\n",
       "      <td>2022-04-01 23:00:00</td>\n",
       "      <td>10</td>\n",
       "      <td>-6.0</td>\n",
       "      <td>61.0</td>\n",
       "      <td>754.0</td>\n",
       "      <td>2.0</td>\n",
       "      <td>270.0</td>\n",
       "    </tr>\n",
       "    <tr>\n",
       "      <th>10641</th>\n",
       "      <td>2022-05-27 02:00:00</td>\n",
       "      <td>7</td>\n",
       "      <td>6.0</td>\n",
       "      <td>71.0</td>\n",
       "      <td>741.0</td>\n",
       "      <td>4.0</td>\n",
       "      <td>225.0</td>\n",
       "    </tr>\n",
       "    <tr>\n",
       "      <th>18780</th>\n",
       "      <td>2022-07-26 02:00:00</td>\n",
       "      <td>10</td>\n",
       "      <td>17.0</td>\n",
       "      <td>91.0</td>\n",
       "      <td>741.0</td>\n",
       "      <td>2.0</td>\n",
       "      <td>270.0</td>\n",
       "    </tr>\n",
       "  </tbody>\n",
       "</table>\n",
       "</div>"
      ],
      "text/plain": [
       "                 datetime  12h_bin  temp   hum  press  wind_speed  wind_dir\n",
       "22459 2022-08-16 11:00:00        0  20.0  43.0  753.0         4.0     315.0\n",
       "2739  2022-04-01 23:00:00       10  -6.0  61.0  754.0         2.0     270.0\n",
       "10641 2022-05-27 02:00:00        7   6.0  71.0  741.0         4.0     225.0\n",
       "18780 2022-07-26 02:00:00       10  17.0  91.0  741.0         2.0     270.0"
      ]
     },
     "execution_count": 17,
     "metadata": {},
     "output_type": "execute_result"
    }
   ],
   "source": [
    "hours = rp['datetime'].dt.hour.isin([2, 5, 8, 11, 14, 17, 20, 23])\n",
    "rp_8 = rp.loc[hours, ['datetime', '12h_bin', 'temp', 'hum', 'press', 'wind_speed', 'wind_dir']].copy()\n",
    "rp_8.sample(4)"
   ]
  },
  {
   "cell_type": "markdown",
   "metadata": {},
   "source": [
    "**Yandex.Weather** gives one value per interval for all parameters except the temperature. We will ignore the temperature and assign one value of each of the remaining parameters for an interval to two time points that are inside of that interval (e.g., assign morning value to 08:00 and 11:00 points)."
   ]
  },
  {
   "cell_type": "code",
   "execution_count": 18,
   "metadata": {},
   "outputs": [
    {
     "data": {
      "text/html": [
       "<div>\n",
       "<style scoped>\n",
       "    .dataframe tbody tr th:only-of-type {\n",
       "        vertical-align: middle;\n",
       "    }\n",
       "\n",
       "    .dataframe tbody tr th {\n",
       "        vertical-align: top;\n",
       "    }\n",
       "\n",
       "    .dataframe thead th {\n",
       "        text-align: right;\n",
       "    }\n",
       "</style>\n",
       "<table border=\"1\" class=\"dataframe\">\n",
       "  <thead>\n",
       "    <tr style=\"text-align: right;\">\n",
       "      <th></th>\n",
       "      <th>datetime</th>\n",
       "      <th>12h_bin</th>\n",
       "      <th>hum</th>\n",
       "      <th>press</th>\n",
       "      <th>wind_speed</th>\n",
       "      <th>wind_dir</th>\n",
       "    </tr>\n",
       "  </thead>\n",
       "  <tbody>\n",
       "    <tr>\n",
       "      <th>11135</th>\n",
       "      <td>2022-07-09 02:00:00</td>\n",
       "      <td>8</td>\n",
       "      <td>87.0</td>\n",
       "      <td>747.0</td>\n",
       "      <td>0.8</td>\n",
       "      <td>270.0</td>\n",
       "    </tr>\n",
       "    <tr>\n",
       "      <th>8937</th>\n",
       "      <td>2022-06-11 17:00:00</td>\n",
       "      <td>8</td>\n",
       "      <td>65.0</td>\n",
       "      <td>739.0</td>\n",
       "      <td>2.5</td>\n",
       "      <td>270.0</td>\n",
       "    </tr>\n",
       "    <tr>\n",
       "      <th>3593</th>\n",
       "      <td>2022-04-11 17:00:00</td>\n",
       "      <td>17</td>\n",
       "      <td>57.0</td>\n",
       "      <td>743.0</td>\n",
       "      <td>2.1</td>\n",
       "      <td>225.0</td>\n",
       "    </tr>\n",
       "    <tr>\n",
       "      <th>5991</th>\n",
       "      <td>2022-05-10 05:00:00</td>\n",
       "      <td>15</td>\n",
       "      <td>65.0</td>\n",
       "      <td>750.0</td>\n",
       "      <td>0.5</td>\n",
       "      <td>180.0</td>\n",
       "    </tr>\n",
       "  </tbody>\n",
       "</table>\n",
       "</div>"
      ],
      "text/plain": [
       "                 datetime  12h_bin   hum  press  wind_speed  wind_dir\n",
       "11135 2022-07-09 02:00:00        8  87.0  747.0         0.8     270.0\n",
       "8937  2022-06-11 17:00:00        8  65.0  739.0         2.5     270.0\n",
       "3593  2022-04-11 17:00:00       17  57.0  743.0         2.1     225.0\n",
       "5991  2022-05-10 05:00:00       15  65.0  750.0         0.5     180.0"
      ]
     },
     "execution_count": 18,
     "metadata": {},
     "output_type": "execute_result"
    }
   ],
   "source": [
    "# create records at required time points for Yandex.Weather\n",
    "ya_8 = ya[['datetime', 'req_datetime', '12h_bin', 'hum', 'press', 'wind_speed', 'wind_dir']].copy()\n",
    "ya_8['datetime'] = ya_8['datetime'] - pd.to_timedelta(1, unit=\"h\")\n",
    "ya_8_copy = ya_8.copy()\n",
    "ya_8_copy['datetime'] = ya_8_copy['datetime'] + pd.to_timedelta(3, unit=\"h\")\n",
    "ya_8 = pd.concat([ya_8, ya_8_copy], ignore_index=False)\n",
    "past_filt = ya_8['datetime'] < ya_8['req_datetime']\n",
    "ya_8 = ya_8.loc[~past_filt]\n",
    "ya_8.drop(columns=['req_datetime'], inplace=True)\n",
    "ya_8.sample(4)"
   ]
  },
  {
   "cell_type": "markdown",
   "metadata": {},
   "source": [
    "**1-week** forecast by **HMCR** does not have values for relative humidity. As in the case of Yandex.Weather we will not use the temperature. Values at 23:00, 02:00, 05:00, 08:00 correspond to a \"day\" interval and the remaining to a \"night\" one."
   ]
  },
  {
   "cell_type": "code",
   "execution_count": 19,
   "metadata": {},
   "outputs": [
    {
     "data": {
      "text/html": [
       "<div>\n",
       "<style scoped>\n",
       "    .dataframe tbody tr th:only-of-type {\n",
       "        vertical-align: middle;\n",
       "    }\n",
       "\n",
       "    .dataframe tbody tr th {\n",
       "        vertical-align: top;\n",
       "    }\n",
       "\n",
       "    .dataframe thead th {\n",
       "        text-align: right;\n",
       "    }\n",
       "</style>\n",
       "<table border=\"1\" class=\"dataframe\">\n",
       "  <thead>\n",
       "    <tr style=\"text-align: right;\">\n",
       "      <th></th>\n",
       "      <th>datetime</th>\n",
       "      <th>12h_bin</th>\n",
       "      <th>press</th>\n",
       "      <th>wind_speed</th>\n",
       "      <th>wind_dir</th>\n",
       "    </tr>\n",
       "  </thead>\n",
       "  <tbody>\n",
       "    <tr>\n",
       "      <th>895</th>\n",
       "      <td>2022-04-04 08:00:00</td>\n",
       "      <td>11</td>\n",
       "      <td>735.0</td>\n",
       "      <td>3.0</td>\n",
       "      <td>180.0</td>\n",
       "    </tr>\n",
       "    <tr>\n",
       "      <th>1050</th>\n",
       "      <td>2022-04-09 20:00:00</td>\n",
       "      <td>11</td>\n",
       "      <td>749.0</td>\n",
       "      <td>3.0</td>\n",
       "      <td>180.0</td>\n",
       "    </tr>\n",
       "    <tr>\n",
       "      <th>2342</th>\n",
       "      <td>2022-05-24 17:00:00</td>\n",
       "      <td>2</td>\n",
       "      <td>743.0</td>\n",
       "      <td>2.0</td>\n",
       "      <td>180.0</td>\n",
       "    </tr>\n",
       "    <tr>\n",
       "      <th>1919</th>\n",
       "      <td>2022-05-11 17:00:00</td>\n",
       "      <td>9</td>\n",
       "      <td>743.0</td>\n",
       "      <td>4.0</td>\n",
       "      <td>270.0</td>\n",
       "    </tr>\n",
       "  </tbody>\n",
       "</table>\n",
       "</div>"
      ],
      "text/plain": [
       "                datetime  12h_bin  press  wind_speed  wind_dir\n",
       "895  2022-04-04 08:00:00       11  735.0         3.0     180.0\n",
       "1050 2022-04-09 20:00:00       11  749.0         3.0     180.0\n",
       "2342 2022-05-24 17:00:00        2  743.0         2.0     180.0\n",
       "1919 2022-05-11 17:00:00        9  743.0         4.0     270.0"
      ]
     },
     "execution_count": 19,
     "metadata": {},
     "output_type": "execute_result"
    }
   ],
   "source": [
    "mi_8 = mi[['datetime', 'req_datetime', '12h_bin', 'press', 'wind_speed', 'wind_dir']].copy()\n",
    "# values at 11:00 and 23:00 (bins change)\n",
    "mi_8_11_23 = mi_8.copy()\n",
    "mi_8_11_23['datetime'] = mi_8_11_23['datetime'] - pd.to_timedelta(3, unit=\"h\")\n",
    "mi_8_11_23['12h_bin'] = mi_8_11_23['12h_bin'] - 1\n",
    "# values at 05:00 and 17:00 \n",
    "mi_8_5_17 = mi_8.copy()\n",
    "mi_8_5_17['datetime'] = mi_8_5_17['datetime'] + pd.to_timedelta(3, unit=\"h\")\n",
    "# values at 08:00 and 20:00 \n",
    "mi_8_8_20 = mi_8.copy()\n",
    "mi_8_8_20['datetime'] = mi_8_8_20['datetime'] + pd.to_timedelta(6, unit=\"h\")\n",
    "# concatenate all four dataframes\n",
    "mi_8 = pd.concat([mi_8, mi_8_11_23, mi_8_5_17, mi_8_8_20], ignore_index=False)\n",
    "past_filt = mi_8['datetime'] < mi_8['req_datetime']\n",
    "mi_8 = mi_8.loc[~past_filt]\n",
    "mi_8.drop(columns=['req_datetime'], inplace=True)\n",
    "mi_8.sample(4)"
   ]
  },
  {
   "cell_type": "markdown",
   "metadata": {},
   "source": [
    "**\"Graphs\"** forecast by **HMCR** has all parameters."
   ]
  },
  {
   "cell_type": "code",
   "execution_count": 20,
   "metadata": {},
   "outputs": [
    {
     "data": {
      "text/html": [
       "<div>\n",
       "<style scoped>\n",
       "    .dataframe tbody tr th:only-of-type {\n",
       "        vertical-align: middle;\n",
       "    }\n",
       "\n",
       "    .dataframe tbody tr th {\n",
       "        vertical-align: top;\n",
       "    }\n",
       "\n",
       "    .dataframe thead th {\n",
       "        text-align: right;\n",
       "    }\n",
       "</style>\n",
       "<table border=\"1\" class=\"dataframe\">\n",
       "  <thead>\n",
       "    <tr style=\"text-align: right;\">\n",
       "      <th></th>\n",
       "      <th>datetime</th>\n",
       "      <th>12h_bin</th>\n",
       "      <th>temp</th>\n",
       "      <th>hum</th>\n",
       "      <th>press</th>\n",
       "      <th>wind_speed</th>\n",
       "      <th>wind_dir</th>\n",
       "    </tr>\n",
       "  </thead>\n",
       "  <tbody>\n",
       "    <tr>\n",
       "      <th>4411</th>\n",
       "      <td>2022-05-09 23:00:00</td>\n",
       "      <td>3</td>\n",
       "      <td>10.3</td>\n",
       "      <td>43.0</td>\n",
       "      <td>750.0</td>\n",
       "      <td>3.0</td>\n",
       "      <td>114.0</td>\n",
       "    </tr>\n",
       "    <tr>\n",
       "      <th>4794</th>\n",
       "      <td>2022-05-16 08:00:00</td>\n",
       "      <td>3</td>\n",
       "      <td>11.6</td>\n",
       "      <td>61.0</td>\n",
       "      <td>735.0</td>\n",
       "      <td>2.0</td>\n",
       "      <td>208.0</td>\n",
       "    </tr>\n",
       "    <tr>\n",
       "      <th>5503</th>\n",
       "      <td>2022-05-27 20:00:00</td>\n",
       "      <td>3</td>\n",
       "      <td>13.3</td>\n",
       "      <td>55.0</td>\n",
       "      <td>745.0</td>\n",
       "      <td>3.0</td>\n",
       "      <td>298.0</td>\n",
       "    </tr>\n",
       "    <tr>\n",
       "      <th>7682</th>\n",
       "      <td>2022-07-03 11:00:00</td>\n",
       "      <td>2</td>\n",
       "      <td>20.0</td>\n",
       "      <td>66.0</td>\n",
       "      <td>744.0</td>\n",
       "      <td>3.0</td>\n",
       "      <td>329.0</td>\n",
       "    </tr>\n",
       "  </tbody>\n",
       "</table>\n",
       "</div>"
      ],
      "text/plain": [
       "                datetime  12h_bin  temp   hum  press  wind_speed  wind_dir\n",
       "4411 2022-05-09 23:00:00        3  10.3  43.0  750.0         3.0     114.0\n",
       "4794 2022-05-16 08:00:00        3  11.6  61.0  735.0         2.0     208.0\n",
       "5503 2022-05-27 20:00:00        3  13.3  55.0  745.0         3.0     298.0\n",
       "7682 2022-07-03 11:00:00        2  20.0  66.0  744.0         3.0     329.0"
      ]
     },
     "execution_count": 20,
     "metadata": {},
     "output_type": "execute_result"
    }
   ],
   "source": [
    "ms_8 = ms[['datetime', '12h_bin', 'temp', 'hum', 'press', 'wind_speed', 'wind_dir']].copy()\n",
    "ms_8.sample(4)"
   ]
  },
  {
   "cell_type": "markdown",
   "metadata": {},
   "source": [
    "Wind speed and directions in **the historical dataset** are average 10-minute values which we will use for comparison."
   ]
  },
  {
   "cell_type": "code",
   "execution_count": 21,
   "metadata": {},
   "outputs": [
    {
     "data": {
      "text/html": [
       "<div>\n",
       "<style scoped>\n",
       "    .dataframe tbody tr th:only-of-type {\n",
       "        vertical-align: middle;\n",
       "    }\n",
       "\n",
       "    .dataframe tbody tr th {\n",
       "        vertical-align: top;\n",
       "    }\n",
       "\n",
       "    .dataframe thead th {\n",
       "        text-align: right;\n",
       "    }\n",
       "</style>\n",
       "<table border=\"1\" class=\"dataframe\">\n",
       "  <thead>\n",
       "    <tr style=\"text-align: right;\">\n",
       "      <th></th>\n",
       "      <th>temp</th>\n",
       "      <th>hum</th>\n",
       "      <th>press</th>\n",
       "      <th>wind_speed</th>\n",
       "      <th>wind_dir</th>\n",
       "    </tr>\n",
       "    <tr>\n",
       "      <th>datetime</th>\n",
       "      <th></th>\n",
       "      <th></th>\n",
       "      <th></th>\n",
       "      <th></th>\n",
       "      <th></th>\n",
       "    </tr>\n",
       "  </thead>\n",
       "  <tbody>\n",
       "    <tr>\n",
       "      <th>2022-01-30 17:00:00</th>\n",
       "      <td>-17.6</td>\n",
       "      <td>80.0</td>\n",
       "      <td>745.5</td>\n",
       "      <td>0.0</td>\n",
       "      <td>NaN</td>\n",
       "    </tr>\n",
       "    <tr>\n",
       "      <th>2022-06-19 02:00:00</th>\n",
       "      <td>13.7</td>\n",
       "      <td>93.0</td>\n",
       "      <td>740.5</td>\n",
       "      <td>0.0</td>\n",
       "      <td>NaN</td>\n",
       "    </tr>\n",
       "    <tr>\n",
       "      <th>2022-01-22 05:00:00</th>\n",
       "      <td>-13.0</td>\n",
       "      <td>84.0</td>\n",
       "      <td>753.6</td>\n",
       "      <td>1.0</td>\n",
       "      <td>180.0</td>\n",
       "    </tr>\n",
       "    <tr>\n",
       "      <th>2022-06-20 11:00:00</th>\n",
       "      <td>23.5</td>\n",
       "      <td>41.0</td>\n",
       "      <td>736.9</td>\n",
       "      <td>2.0</td>\n",
       "      <td>270.0</td>\n",
       "    </tr>\n",
       "  </tbody>\n",
       "</table>\n",
       "</div>"
      ],
      "text/plain": [
       "                     temp   hum  press  wind_speed  wind_dir\n",
       "datetime                                                    \n",
       "2022-01-30 17:00:00 -17.6  80.0  745.5         0.0       NaN\n",
       "2022-06-19 02:00:00  13.7  93.0  740.5         0.0       NaN\n",
       "2022-01-22 05:00:00 -13.0  84.0  753.6         1.0     180.0\n",
       "2022-06-20 11:00:00  23.5  41.0  736.9         2.0     270.0"
      ]
     },
     "execution_count": 21,
     "metadata": {},
     "output_type": "execute_result"
    }
   ],
   "source": [
    "hist_8 = hist.loc['2022-01-01':,['temp', 'hum', 'press', 'wind_speed_10m', 'wind_dir_10m']].asfreq(\"3H\")\n",
    "hist_8.rename(columns={'wind_speed_10m': 'wind_speed', 'wind_dir_10m': 'wind_dir'}, inplace=True)\n",
    "hist_8.sample(4)"
   ]
  },
  {
   "cell_type": "markdown",
   "metadata": {
    "jp-MarkdownHeadingCollapsed": true,
    "tags": []
   },
   "source": [
    "### Temperature"
   ]
  },
  {
   "cell_type": "code",
   "execution_count": 22,
   "metadata": {},
   "outputs": [
    {
     "data": {
      "text/html": [
       "<div>\n",
       "<style scoped>\n",
       "    .dataframe tbody tr th:only-of-type {\n",
       "        vertical-align: middle;\n",
       "    }\n",
       "\n",
       "    .dataframe tbody tr th {\n",
       "        vertical-align: top;\n",
       "    }\n",
       "\n",
       "    .dataframe thead th {\n",
       "        text-align: right;\n",
       "    }\n",
       "</style>\n",
       "<table border=\"1\" class=\"dataframe\">\n",
       "  <thead>\n",
       "    <tr style=\"text-align: right;\">\n",
       "      <th></th>\n",
       "      <th>datetime</th>\n",
       "      <th>12h_bin</th>\n",
       "      <th>gismeteo</th>\n",
       "      <th>rp5</th>\n",
       "      <th>hmcr_g</th>\n",
       "      <th>hist</th>\n",
       "    </tr>\n",
       "  </thead>\n",
       "  <tbody>\n",
       "    <tr>\n",
       "      <th>6007</th>\n",
       "      <td>2022-04-03 08:00:00</td>\n",
       "      <td>14</td>\n",
       "      <td>1.5</td>\n",
       "      <td>NaN</td>\n",
       "      <td>NaN</td>\n",
       "      <td>-2.5</td>\n",
       "    </tr>\n",
       "    <tr>\n",
       "      <th>828</th>\n",
       "      <td>2022-02-28 05:00:00</td>\n",
       "      <td>8</td>\n",
       "      <td>1.8</td>\n",
       "      <td>NaN</td>\n",
       "      <td>NaN</td>\n",
       "      <td>-9.8</td>\n",
       "    </tr>\n",
       "    <tr>\n",
       "      <th>12531</th>\n",
       "      <td>2022-05-16 05:00:00</td>\n",
       "      <td>7</td>\n",
       "      <td>7.4</td>\n",
       "      <td>4.4</td>\n",
       "      <td>NaN</td>\n",
       "      <td>2.6</td>\n",
       "    </tr>\n",
       "    <tr>\n",
       "      <th>13038</th>\n",
       "      <td>2022-05-19 14:00:00</td>\n",
       "      <td>13</td>\n",
       "      <td>-6.1</td>\n",
       "      <td>NaN</td>\n",
       "      <td>NaN</td>\n",
       "      <td>15.1</td>\n",
       "    </tr>\n",
       "  </tbody>\n",
       "</table>\n",
       "</div>"
      ],
      "text/plain": [
       "                 datetime  12h_bin  gismeteo  rp5  hmcr_g  hist\n",
       "6007  2022-04-03 08:00:00       14       1.5  NaN     NaN  -2.5\n",
       "828   2022-02-28 05:00:00        8       1.8  NaN     NaN  -9.8\n",
       "12531 2022-05-16 05:00:00        7       7.4  4.4     NaN   2.6\n",
       "13038 2022-05-19 14:00:00       13      -6.1  NaN     NaN  15.1"
      ]
     },
     "execution_count": 22,
     "metadata": {},
     "output_type": "execute_result"
    }
   ],
   "source": [
    "dfs = {'gismeteo': gm_8, 'rp5': rp_8, 'hmcr_g': ms_8}\n",
    "temp_8 = merge_dfs(dfs, col='temp', col_keys=['datetime', '12h_bin'], how='outer')\n",
    "temp_8 = temp_8.merge(hist_8[['temp']].rename(columns={'temp': 'hist'}),\n",
    "                      how='left',\n",
    "                      left_on='datetime',\n",
    "                      right_on='datetime',\n",
    "                      sort=False)\n",
    "for col in dfs.keys():\n",
    "    temp_8[col] = temp_8[col] - temp_8['hist']\n",
    "temp_8.sample(4)"
   ]
  },
  {
   "cell_type": "markdown",
   "metadata": {
    "jp-MarkdownHeadingCollapsed": true,
    "tags": []
   },
   "source": [
    "### Atmospheric Pressure"
   ]
  },
  {
   "cell_type": "code",
   "execution_count": 23,
   "metadata": {},
   "outputs": [
    {
     "data": {
      "text/html": [
       "<div>\n",
       "<style scoped>\n",
       "    .dataframe tbody tr th:only-of-type {\n",
       "        vertical-align: middle;\n",
       "    }\n",
       "\n",
       "    .dataframe tbody tr th {\n",
       "        vertical-align: top;\n",
       "    }\n",
       "\n",
       "    .dataframe thead th {\n",
       "        text-align: right;\n",
       "    }\n",
       "</style>\n",
       "<table border=\"1\" class=\"dataframe\">\n",
       "  <thead>\n",
       "    <tr style=\"text-align: right;\">\n",
       "      <th></th>\n",
       "      <th>datetime</th>\n",
       "      <th>12h_bin</th>\n",
       "      <th>gismeteo</th>\n",
       "      <th>rp5</th>\n",
       "      <th>yandex</th>\n",
       "      <th>hmcr_w</th>\n",
       "      <th>hmcr_g</th>\n",
       "      <th>hist</th>\n",
       "    </tr>\n",
       "  </thead>\n",
       "  <tbody>\n",
       "    <tr>\n",
       "      <th>12340</th>\n",
       "      <td>2022-05-14 23:00:00</td>\n",
       "      <td>9</td>\n",
       "      <td>4.3</td>\n",
       "      <td>-0.7</td>\n",
       "      <td>2.3</td>\n",
       "      <td>-1.7</td>\n",
       "      <td>NaN</td>\n",
       "      <td>737.7</td>\n",
       "    </tr>\n",
       "    <tr>\n",
       "      <th>27414</th>\n",
       "      <td>2022-08-22 23:00:00</td>\n",
       "      <td>15</td>\n",
       "      <td>NaN</td>\n",
       "      <td>NaN</td>\n",
       "      <td>NaN</td>\n",
       "      <td>NaN</td>\n",
       "      <td>NaN</td>\n",
       "      <td>NaN</td>\n",
       "    </tr>\n",
       "    <tr>\n",
       "      <th>5253</th>\n",
       "      <td>2022-03-29 08:00:00</td>\n",
       "      <td>8</td>\n",
       "      <td>-3.9</td>\n",
       "      <td>-2.9</td>\n",
       "      <td>-2.9</td>\n",
       "      <td>-5.9</td>\n",
       "      <td>NaN</td>\n",
       "      <td>736.9</td>\n",
       "    </tr>\n",
       "    <tr>\n",
       "      <th>6281</th>\n",
       "      <td>2022-04-05 02:00:00</td>\n",
       "      <td>8</td>\n",
       "      <td>-0.5</td>\n",
       "      <td>-1.5</td>\n",
       "      <td>-1.5</td>\n",
       "      <td>0.5</td>\n",
       "      <td>NaN</td>\n",
       "      <td>733.5</td>\n",
       "    </tr>\n",
       "  </tbody>\n",
       "</table>\n",
       "</div>"
      ],
      "text/plain": [
       "                 datetime  12h_bin  gismeteo  rp5  yandex  hmcr_w  hmcr_g  \\\n",
       "12340 2022-05-14 23:00:00        9       4.3 -0.7     2.3    -1.7     NaN   \n",
       "27414 2022-08-22 23:00:00       15       NaN  NaN     NaN     NaN     NaN   \n",
       "5253  2022-03-29 08:00:00        8      -3.9 -2.9    -2.9    -5.9     NaN   \n",
       "6281  2022-04-05 02:00:00        8      -0.5 -1.5    -1.5     0.5     NaN   \n",
       "\n",
       "        hist  \n",
       "12340  737.7  \n",
       "27414    NaN  \n",
       "5253   736.9  \n",
       "6281   733.5  "
      ]
     },
     "execution_count": 23,
     "metadata": {},
     "output_type": "execute_result"
    }
   ],
   "source": [
    "dfs = {'gismeteo': gm_8, 'rp5': rp_8, 'yandex': ya_8, 'hmcr_w': mi_8, 'hmcr_g': ms_8}\n",
    "press_8 = merge_dfs(dfs, col='press', col_keys=['datetime', '12h_bin'], how='outer')\n",
    "press_8 = press_8.merge(hist_8[['press']].rename(columns={'press': 'hist'}),\n",
    "                        how='left',\n",
    "                        left_on='datetime',\n",
    "                        right_on='datetime',\n",
    "                        sort=False)\n",
    "for col in dfs.keys():\n",
    "    press_8[col] = press_8[col] - press_8['hist']\n",
    "press_8.sample(4)"
   ]
  },
  {
   "cell_type": "markdown",
   "metadata": {
    "jp-MarkdownHeadingCollapsed": true,
    "tags": []
   },
   "source": [
    "### Relative Humidity"
   ]
  },
  {
   "cell_type": "code",
   "execution_count": 24,
   "metadata": {},
   "outputs": [
    {
     "data": {
      "text/html": [
       "<div>\n",
       "<style scoped>\n",
       "    .dataframe tbody tr th:only-of-type {\n",
       "        vertical-align: middle;\n",
       "    }\n",
       "\n",
       "    .dataframe tbody tr th {\n",
       "        vertical-align: top;\n",
       "    }\n",
       "\n",
       "    .dataframe thead th {\n",
       "        text-align: right;\n",
       "    }\n",
       "</style>\n",
       "<table border=\"1\" class=\"dataframe\">\n",
       "  <thead>\n",
       "    <tr style=\"text-align: right;\">\n",
       "      <th></th>\n",
       "      <th>datetime</th>\n",
       "      <th>12h_bin</th>\n",
       "      <th>gismeteo</th>\n",
       "      <th>rp5</th>\n",
       "      <th>yandex</th>\n",
       "      <th>hmcr_g</th>\n",
       "      <th>hist</th>\n",
       "    </tr>\n",
       "  </thead>\n",
       "  <tbody>\n",
       "    <tr>\n",
       "      <th>22680</th>\n",
       "      <td>2022-07-21 23:00:00</td>\n",
       "      <td>5</td>\n",
       "      <td>5.0</td>\n",
       "      <td>0.0</td>\n",
       "      <td>-14.0</td>\n",
       "      <td>-20.0</td>\n",
       "      <td>90.0</td>\n",
       "    </tr>\n",
       "    <tr>\n",
       "      <th>13273</th>\n",
       "      <td>2022-05-21 02:00:00</td>\n",
       "      <td>7</td>\n",
       "      <td>NaN</td>\n",
       "      <td>NaN</td>\n",
       "      <td>NaN</td>\n",
       "      <td>NaN</td>\n",
       "      <td>NaN</td>\n",
       "    </tr>\n",
       "    <tr>\n",
       "      <th>10035</th>\n",
       "      <td>2022-04-29 20:00:00</td>\n",
       "      <td>15</td>\n",
       "      <td>25.0</td>\n",
       "      <td>NaN</td>\n",
       "      <td>16.0</td>\n",
       "      <td>NaN</td>\n",
       "      <td>29.0</td>\n",
       "    </tr>\n",
       "    <tr>\n",
       "      <th>21153</th>\n",
       "      <td>2022-07-11 23:00:00</td>\n",
       "      <td>12</td>\n",
       "      <td>-7.0</td>\n",
       "      <td>NaN</td>\n",
       "      <td>-15.0</td>\n",
       "      <td>NaN</td>\n",
       "      <td>79.0</td>\n",
       "    </tr>\n",
       "  </tbody>\n",
       "</table>\n",
       "</div>"
      ],
      "text/plain": [
       "                 datetime  12h_bin  gismeteo  rp5  yandex  hmcr_g  hist\n",
       "22680 2022-07-21 23:00:00        5       5.0  0.0   -14.0   -20.0  90.0\n",
       "13273 2022-05-21 02:00:00        7       NaN  NaN     NaN     NaN   NaN\n",
       "10035 2022-04-29 20:00:00       15      25.0  NaN    16.0     NaN  29.0\n",
       "21153 2022-07-11 23:00:00       12      -7.0  NaN   -15.0     NaN  79.0"
      ]
     },
     "execution_count": 24,
     "metadata": {},
     "output_type": "execute_result"
    }
   ],
   "source": [
    "dfs = {'gismeteo': gm_8, 'rp5': rp_8, 'yandex': ya_8, 'hmcr_g': ms_8}\n",
    "hum_8 = merge_dfs(dfs, col='hum', col_keys=['datetime', '12h_bin'], how='outer')\n",
    "hum_8 = hum_8.merge(hist_8[['hum']].rename(columns={'hum': 'hist'}),\n",
    "                    how='left',\n",
    "                    left_on='datetime',\n",
    "                    right_on='datetime',\n",
    "                    sort=False)\n",
    "for col in dfs.keys():\n",
    "    hum_8[col] = hum_8[col] - hum_8['hist']\n",
    "hum_8.sample(4)"
   ]
  },
  {
   "cell_type": "markdown",
   "metadata": {
    "jp-MarkdownHeadingCollapsed": true,
    "tags": []
   },
   "source": [
    "### Wind Speed"
   ]
  },
  {
   "cell_type": "code",
   "execution_count": 25,
   "metadata": {},
   "outputs": [
    {
     "data": {
      "text/html": [
       "<div>\n",
       "<style scoped>\n",
       "    .dataframe tbody tr th:only-of-type {\n",
       "        vertical-align: middle;\n",
       "    }\n",
       "\n",
       "    .dataframe tbody tr th {\n",
       "        vertical-align: top;\n",
       "    }\n",
       "\n",
       "    .dataframe thead th {\n",
       "        text-align: right;\n",
       "    }\n",
       "</style>\n",
       "<table border=\"1\" class=\"dataframe\">\n",
       "  <thead>\n",
       "    <tr style=\"text-align: right;\">\n",
       "      <th></th>\n",
       "      <th>datetime</th>\n",
       "      <th>12h_bin</th>\n",
       "      <th>gismeteo</th>\n",
       "      <th>rp5</th>\n",
       "      <th>yandex</th>\n",
       "      <th>hmcr_w</th>\n",
       "      <th>hmcr_g</th>\n",
       "      <th>hist</th>\n",
       "    </tr>\n",
       "  </thead>\n",
       "  <tbody>\n",
       "    <tr>\n",
       "      <th>25027</th>\n",
       "      <td>2022-08-06 11:00:00</td>\n",
       "      <td>12</td>\n",
       "      <td>0.0</td>\n",
       "      <td>NaN</td>\n",
       "      <td>-0.5</td>\n",
       "      <td>0.0</td>\n",
       "      <td>NaN</td>\n",
       "      <td>2.0</td>\n",
       "    </tr>\n",
       "    <tr>\n",
       "      <th>12493</th>\n",
       "      <td>2022-05-15 23:00:00</td>\n",
       "      <td>8</td>\n",
       "      <td>1.0</td>\n",
       "      <td>0.0</td>\n",
       "      <td>-0.5</td>\n",
       "      <td>1.0</td>\n",
       "      <td>NaN</td>\n",
       "      <td>2.0</td>\n",
       "    </tr>\n",
       "    <tr>\n",
       "      <th>20458</th>\n",
       "      <td>2022-07-07 08:00:00</td>\n",
       "      <td>2</td>\n",
       "      <td>NaN</td>\n",
       "      <td>NaN</td>\n",
       "      <td>NaN</td>\n",
       "      <td>NaN</td>\n",
       "      <td>NaN</td>\n",
       "      <td>NaN</td>\n",
       "    </tr>\n",
       "    <tr>\n",
       "      <th>346</th>\n",
       "      <td>2022-02-24 14:00:00</td>\n",
       "      <td>5</td>\n",
       "      <td>-2.0</td>\n",
       "      <td>NaN</td>\n",
       "      <td>-2.0</td>\n",
       "      <td>NaN</td>\n",
       "      <td>NaN</td>\n",
       "      <td>7.0</td>\n",
       "    </tr>\n",
       "  </tbody>\n",
       "</table>\n",
       "</div>"
      ],
      "text/plain": [
       "                 datetime  12h_bin  gismeteo  rp5  yandex  hmcr_w  hmcr_g  \\\n",
       "25027 2022-08-06 11:00:00       12       0.0  NaN    -0.5     0.0     NaN   \n",
       "12493 2022-05-15 23:00:00        8       1.0  0.0    -0.5     1.0     NaN   \n",
       "20458 2022-07-07 08:00:00        2       NaN  NaN     NaN     NaN     NaN   \n",
       "346   2022-02-24 14:00:00        5      -2.0  NaN    -2.0     NaN     NaN   \n",
       "\n",
       "       hist  \n",
       "25027   2.0  \n",
       "12493   2.0  \n",
       "20458   NaN  \n",
       "346     7.0  "
      ]
     },
     "execution_count": 25,
     "metadata": {},
     "output_type": "execute_result"
    }
   ],
   "source": [
    "dfs = {'gismeteo': gm_8, 'rp5': rp_8, 'yandex': ya_8, 'hmcr_w': mi_8, 'hmcr_g': ms_8}\n",
    "wind_speed_8 = merge_dfs(dfs, col='wind_speed', col_keys=['datetime', '12h_bin'], how='outer')\n",
    "wind_speed_8 = wind_speed_8.merge(hist_8[['wind_speed']].rename(columns={'wind_speed': 'hist'}),\n",
    "                                  how='left',\n",
    "                                  left_on='datetime',\n",
    "                                  right_on='datetime',\n",
    "                                  sort=False)\n",
    "for col in dfs.keys():\n",
    "    wind_speed_8[col] = wind_speed_8[col] - wind_speed_8['hist']\n",
    "wind_speed_8.sample(4)"
   ]
  },
  {
   "cell_type": "markdown",
   "metadata": {
    "jp-MarkdownHeadingCollapsed": true,
    "tags": []
   },
   "source": [
    "### Wind Direction"
   ]
  },
  {
   "cell_type": "code",
   "execution_count": 26,
   "metadata": {},
   "outputs": [
    {
     "data": {
      "text/html": [
       "<div>\n",
       "<style scoped>\n",
       "    .dataframe tbody tr th:only-of-type {\n",
       "        vertical-align: middle;\n",
       "    }\n",
       "\n",
       "    .dataframe tbody tr th {\n",
       "        vertical-align: top;\n",
       "    }\n",
       "\n",
       "    .dataframe thead th {\n",
       "        text-align: right;\n",
       "    }\n",
       "</style>\n",
       "<table border=\"1\" class=\"dataframe\">\n",
       "  <thead>\n",
       "    <tr style=\"text-align: right;\">\n",
       "      <th></th>\n",
       "      <th>datetime</th>\n",
       "      <th>12h_bin</th>\n",
       "      <th>gismeteo</th>\n",
       "      <th>rp5</th>\n",
       "      <th>yandex</th>\n",
       "      <th>hmcr_w</th>\n",
       "      <th>hmcr_g</th>\n",
       "      <th>hist</th>\n",
       "    </tr>\n",
       "  </thead>\n",
       "  <tbody>\n",
       "    <tr>\n",
       "      <th>13132</th>\n",
       "      <td>2022-05-20 05:00:00</td>\n",
       "      <td>14</td>\n",
       "      <td>NaN</td>\n",
       "      <td>NaN</td>\n",
       "      <td>NaN</td>\n",
       "      <td>NaN</td>\n",
       "      <td>NaN</td>\n",
       "      <td>NaN</td>\n",
       "    </tr>\n",
       "    <tr>\n",
       "      <th>7960</th>\n",
       "      <td>2022-04-16 02:00:00</td>\n",
       "      <td>1</td>\n",
       "      <td>-45.0</td>\n",
       "      <td>0.0</td>\n",
       "      <td>45.0</td>\n",
       "      <td>45.0</td>\n",
       "      <td>37.0</td>\n",
       "      <td>180.0</td>\n",
       "    </tr>\n",
       "    <tr>\n",
       "      <th>24496</th>\n",
       "      <td>2022-08-02 23:00:00</td>\n",
       "      <td>13</td>\n",
       "      <td>157.5</td>\n",
       "      <td>NaN</td>\n",
       "      <td>112.5</td>\n",
       "      <td>NaN</td>\n",
       "      <td>NaN</td>\n",
       "      <td>337.5</td>\n",
       "    </tr>\n",
       "    <tr>\n",
       "      <th>28226</th>\n",
       "      <td>2022-06-08 05:00:00</td>\n",
       "      <td>20</td>\n",
       "      <td>NaN</td>\n",
       "      <td>NaN</td>\n",
       "      <td>45.0</td>\n",
       "      <td>NaN</td>\n",
       "      <td>NaN</td>\n",
       "      <td>90.0</td>\n",
       "    </tr>\n",
       "  </tbody>\n",
       "</table>\n",
       "</div>"
      ],
      "text/plain": [
       "                 datetime  12h_bin  gismeteo  rp5  yandex  hmcr_w  hmcr_g  \\\n",
       "13132 2022-05-20 05:00:00       14       NaN  NaN     NaN     NaN     NaN   \n",
       "7960  2022-04-16 02:00:00        1     -45.0  0.0    45.0    45.0    37.0   \n",
       "24496 2022-08-02 23:00:00       13     157.5  NaN   112.5     NaN     NaN   \n",
       "28226 2022-06-08 05:00:00       20       NaN  NaN    45.0     NaN     NaN   \n",
       "\n",
       "        hist  \n",
       "13132    NaN  \n",
       "7960   180.0  \n",
       "24496  337.5  \n",
       "28226   90.0  "
      ]
     },
     "execution_count": 26,
     "metadata": {},
     "output_type": "execute_result"
    }
   ],
   "source": [
    "dfs = {'gismeteo': gm_8, 'rp5': rp_8, 'yandex': ya_8, 'hmcr_w': mi_8, 'hmcr_g': ms_8}\n",
    "wind_dir_8 = merge_dfs(dfs, col='wind_dir', col_keys=['datetime', '12h_bin'], how='outer')\n",
    "wind_dir_8 = wind_dir_8.merge(hist_8[['wind_dir']].rename(columns={'wind_dir': 'hist'}),\n",
    "                              how='left',\n",
    "                              left_on='datetime',\n",
    "                              right_on='datetime',\n",
    "                              sort=False)\n",
    "for col in dfs.keys():\n",
    "    wind_dir_8[col] = wind_dir_8[col] - wind_dir_8['hist']\n",
    "    # values should be in the interval (-180, 180]\n",
    "    wind_dir_8.loc[wind_dir_8[col] <= -180.0, col] += 360.0\n",
    "    wind_dir_8.loc[wind_dir_8[col] > 180.0, col] -= 360.0\n",
    "wind_dir_8.sample(4)"
   ]
  },
  {
   "cell_type": "markdown",
   "metadata": {
    "jp-MarkdownHeadingCollapsed": true,
    "tags": []
   },
   "source": [
    "## Precipitation in 12-Hour Intervals"
   ]
  },
  {
   "cell_type": "markdown",
   "metadata": {},
   "source": [
    "Most precipitation records in the historical data provided for intervals (20:00, 08:00] and (08:00, 20:00]. We can get precipitation data for these intervals for **Gismeteo**, **rp5** and **HMCR (Graphs)** forecasts."
   ]
  },
  {
   "cell_type": "code",
   "execution_count": 27,
   "metadata": {},
   "outputs": [
    {
     "data": {
      "text/html": [
       "<div>\n",
       "<style scoped>\n",
       "    .dataframe tbody tr th:only-of-type {\n",
       "        vertical-align: middle;\n",
       "    }\n",
       "\n",
       "    .dataframe tbody tr th {\n",
       "        vertical-align: top;\n",
       "    }\n",
       "\n",
       "    .dataframe thead th {\n",
       "        text-align: right;\n",
       "    }\n",
       "</style>\n",
       "<table border=\"1\" class=\"dataframe\">\n",
       "  <thead>\n",
       "    <tr style=\"text-align: right;\">\n",
       "      <th></th>\n",
       "      <th>datetime</th>\n",
       "      <th>12h_bin</th>\n",
       "      <th>gismeteo</th>\n",
       "      <th>rp5</th>\n",
       "      <th>hmcr_g</th>\n",
       "      <th>hist</th>\n",
       "    </tr>\n",
       "  </thead>\n",
       "  <tbody>\n",
       "    <tr>\n",
       "      <th>881</th>\n",
       "      <td>2022-03-18 20:00:00</td>\n",
       "      <td>12</td>\n",
       "      <td>NaN</td>\n",
       "      <td>NaN</td>\n",
       "      <td>NaN</td>\n",
       "      <td>NaN</td>\n",
       "    </tr>\n",
       "    <tr>\n",
       "      <th>4777</th>\n",
       "      <td>2022-07-01 20:00:00</td>\n",
       "      <td>1</td>\n",
       "      <td>0.0</td>\n",
       "      <td>0.00</td>\n",
       "      <td>0.0</td>\n",
       "      <td>0.0</td>\n",
       "    </tr>\n",
       "    <tr>\n",
       "      <th>5769</th>\n",
       "      <td>2022-07-28 20:00:00</td>\n",
       "      <td>8</td>\n",
       "      <td>0.0</td>\n",
       "      <td>0.06</td>\n",
       "      <td>NaN</td>\n",
       "      <td>0.0</td>\n",
       "    </tr>\n",
       "    <tr>\n",
       "      <th>6183</th>\n",
       "      <td>2022-08-08 20:00:00</td>\n",
       "      <td>1</td>\n",
       "      <td>0.0</td>\n",
       "      <td>0.00</td>\n",
       "      <td>0.0</td>\n",
       "      <td>0.0</td>\n",
       "    </tr>\n",
       "  </tbody>\n",
       "</table>\n",
       "</div>"
      ],
      "text/plain": [
       "                datetime  12h_bin  gismeteo   rp5  hmcr_g  hist\n",
       "881  2022-03-18 20:00:00       12       NaN   NaN     NaN   NaN\n",
       "4777 2022-07-01 20:00:00        1       0.0  0.00     0.0   0.0\n",
       "5769 2022-07-28 20:00:00        8       0.0  0.06     NaN   0.0\n",
       "6183 2022-08-08 20:00:00        1       0.0  0.00     0.0   0.0"
      ]
     },
     "execution_count": 27,
     "metadata": {},
     "output_type": "execute_result"
    }
   ],
   "source": [
    "hist_precip = hist.loc['2022-01-01 08:00:00':,['precip', 'precip_int']].asfreq('12h')\n",
    "hist_precip.loc[hist_precip['precip_int'] != 12.0, 'precip'] = np.nan\n",
    "hist_precip.drop(columns='precip_int', axis=1, inplace=True)\n",
    "# get forecast data\n",
    "gm_p = precip_at_8_and_20(gm)\n",
    "rp_p = precip_at_8_and_20(rp)\n",
    "ms_p = precip_at_8_and_20(ms)\n",
    "dfs = {'gismeteo': gm_p, 'rp5': rp_p, 'hmcr_g': ms_p}\n",
    "precip = merge_dfs(dfs, col='precip', col_keys=['datetime', '12h_bin'], how='outer')\n",
    "precip = precip.merge(hist_precip[['precip']].rename(columns={'precip': 'hist'}),\n",
    "                      how='left',\n",
    "                      left_on='datetime',\n",
    "                      right_index=True,\n",
    "                      sort=False)\n",
    "for col in dfs.keys():\n",
    "    precip[col] = precip[col] - precip['hist']\n",
    "precip.sample(4)"
   ]
  },
  {
   "cell_type": "markdown",
   "metadata": {
    "jp-MarkdownHeadingCollapsed": true,
    "tags": []
   },
   "source": [
    "# Plotting the Differences Between Forecast and Historical Values"
   ]
  },
  {
   "cell_type": "code",
   "execution_count": 28,
   "metadata": {},
   "outputs": [],
   "source": [
    "# choose the start date based on the latest date among the erliest records of all forecat datasets\n",
    "# rp5 dataset starts on 2022-03-16 (later than others) and it's a 6-day forecast\n",
    "start_date = '2022-03-21'\n",
    "end_date = '2022-07-12'\n",
    "day_lim = 6\n",
    "# specify color palette for seaborn\n",
    "colors = {}\n",
    "for k, v in {'yandex': 0, 'rp5': 1, 'gismeteo': 3, 'hmcr_w': 4, 'hmcr_g': 5}.items():\n",
    "    colors[k] = sns.color_palette('hls', 6)[v]\n",
    "# seaborn parameters\n",
    "sns.set_style('whitegrid')\n",
    "sns.set(rc={'figure.figsize':(18, 9)})\n",
    "sns.set(font_scale=1.6)"
   ]
  },
  {
   "cell_type": "markdown",
   "metadata": {
    "jp-MarkdownHeadingCollapsed": true,
    "tags": []
   },
   "source": [
    "## Minimum Temperature Before 12:00"
   ]
  },
  {
   "cell_type": "code",
   "execution_count": 29,
   "metadata": {},
   "outputs": [],
   "source": [
    "legend_labels = {'gismeteo': 'Gismeteo*',\n",
    "                 'rp5': 'rp5*',\n",
    "                 'yandex': 'Yandex.Weather',\n",
    "                 'hmcr_w': 'HMCR (1-week)',\n",
    "                 'hmcr_g': 'HMCR (Graphs)*'}\n",
    "min_temp_plt = min_temp.loc[(min_temp['date'] >= start_date) & (min_temp['date'] <= end_date)].copy()\n",
    "min_temp_plt['Day'] = np.ceil(min_temp_plt['12h_bin'] / 2).astype(int)\n",
    "min_temp_plt = min_temp_plt.loc[min_temp_plt['Day'] <= day_lim]\n",
    "min_temp_plt = min_temp_plt.melt(id_vars=['Day'],\n",
    "                                 value_vars=['gismeteo', 'rp5', 'yandex', 'hmcr_w', 'hmcr_g'],\n",
    "                                 var_name='Forecast',\n",
    "                                 value_name='Error (°C)')"
   ]
  },
  {
   "cell_type": "code",
   "execution_count": 30,
   "metadata": {},
   "outputs": [
    {
     "data": {
      "image/png": "[encoded data removed]",
      "text/plain": [
       "<Figure size 1296x648 with 1 Axes>"
      ]
     },
     "metadata": {},
     "output_type": "display_data"
    }
   ],
   "source": [
    "ax = sns.boxplot(x='Day', y='Error (°C)', data=min_temp_plt, hue='Forecast', palette=colors, whis=1.5, fliersize=3)\n",
    "handles, labels  =  ax.get_legend_handles_labels()\n",
    "ax.set(title='Minimum Temperature Before 12:00')\n",
    "ax.set_ylim(-20.0, 20.0)\n",
    "_ = ax.legend(handles, [legend_labels[k] for k in labels], ncol=5, loc='upper left')"
   ]
  },
  {
   "cell_type": "markdown",
   "metadata": {
    "jp-MarkdownHeadingCollapsed": true,
    "tags": []
   },
   "source": [
    "## Maximum Temperature After 12:00"
   ]
  },
  {
   "cell_type": "code",
   "execution_count": 31,
   "metadata": {},
   "outputs": [],
   "source": [
    "max_temp_plt = max_temp.loc[(max_temp['date'] >= start_date) & (max_temp['date'] <= end_date)].copy()\n",
    "max_temp_plt['Day'] = np.ceil((max_temp['12h_bin'] - 1) / 2).astype(int)\n",
    "max_temp_plt = max_temp_plt.loc[max_temp_plt['Day'] <= day_lim]\n",
    "max_temp_plt = max_temp_plt.melt(id_vars=['Day'],\n",
    "                                 value_vars=['gismeteo', 'rp5', 'yandex', 'hmcr_w', 'hmcr_g'],\n",
    "                                 var_name='Forecast',\n",
    "                                 value_name='Error (°C)')"
   ]
  },
  {
   "cell_type": "code",
   "execution_count": 32,
   "metadata": {},
   "outputs": [
    {
     "data": {
      "image/png": "[encoded data removed]",
      "text/plain": [
       "<Figure size 1296x648 with 1 Axes>"
      ]
     },
     "metadata": {},
     "output_type": "display_data"
    }
   ],
   "source": [
    "ax = sns.boxplot(x='Day', y='Error (°C)', data=max_temp_plt, hue='Forecast', palette=colors, whis=1.5, fliersize=3)\n",
    "handles, labels  =  ax.get_legend_handles_labels()\n",
    "ax.set(title='Maximum Temperature After 12:00')\n",
    "ax.set_ylim(-20.0, 20.0)\n",
    "_ = ax.legend(handles, [legend_labels[k] for k in labels], ncol=5, loc='upper left')"
   ]
  },
  {
   "cell_type": "markdown",
   "metadata": {
    "jp-MarkdownHeadingCollapsed": true,
    "tags": []
   },
   "source": [
    "## Temperature at 02:00, 05:00, 08:00, 11:00, 14:00, 17:00, 20:00 and 23:00"
   ]
  },
  {
   "cell_type": "code",
   "execution_count": 33,
   "metadata": {},
   "outputs": [
    {
     "data": {
      "image/png": "[encoded data removed]",
      "text/plain": [
       "<Figure size 1296x648 with 1 Axes>"
      ]
     },
     "metadata": {},
     "output_type": "display_data"
    }
   ],
   "source": [
    "title = 'Temperature at 02:00, 05:00, 08:00, 11:00, 14:00, 17:00, 20:00 and 23:00'\n",
    "legend_labels = {'gismeteo': 'Gismeteo', 'rp5': 'rp5', 'hmcr_g': 'HMCR (Graphs)'}\n",
    "boxplot_params(temp_8, title, 'Error (°C)', (-20.0, 20.0), legend_labels)"
   ]
  },
  {
   "cell_type": "markdown",
   "metadata": {
    "jp-MarkdownHeadingCollapsed": true,
    "tags": []
   },
   "source": [
    "## Atmospheric Pressure at 02:00, 05:00, 08:00, 11:00, 14:00, 17:00, 20:00 and 23:00"
   ]
  },
  {
   "cell_type": "code",
   "execution_count": 34,
   "metadata": {},
   "outputs": [
    {
     "data": {
      "image/png": "[encoded data removed]",
      "text/plain": [
       "<Figure size 1296x648 with 1 Axes>"
      ]
     },
     "metadata": {},
     "output_type": "display_data"
    }
   ],
   "source": [
    "title = 'Atmospheric Pressure at 02:00, 05:00, 08:00, 11:00, 14:00, 17:00, 20:00 and 23:00'\n",
    "legend_labels = {'gismeteo': 'Gismeteo',\n",
    "                 'rp5': 'rp5',\n",
    "                 'yandex': 'Yandex.Weather*',\n",
    "                 'hmcr_w': 'HMCR (1-week)*',\n",
    "                 'hmcr_g': 'HMCR (Graphs)'}\n",
    "boxplot_params(press_8, title, 'Error (mmHg)', (-25.0, 25.0), legend_labels, yticks=(-25, 26, 5))"
   ]
  },
  {
   "cell_type": "markdown",
   "metadata": {
    "jp-MarkdownHeadingCollapsed": true,
    "tags": []
   },
   "source": [
    "## Relative Humidity"
   ]
  },
  {
   "cell_type": "code",
   "execution_count": 35,
   "metadata": {},
   "outputs": [
    {
     "data": {
      "image/png": "[encoded data removed]",
      "text/plain": [
       "<Figure size 1296x648 with 1 Axes>"
      ]
     },
     "metadata": {},
     "output_type": "display_data"
    }
   ],
   "source": [
    "title = 'Relative Humidity at 02:00, 05:00, 08:00, 11:00, 14:00, 17:00, 20:00 and 23:00'\n",
    "legend_labels = {'gismeteo': 'Gismeteo',\n",
    "                 'rp5': 'rp5',\n",
    "                 'yandex': 'Yandex.Weather*',\n",
    "                 'hmcr_g': 'HMCR (Graphs)'}\n",
    "boxplot_params(hum_8, title, 'Error (%)', (-101.0, 101.0), legend_labels, yticks=(-100, 101, 20))"
   ]
  },
  {
   "cell_type": "markdown",
   "metadata": {
    "jp-MarkdownHeadingCollapsed": true,
    "tags": []
   },
   "source": [
    "## Wind Speed"
   ]
  },
  {
   "cell_type": "code",
   "execution_count": 36,
   "metadata": {},
   "outputs": [
    {
     "data": {
      "image/png": "[encoded data removed]",
      "text/plain": [
       "<Figure size 1296x648 with 1 Axes>"
      ]
     },
     "metadata": {},
     "output_type": "display_data"
    }
   ],
   "source": [
    "title = 'Wind Speed at 02:00, 05:00, 08:00, 11:00, 14:00, 17:00, 20:00 and 23:00'\n",
    "legend_labels = {'gismeteo': 'Gismeteo',\n",
    "                 'rp5': 'rp5',\n",
    "                 'yandex': 'Yandex.Weather*',\n",
    "                 'hmcr_w': 'HMCR (1-week)*',\n",
    "                 'hmcr_g': 'HMCR (Graphs)'}\n",
    "boxplot_params(wind_speed_8, title, 'Error (m/s)', (-10.0, 10.0), legend_labels, yticks=(-10, 11, 2))"
   ]
  },
  {
   "cell_type": "markdown",
   "metadata": {
    "jp-MarkdownHeadingCollapsed": true,
    "tags": []
   },
   "source": [
    "## Wind Direction at 02:00, 05:00, 08:00, 11:00, 14:00, 17:00, 20:00 and 23:00"
   ]
  },
  {
   "cell_type": "code",
   "execution_count": 37,
   "metadata": {},
   "outputs": [
    {
     "data": {
      "image/png": "[encoded data removed]",
      "text/plain": [
       "<Figure size 1296x648 with 1 Axes>"
      ]
     },
     "metadata": {},
     "output_type": "display_data"
    }
   ],
   "source": [
    "title = 'Wind Direction at 02:00, 05:00, 08:00, 11:00, 14:00, 17:00, 20:00 and 23:00'\n",
    "legend_labels = {'gismeteo': 'Gismeteo',\n",
    "                 'rp5': 'rp5',\n",
    "                 'yandex': 'Yandex.Weather*',\n",
    "                 'hmcr_w': 'HMCR (1-week)*',\n",
    "                 'hmcr_g': 'HMCR (Graphs)'}\n",
    "boxplot_params(wind_dir_8, title, 'Error (°)', (-180, 220), legend_labels, yticks=(-180, 181, 45))"
   ]
  },
  {
   "cell_type": "markdown",
   "metadata": {
    "tags": []
   },
   "source": [
    "## Precipitation in 12-Hour Intervals"
   ]
  },
  {
   "cell_type": "code",
   "execution_count": 38,
   "metadata": {},
   "outputs": [],
   "source": [
    "precip_plt = precip.loc[(precip['datetime'] >= start_date) & (precip['datetime'] <= end_date)]\n",
    "ylabel_precip = 'Error (mm per 12 hours)'\n",
    "legend_labels = {'gismeteo': 'Gismeteo',\n",
    "                 'rp5': 'rp5',\n",
    "                 'hmcr_g': 'HMCR (Graphs)'}"
   ]
  },
  {
   "cell_type": "code",
   "execution_count": 39,
   "metadata": {},
   "outputs": [
    {
     "data": {
      "image/png": "[encoded data removed]",
      "text/plain": [
       "<Figure size 1296x648 with 1 Axes>"
      ]
     },
     "metadata": {},
     "output_type": "display_data"
    }
   ],
   "source": [
    "df_ = precip_plt.melt(id_vars=['12h_bin'],\n",
    "                      value_vars=[*legend_labels.keys()],\n",
    "                      var_name='Forecast',\n",
    "                      value_name='Error (mm per 12 hours)')\n",
    "df_ = df_.loc[df_['12h_bin'] <= 10]\n",
    "ax = sns.boxplot(x='12h_bin', y='Error (mm per 12 hours)', data=df_, hue='Forecast', palette=colors, whis=1.5, fliersize=3)\n",
    "handles, labels = ax.get_legend_handles_labels()\n",
    "ax.set(title='Precipitation in 12-Hour Intervals', xlabel='12-hour bin')\n",
    "ax.set_ylim(-4, 4)\n",
    "# ax.set_yticks(range(*yticks))\n",
    "_ = ax.legend(handles, [legend_labels[k] for k in labels], ncol=3, loc='upper left')"
   ]
  },
  {
   "cell_type": "markdown",
   "metadata": {},
   "source": [
    "We can define the elements of the confusion matrix as:\n",
    "* **True Positive (TP)**: forecast value > 0, historical value > 0;\n",
    "* **False Positive (FP)**: forecast value > 0, historical value = 0;\n",
    "* **True Negative (TN)**: forecast value = 0, historical value = 0;\n",
    "* **False Negative (FN)**: forecast value = 0, historical value > 0."
   ]
  },
  {
   "cell_type": "markdown",
   "metadata": {},
   "source": [
    "Balanced accuracy ($BA$) is defined as: $$ BA = \\frac{TPR + TNR}{2},$$\n",
    "where $TPR$ is true positive rate (also called recall or sensitivity): \n",
    "$$ \\text{TPR} = \\frac{\\sum \\text{TP} } {\\sum \\text{TP} + \\sum \\text{FN}},$$\n",
    "and $TNR$ is true negative rate (or specificity):\n",
    "$$ \\text{TNR} = \\frac{\\sum \\text{TN} } {\\sum \\text{TN} + \\sum \\text{FP}}.$$"
   ]
  },
  {
   "cell_type": "code",
   "execution_count": 40,
   "metadata": {},
   "outputs": [],
   "source": [
    "# TPR\n",
    "precip_tpr = precip_plt.loc[precip_plt['hist'] > 0.0].copy()\n",
    "for col in ['gismeteo', 'rp5', 'hmcr_g']:\n",
    "    val = precip_tpr[col] + precip_tpr['hist']\n",
    "    tp = val > 0.001\n",
    "    fn = val <= 0.001\n",
    "    precip_tpr.loc[tp, col] = 1\n",
    "    precip_tpr.loc[fn, col] = 0\n",
    "precip_tpr = precip_tpr.groupby('12h_bin').sum() / precip_tpr.groupby('12h_bin').count()\n",
    "precip_tpr = precip_tpr[['gismeteo', 'rp5', 'hmcr_g']]\n",
    "# TNR\n",
    "precip_tnr = precip_plt.loc[precip_plt['hist'] == 0.0].copy()\n",
    "for col in ['gismeteo', 'rp5', 'hmcr_g']:\n",
    "    val = precip_tnr[col] + precip_tnr['hist']\n",
    "    fp = val > 0.001\n",
    "    tn = val <= 0.001\n",
    "    precip_tnr.loc[tn, col] = 1\n",
    "    precip_tnr.loc[fp, col] = 0\n",
    "precip_tnr = precip_tnr.groupby('12h_bin').sum() / precip_tnr.groupby('12h_bin').count()\n",
    "precip_tnr = precip_tnr[['gismeteo', 'rp5', 'hmcr_g']]\n",
    "# BA\n",
    "precip_ba = (precip_tpr + precip_tnr) / 2"
   ]
  },
  {
   "cell_type": "code",
   "execution_count": 41,
   "metadata": {},
   "outputs": [
    {
     "data": {
      "image/png": "[encoded data removed]",
      "text/plain": [
       "<Figure size 1296x648 with 1 Axes>"
      ]
     },
     "metadata": {},
     "output_type": "display_data"
    }
   ],
   "source": [
    "ax = sns.lineplot(data=precip_ba, palette=colors, linewidth=1, marker='o', markersize=14, dashes=False)\n",
    "ax.set(xlabel='12-hour bin', ylabel='Balanced accuracy', title='Precipitation in 12-Hour Intervals')\n",
    "ax.set_ylim(0, 1)\n",
    "ax.set_xticks(list(range(1, 20)))\n",
    "ax.set_yticks([float(x)/10 for x in range(0, 11)])\n",
    "_ = ax.legend(labels=['Gismeteo', 'rp5', 'HMCR (Graphs)'])"
   ]
  }
 ],
 "metadata": {
  "interpreter": {
   "hash": "6d7eac0224fe749e12e1e6e642c52b105747583a5c2714f5eaa22f49258e7a6c"
  },
  "kernelspec": {
   "display_name": "Python 3 (ipykernel)",
   "language": "python",
   "name": "python3"
  },
  "language_info": {
   "codemirror_mode": {
    "name": "ipython",
    "version": 3
   },
   "file_extension": ".py",
   "mimetype": "text/x-python",
   "name": "python",
   "nbconvert_exporter": "python",
   "pygments_lexer": "ipython3",
   "version": "3.9.12"
  }
 },
 "nbformat": 4,
 "nbformat_minor": 4
}
