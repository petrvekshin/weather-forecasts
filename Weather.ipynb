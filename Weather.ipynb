{
 "cells": [
  {
   "cell_type": "markdown",
   "metadata": {
    "jp-MarkdownHeadingCollapsed": true,
    "tags": []
   },
   "source": [
    "# Imports and Definitions"
   ]
  },
  {
   "cell_type": "code",
   "execution_count": 59,
   "metadata": {},
   "outputs": [],
   "source": [
    "import pandas as pd\n",
    "import numpy as np\n",
    "from matplotlib import pyplot as plt\n",
    "import seaborn as sns\n",
    "%matplotlib inline\n",
    "\n",
    "forecast_dir = './data/forecast/'"
   ]
  },
  {
   "cell_type": "code",
   "execution_count": 60,
   "metadata": {},
   "outputs": [],
   "source": [
    "# Fields in historical dataset from rp5\n",
    "h = {'T': 'Температура воздуха (градусы Цельсия) на высоте 2 метра над поверхностью земли',\n",
    "    'Po': 'Атмосферное давление на уровне станции (миллиметры ртутного столба)',\n",
    "    'P': 'Атмосферное давление, приведенное к среднему уровню моря (миллиметры ртутного столба)',\n",
    "    'Pa': 'Барическая тенденция: изменение атмосферного давления за последние три часа (миллиметры ртутного столба)',\n",
    "    'U': 'Относительная влажность (%) на высоте 2 метра над поверхностью земли',\n",
    "    'DD': 'Направление ветра (румбы) на высоте 10-12 метров над земной поверхностью, осредненное за 10-минутный период, непосредственно предшествовавший сроку наблюдения',\n",
    "    'Ff': 'Cкорость ветра на высоте 10-12 метров над земной поверхностью, осредненная за 10-минутный период, непосредственно предшествовавший сроку наблюдения (метры в секунду)',\n",
    "    'ff10': 'Максимальное значение порыва ветра на высоте 10-12 метров над земной поверхностью за 10-минутный период, непосредственно предшествующий сроку наблюдения (метры в секунду)',\n",
    "    'ff3': 'Максимальное значение порыва ветра на высоте 10-12 метров над земной поверхностью за период между сроками (метры в секунду)',\n",
    "    'N': 'Общая облачность',\n",
    "    'WW': 'Текущая погода, сообщаемая с метеорологической станции',\n",
    "    'W1': 'Прошедшая погода между сроками наблюдения 1',\n",
    "    'W2': 'Прошедшая погода между сроками наблюдения 2',\n",
    "    'Tn': 'Минимальная температура воздуха (градусы Цельсия) за прошедший период (не более 12 часов)',\n",
    "    'Tx': 'Максимальная температура воздуха (градусы Цельсия) за прошедший период (не более 12 часов)',\n",
    "    'Cl': 'Слоисто-кучевые, слоистые, кучевые и кучево-дождевые облака',\n",
    "    'Nh': 'Количество всех наблюдающихся облаков Cl или, при отсутствии облаков Cl, количество всех наблюдающихся облаков Cm',\n",
    "    'H': 'Высота основания самых низких облаков (м)',\n",
    "    'Cm': 'Высококучевые, высокослоистые и слоисто-дождевые облака',\n",
    "    'Ch': 'Перистые, перисто-кучевые и перисто-слоистые облака',\n",
    "    'VV': 'Горизонтальная дальность видимости (км)',\n",
    "    'Td': 'Температура точки росы на высоте 2 метра над поверхностью земли (градусы Цельсия)',\n",
    "    'RRR': 'Количество выпавших осадков (миллиметры)',\n",
    "    'tR': 'Период времени, за который накоплено указанное количество осадков (часы)',\n",
    "    'E': 'Состояние поверхности почвы без снега или измеримого ледяного покрова',\n",
    "    'Tg': 'Минимальная температура поверхности почвы за ночь. (градусы Цельсия)',\n",
    "    \"E'\": 'Состояние поверхности почвы со снегом или измеримым ледяным покровом',\n",
    "    'sss': 'Высота снежного покрова (см)'}"
   ]
  },
  {
   "cell_type": "code",
   "execution_count": 61,
   "metadata": {},
   "outputs": [],
   "source": [
    "# Fields in forecast datasets\n",
    "forecast_cols = {'Request time': 'req_datetime',\n",
    "                 'Update time': 'upd_datetime',\n",
    "                 'Time': 'datetime',\n",
    "                 'Temperature, deg. C': 'temp',\n",
    "                 'Min temperature, deg. C': 'min_temp',\n",
    "                 'Max temperature, deg. C': 'max_temp',\n",
    "                 'Min/max temperature, deg. C': 'temp',\n",
    "                 'Feels like, deg. C': 'feels_like',\n",
    "                 'Humidity, pct': 'hum',\n",
    "                 'Pressure, mmHg': 'press',\n",
    "                 'Precipitation': 'precip_str',\n",
    "                 'Precipitation, mm': 'precip',\n",
    "                 'Probability of precipitation, pct': 'precip_prob',\n",
    "                 'Snowfall, sm': 'snowfall',\n",
    "                 'Snow depth, sm': 'snow_depth',\n",
    "                 'Wind speed, m/s': 'wind_speed',\n",
    "                 'Wind gusts, m/s': 'wind_gusts',\n",
    "                 'Wind direction, deg': 'wind_dir_deg',\n",
    "                 'Wind direction': 'wind_dir',\n",
    "                 'Cloud cover': 'cloud_cover',\n",
    "                 'Conditions': 'conditions',\n",
    "                 'Road conditions': 'road',\n",
    "                 'Fog, pct': 'fog',\n",
    "                 'Visibility': 'vis',\n",
    "                 'UV index': 'uv_ind',\n",
    "                 'Kp-index': 'kp_ind',\n",
    "                 'Birch pollen, points': 'birch',\n",
    "                 'Magnetic field': 'm_field'}\n",
    "wind_dir_to_deg = {'С': '0', 'СВ': '45', 'В': '90', 'ЮВ': '135',\n",
    "                   'Ю': '180', 'ЮЗ': '225', 'З': '270', 'СЗ': '315'}"
   ]
  },
  {
   "cell_type": "code",
   "execution_count": 62,
   "metadata": {},
   "outputs": [],
   "source": [
    "def sort_cols_rows(df):\n",
    "    first_cols = ['datetime', 'req_datetime', '12h_bin']\n",
    "    new_df = df.reindex(columns=first_cols + [c for c in list(df.columns) if c not in first_cols], copy=False)\n",
    "    new_df.sort_values(by=['datetime', 'req_datetime'], axis=0, ascending=[1, 1], inplace=True)\n",
    "    return new_df\n",
    "\n",
    "def replace_minus_plus(df, cols):\n",
    "    for c in cols:\n",
    "        df[c] = df[c].str.replace('−', '-')\n",
    "        df[c] = df[c].str.replace('+', '', regex=False)\n",
    "        df[c] = df[c].astype(float)\n",
    "        \n",
    "def precip_at_8_and_20(df):\n",
    "    df_0 = df[['datetime', '12h_bin', 'precip']].copy()\n",
    "    # add \"precip_datetime\" column for aggregating precipitation data at 08:00 and 20:00\n",
    "    df_0['precip_datetime'] = (df_0['datetime'] + pd.to_timedelta(4, unit=\"h\")).dt.ceil('12H') - pd.to_timedelta(4, unit=\"h\")\n",
    "    df_0 = df_0.groupby(['12h_bin', 'precip_datetime']).aggregate({'datetime': 'max', 'precip': 'sum'}).reset_index()\n",
    "    # an interval should include the end point\n",
    "    df_0 = df_0.loc[(df_0['precip_datetime'] == df_0['datetime']) & (df_0['12h_bin'] > 0)]\n",
    "    # the interval will be incomplete if request time is in:\n",
    "    # [11:00, 12:00) or [23:00, 00:00) for Gismeteo or HMCR\n",
    "    # [09:00, 12:00) or [21:00, 00:00) for rp5\n",
    "    return df_0[['datetime', '12h_bin', 'precip']].sort_values(by=['datetime', '12h_bin'], axis=0, ascending=[1, 0])\n",
    "        \n",
    "def get_min_max_temp(df, col='temp', new_col_name='temp', which='both'):\n",
    "    df_min_max = df.loc[:, ['datetime', '12h_bin', col]].copy()\n",
    "    # df_min_max.reset_index(inplace=True)\n",
    "    if col != new_col_name:\n",
    "        df_min_max.rename(columns={col: new_col_name}, inplace=True)\n",
    "    df_min_max['date'] = df_min_max['datetime'].dt.date\n",
    "    min_filt = df_min_max['datetime'].dt.hour < 12\n",
    "    df_min_max.drop('datetime', axis=1, inplace=True)\n",
    "    if which != 'max':\n",
    "        df_min = df_min_max.loc[min_filt].groupby(by=['date', '12h_bin'], axis=0).min()\n",
    "        df_min.reset_index(inplace=True)\n",
    "        # drop records with a request time after the beginning of the interval\n",
    "        df_min = df_min.loc[df_min['12h_bin']>0]\n",
    "        df_min.sort_values(by=['date', '12h_bin'], axis=0, ascending=[1, 0], inplace=True)\n",
    "    if which != 'min':\n",
    "        df_max = df_min_max.loc[~min_filt].groupby(by=['date', '12h_bin'], axis=0).max()\n",
    "        df_max.reset_index(inplace=True)\n",
    "        # drop records with a request time after the beginning of the interval\n",
    "        df_max = df_max.loc[df_max['12h_bin']>0]\n",
    "        df_max.sort_values(by=['date', '12h_bin'], axis=0, ascending=[1, 0], inplace=True)\n",
    "    if which == 'min':\n",
    "        return df_min\n",
    "    elif which == 'max':\n",
    "        return df_max\n",
    "    else:\n",
    "        return df_min, df_max\n",
    "\n",
    "def merge_dfs(dfs, col, col_keys, how):\n",
    "    keys = list(dfs.keys())\n",
    "    cols = col_keys.copy()\n",
    "    cols.append(col)\n",
    "    key0 = keys[0]\n",
    "    df0 = dfs[key0][cols].copy()\n",
    "    df0.rename(columns={col: key0}, inplace=True)\n",
    "    for k in keys[1:]:\n",
    "        df1 = dfs[k][cols].copy()\n",
    "        df1.rename(columns={col: k}, inplace=True)\n",
    "        df0 = df0.merge(df1, \n",
    "                        how=how,\n",
    "                        left_on=col_keys,\n",
    "                        right_on=col_keys,\n",
    "                        sort=False,\n",
    "                        validate='one_to_one')\n",
    "    return df0\n",
    "\n",
    "\n",
    "def boxplot_params(df, title, ylabel, ylim, legend_labels, legend_loc='upper left', yticks=None):\n",
    "    df_ = df.loc[(df['datetime'] >= start_date) & (df['datetime'] <= end_date)].copy()\n",
    "    df_['Day'] = np.ceil(df_['12h_bin'] / 2).astype(int)\n",
    "    pm_filt = df_['datetime'].dt.hour > 12\n",
    "    df_.loc[pm_filt, 'Day'] = np.ceil((df_.loc[pm_filt, '12h_bin'] - 1) / 2).astype(int)\n",
    "    df_ = df_.loc[df_['Day'] <= day_lim]\n",
    "    df_ = df_.melt(id_vars=['Day'],\n",
    "                   value_vars=[*legend_labels.keys()],\n",
    "                   var_name='Forecast',\n",
    "                   value_name=ylabel)\n",
    "    ax = sns.boxplot(x='Day', y=ylabel, data=df_, hue='Forecast', palette=colors, whis=1.5, fliersize=3)\n",
    "    handles, labels = ax.get_legend_handles_labels()\n",
    "    ax.set(title=title)\n",
    "    ax.set_ylim(*ylim)\n",
    "    if yticks:\n",
    "        ax.set_yticks(range(*yticks))\n",
    "    ax.legend(handles, [legend_labels[k] for k in labels], ncol=len(labels), loc=legend_loc)"
   ]
  },
  {
   "cell_type": "markdown",
   "metadata": {
    "jp-MarkdownHeadingCollapsed": true,
    "tags": []
   },
   "source": [
    "# Location"
   ]
  },
  {
   "cell_type": "markdown",
   "metadata": {},
   "source": [
    "[Wikipedia](https://en.wikipedia.org/wiki/Artyomovsky,_Sverdlovsk_Oblast): **Artyomovsky** (Russian: Артёмовский) is a town in Sverdlovsk Oblast, Russia, located on the Bobrovka River (Irbit's tributary, Ob's basin), 120 kilometers (75 mi) northeast of Yekaterinburg. Population: 33,160 (2010 Census); 34,980 (2002 Census); 41,247 (1989 Census). The map below is provided by [Yandex.Maps](https://yandex.com/maps/geo/artyomovskiy/53156571)."
   ]
  },
  {
   "cell_type": "markdown",
   "metadata": {},
   "source": [
    "![Artyomovsky_Yandex.png](./data/images/Artyomovsky_Yandex.png)"
   ]
  },
  {
   "cell_type": "markdown",
   "metadata": {
    "jp-MarkdownHeadingCollapsed": true,
    "tags": []
   },
   "source": [
    "# Historical Data"
   ]
  },
  {
   "cell_type": "markdown",
   "metadata": {},
   "source": [
    "A weather archive for Artyomovsky, Sverdlovsk Oblast was downloaded from [rp5.ru](https://rp5.ru/%D0%90%D1%80%D1%85%D0%B8%D0%B2_%D0%BF%D0%BE%D0%B3%D0%BE%D0%B4%D1%8B_%D0%B2_%D0%90%D1%80%D1%82%D0%B5%D0%BC%D0%BE%D0%B2%D1%81%D0%BA%D0%BE%D0%BC)."
   ]
  },
  {
   "cell_type": "code",
   "execution_count": 63,
   "metadata": {
    "scrolled": true
   },
   "outputs": [
    {
     "data": {
      "text/html": [
       "<div>\n",
       "<style scoped>\n",
       "    .dataframe tbody tr th:only-of-type {\n",
       "        vertical-align: middle;\n",
       "    }\n",
       "\n",
       "    .dataframe tbody tr th {\n",
       "        vertical-align: top;\n",
       "    }\n",
       "\n",
       "    .dataframe thead th {\n",
       "        text-align: right;\n",
       "    }\n",
       "</style>\n",
       "<table border=\"1\" class=\"dataframe\">\n",
       "  <thead>\n",
       "    <tr style=\"text-align: right;\">\n",
       "      <th></th>\n",
       "      <th>temp</th>\n",
       "      <th>press</th>\n",
       "      <th>hum</th>\n",
       "      <th>wind_dir_10m</th>\n",
       "      <th>wind_speed_10m</th>\n",
       "      <th>max_wind_speed_10m</th>\n",
       "      <th>max_wind_speed_3h</th>\n",
       "      <th>cur_weather</th>\n",
       "      <th>weather_3h_1</th>\n",
       "      <th>weather_3h_2</th>\n",
       "      <th>min_temp_3h</th>\n",
       "      <th>max_temp_3h</th>\n",
       "      <th>vis</th>\n",
       "      <th>precip</th>\n",
       "      <th>precip_int</th>\n",
       "      <th>snow_level</th>\n",
       "    </tr>\n",
       "    <tr>\n",
       "      <th>datetime</th>\n",
       "      <th></th>\n",
       "      <th></th>\n",
       "      <th></th>\n",
       "      <th></th>\n",
       "      <th></th>\n",
       "      <th></th>\n",
       "      <th></th>\n",
       "      <th></th>\n",
       "      <th></th>\n",
       "      <th></th>\n",
       "      <th></th>\n",
       "      <th></th>\n",
       "      <th></th>\n",
       "      <th></th>\n",
       "      <th></th>\n",
       "      <th></th>\n",
       "    </tr>\n",
       "  </thead>\n",
       "  <tbody>\n",
       "    <tr>\n",
       "      <th>2019-12-18 23:00:00</th>\n",
       "      <td>-9.7</td>\n",
       "      <td>743.5</td>\n",
       "      <td>97.0</td>\n",
       "      <td>NaN</td>\n",
       "      <td>0.0</td>\n",
       "      <td>NaN</td>\n",
       "      <td>NaN</td>\n",
       "      <td>Снег непрерывный умеренный в срок наблюдения.</td>\n",
       "      <td>Снег и/или другие виды твердых осадков</td>\n",
       "      <td>Облака покрывали более половины неба в течение...</td>\n",
       "      <td>NaN</td>\n",
       "      <td>NaN</td>\n",
       "      <td>2.0</td>\n",
       "      <td>NaN</td>\n",
       "      <td>NaN</td>\n",
       "      <td>NaN</td>\n",
       "    </tr>\n",
       "    <tr>\n",
       "      <th>2017-06-19 20:00:00</th>\n",
       "      <td>13.7</td>\n",
       "      <td>730.9</td>\n",
       "      <td>83.0</td>\n",
       "      <td>270.0</td>\n",
       "      <td>3.0</td>\n",
       "      <td>NaN</td>\n",
       "      <td>11.0</td>\n",
       "      <td>Ливневый(ые) дождь(и).</td>\n",
       "      <td>Ливень (ливни).</td>\n",
       "      <td>Облака покрывали более половины неба в течение...</td>\n",
       "      <td>NaN</td>\n",
       "      <td>14.7</td>\n",
       "      <td>NaN</td>\n",
       "      <td>NaN</td>\n",
       "      <td>NaN</td>\n",
       "      <td>NaN</td>\n",
       "    </tr>\n",
       "    <tr>\n",
       "      <th>2015-02-20 08:00:00</th>\n",
       "      <td>-14.7</td>\n",
       "      <td>745.9</td>\n",
       "      <td>52.0</td>\n",
       "      <td>135.0</td>\n",
       "      <td>2.0</td>\n",
       "      <td>NaN</td>\n",
       "      <td>NaN</td>\n",
       "      <td></td>\n",
       "      <td>NaN</td>\n",
       "      <td>NaN</td>\n",
       "      <td>-15.4</td>\n",
       "      <td>NaN</td>\n",
       "      <td>50.0</td>\n",
       "      <td>0.0</td>\n",
       "      <td>12.0</td>\n",
       "      <td>29.0</td>\n",
       "    </tr>\n",
       "    <tr>\n",
       "      <th>2019-01-13 14:00:00</th>\n",
       "      <td>-2.6</td>\n",
       "      <td>737.6</td>\n",
       "      <td>80.0</td>\n",
       "      <td>180.0</td>\n",
       "      <td>6.0</td>\n",
       "      <td>NaN</td>\n",
       "      <td>10.0</td>\n",
       "      <td>Слабый или умеренный поземок в целом низкий (н...</td>\n",
       "      <td>Снег и/или другие виды твердых осадков</td>\n",
       "      <td>Метель</td>\n",
       "      <td>NaN</td>\n",
       "      <td>NaN</td>\n",
       "      <td>50.0</td>\n",
       "      <td>NaN</td>\n",
       "      <td>NaN</td>\n",
       "      <td>NaN</td>\n",
       "    </tr>\n",
       "  </tbody>\n",
       "</table>\n",
       "</div>"
      ],
      "text/plain": [
       "                     temp  press   hum  wind_dir_10m  wind_speed_10m  \\\n",
       "datetime                                                               \n",
       "2019-12-18 23:00:00  -9.7  743.5  97.0           NaN             0.0   \n",
       "2017-06-19 20:00:00  13.7  730.9  83.0         270.0             3.0   \n",
       "2015-02-20 08:00:00 -14.7  745.9  52.0         135.0             2.0   \n",
       "2019-01-13 14:00:00  -2.6  737.6  80.0         180.0             6.0   \n",
       "\n",
       "                     max_wind_speed_10m  max_wind_speed_3h  \\\n",
       "datetime                                                     \n",
       "2019-12-18 23:00:00                 NaN                NaN   \n",
       "2017-06-19 20:00:00                 NaN               11.0   \n",
       "2015-02-20 08:00:00                 NaN                NaN   \n",
       "2019-01-13 14:00:00                 NaN               10.0   \n",
       "\n",
       "                                                           cur_weather  \\\n",
       "datetime                                                                 \n",
       "2019-12-18 23:00:00     Снег непрерывный умеренный в срок наблюдения.    \n",
       "2017-06-19 20:00:00                            Ливневый(ые) дождь(и).    \n",
       "2015-02-20 08:00:00                                                      \n",
       "2019-01-13 14:00:00  Слабый или умеренный поземок в целом низкий (н...   \n",
       "\n",
       "                                               weather_3h_1  \\\n",
       "datetime                                                      \n",
       "2019-12-18 23:00:00  Снег и/или другие виды твердых осадков   \n",
       "2017-06-19 20:00:00                         Ливень (ливни).   \n",
       "2015-02-20 08:00:00                                     NaN   \n",
       "2019-01-13 14:00:00  Снег и/или другие виды твердых осадков   \n",
       "\n",
       "                                                          weather_3h_2  \\\n",
       "datetime                                                                 \n",
       "2019-12-18 23:00:00  Облака покрывали более половины неба в течение...   \n",
       "2017-06-19 20:00:00  Облака покрывали более половины неба в течение...   \n",
       "2015-02-20 08:00:00                                                NaN   \n",
       "2019-01-13 14:00:00                                             Метель   \n",
       "\n",
       "                     min_temp_3h  max_temp_3h   vis  precip  precip_int  \\\n",
       "datetime                                                                  \n",
       "2019-12-18 23:00:00          NaN          NaN   2.0     NaN         NaN   \n",
       "2017-06-19 20:00:00          NaN         14.7   NaN     NaN         NaN   \n",
       "2015-02-20 08:00:00        -15.4          NaN  50.0     0.0        12.0   \n",
       "2019-01-13 14:00:00          NaN          NaN  50.0     NaN         NaN   \n",
       "\n",
       "                     snow_level  \n",
       "datetime                         \n",
       "2019-12-18 23:00:00         NaN  \n",
       "2017-06-19 20:00:00         NaN  \n",
       "2015-02-20 08:00:00        29.0  \n",
       "2019-01-13 14:00:00         NaN  "
      ]
     },
     "execution_count": 63,
     "metadata": {},
     "output_type": "execute_result"
    }
   ],
   "source": [
    "hist_file = './data/28346.13.04.2006.19.10.2022.1.0.0.ru.utf8.00000000.csv'\n",
    "hist_cols = {'T': 'temp', 'Po': 'press', 'P': 'press_sea', 'Pa': 'press_change_3h',\n",
    "     'U': 'hum', 'DD': 'wind_dir_10m', 'Ff': 'wind_speed_10m',\n",
    "     'ff10': 'max_wind_speed_10m', 'ff3': 'max_wind_speed_3h', 'N': 'clouds',\n",
    "    'WW': 'cur_weather', 'W1': 'weather_3h_1', 'W2': 'weather_3h_2',\n",
    "    'Tn': 'min_temp_3h', 'Tx': 'max_temp_3h', 'Cl': 'Cl_clouds',\n",
    "    'Nh': 'Cl_Cm_clouds','H': 'cloud_base', 'Cm': 'Cm_clouds', 'Ch': 'Ch_clouds',\n",
    "    'VV': 'vis', 'Td': 'dew_point', 'RRR': 'precip', 'tR': 'precip_int',\n",
    "    'E': 'earth_wo_snow', 'Tg': 'min_night_earth_temp', \"E'\": 'earth_w_snow',\n",
    "    'sss': 'snow_level', 'Местное время в Артемовском': 'datetime'}\n",
    "hist_wind_dir_to_deg = {'Ветер, дующий с севера': '0',\n",
    "                        'Ветер, дующий с северо-северо-востока': '22.5',\n",
    "                        'Ветер, дующий с северо-востока': '45',\n",
    "                        'Ветер, дующий с востоко-северо-востока': '67.5',\n",
    "                        'Ветер, дующий с востока': '90',\n",
    "                        'Ветер, дующий с востоко-юго-востока': '112.5',\n",
    "                        'Ветер, дующий с юго-востока': '135',\n",
    "                        'Ветер, дующий с юго-юго-востока': '157.5',\n",
    "                        'Ветер, дующий с юга': '180',\n",
    "                        'Ветер, дующий с юго-юго-запада': '202.5',\n",
    "                        'Ветер, дующий с юго-запада': '225',\n",
    "                        'Ветер, дующий с западо-юго-запада': '247.5',\n",
    "                        'Ветер, дующий с запада': '270',\n",
    "                        'Ветер, дующий с западо-северо-запада': '292.5',\n",
    "                        'Ветер, дующий с северо-запада': '315',\n",
    "                        'Ветер, дующий с северо-северо-запада': '337.5',\n",
    "                        'Штиль, безветрие': np.nan,\n",
    "                        'Переменное направление': np.nan}\n",
    "cols_to_drop = ['press_sea', 'press_change_3h', 'clouds', \n",
    "                'Cl_clouds', 'Cl_Cm_clouds', 'cloud_base', \n",
    "                'Cm_clouds', 'Ch_clouds', 'dew_point', 'earth_wo_snow', \n",
    "                'min_night_earth_temp', 'earth_w_snow']\n",
    "hist = pd.read_csv(hist_file, sep=';', comment='#', \n",
    "                   parse_dates=[0], dayfirst=True, index_col=False)\n",
    "hist.rename(columns=hist_cols, inplace=True)\n",
    "hist.drop(columns=cols_to_drop, inplace=True)\n",
    "hist.set_index('datetime', inplace=True)\n",
    "hist.sort_index(level='datetime', axis=0, ascending=True, inplace=True)\n",
    "# convert wind directions into numerical values (degrees)\n",
    "hist['wind_dir_10m'] = hist['wind_dir_10m'].map(hist_wind_dir_to_deg).astype(float)\n",
    "# convert \"precip\" and \"snow_level\" columns to float\n",
    "hist['precip'].replace({'Осадков нет': '0', 'Следы осадков': '0.05'}, inplace=True)\n",
    "hist['precip'] = hist['precip'].astype(float)\n",
    "hist['snow_level'].replace({'Менее 0.5': '0.25', 'Снежный покров не постоянный.': np.nan}, inplace=True)\n",
    "hist['snow_level'] = hist['snow_level'].astype(float)\n",
    "hist.sample(4)"
   ]
  },
  {
   "cell_type": "markdown",
   "metadata": {
    "jp-MarkdownHeadingCollapsed": true,
    "tags": []
   },
   "source": [
    "# Gismeteo Forecast"
   ]
  },
  {
   "cell_type": "markdown",
   "metadata": {},
   "source": [
    "**Gismeteo** provides [10-day forecast](https://www.gismeteo.ru/weather-artemovsky-4495/) ([EN](https://www.gismeteo.com/weather-artemovsky-4495/)) with a three hour interval (02:00, 05:00, 08:00, 11:00, 14:00, 17:00, 20:00, 23:00)."
   ]
  },
  {
   "cell_type": "markdown",
   "metadata": {
    "jp-MarkdownHeadingCollapsed": true,
    "tags": []
   },
   "source": [
    "### Russian Version"
   ]
  },
  {
   "cell_type": "markdown",
   "metadata": {},
   "source": [
    "![gm_main_ru.png](./data/images/gm_main_ru.png)"
   ]
  },
  {
   "cell_type": "markdown",
   "metadata": {},
   "source": [
    "![gm_wind_ru.png](./data/images/gm_wind_ru.png)"
   ]
  },
  {
   "cell_type": "markdown",
   "metadata": {},
   "source": [
    "![gm_pollen_ru.png](./data/images/gm_pollen_ru.png)"
   ]
  },
  {
   "cell_type": "markdown",
   "metadata": {},
   "source": [
    "![gm_roads_ru.png](./data/images/gm_roads_ru.png)"
   ]
  },
  {
   "cell_type": "markdown",
   "metadata": {},
   "source": [
    "![gm_pressure_ru.png](./data/images/gm_pressure_ru.png)"
   ]
  },
  {
   "cell_type": "markdown",
   "metadata": {},
   "source": [
    "![gm_humidity_ru.png](./data/images/gm_humidity_ru.png)"
   ]
  },
  {
   "cell_type": "markdown",
   "metadata": {},
   "source": [
    "![gm_sun_moon_ru.png](./data/images/gm_sun_moon_ru.png)"
   ]
  },
  {
   "cell_type": "markdown",
   "metadata": {},
   "source": [
    "![gm_kp_ru.png](./data/images/gm_kp_ru.png)"
   ]
  },
  {
   "cell_type": "markdown",
   "metadata": {
    "jp-MarkdownHeadingCollapsed": true,
    "tags": []
   },
   "source": [
    "### English Version"
   ]
  },
  {
   "cell_type": "markdown",
   "metadata": {},
   "source": [
    "![gm_main_en.png](./data/images/gm_main_en.png)"
   ]
  },
  {
   "cell_type": "markdown",
   "metadata": {},
   "source": [
    "![gm_wind_en.png](./data/images/gm_wind_en.png)"
   ]
  },
  {
   "cell_type": "markdown",
   "metadata": {},
   "source": [
    "![gm_pollen_en.png](./data/images/gm_pollen_en.png)"
   ]
  },
  {
   "cell_type": "markdown",
   "metadata": {},
   "source": [
    "![gm_pressure_en.png](./data/images/gm_pressure_en.png)"
   ]
  },
  {
   "cell_type": "markdown",
   "metadata": {},
   "source": [
    "![gm_humidity_en.png](./data/images/gm_humidity_en.png)"
   ]
  },
  {
   "cell_type": "markdown",
   "metadata": {},
   "source": [
    "![gm_visibility_en.png](./data/images/gm_visibility_en.png)"
   ]
  },
  {
   "cell_type": "markdown",
   "metadata": {},
   "source": [
    "![gm_sun_moon_en.png](./data/images/gm_sun_moon_en.png)"
   ]
  },
  {
   "cell_type": "markdown",
   "metadata": {},
   "source": [
    "![gm_kp_en.png](./data/images/gm_kp_en.png)"
   ]
  },
  {
   "cell_type": "markdown",
   "metadata": {
    "jp-MarkdownHeadingCollapsed": true,
    "tags": []
   },
   "source": [
    "### Loading Data"
   ]
  },
  {
   "cell_type": "code",
   "execution_count": 64,
   "metadata": {},
   "outputs": [
    {
     "data": {
      "text/html": [
       "<div>\n",
       "<style scoped>\n",
       "    .dataframe tbody tr th:only-of-type {\n",
       "        vertical-align: middle;\n",
       "    }\n",
       "\n",
       "    .dataframe tbody tr th {\n",
       "        vertical-align: top;\n",
       "    }\n",
       "\n",
       "    .dataframe thead th {\n",
       "        text-align: right;\n",
       "    }\n",
       "</style>\n",
       "<table border=\"1\" class=\"dataframe\">\n",
       "  <thead>\n",
       "    <tr style=\"text-align: right;\">\n",
       "      <th></th>\n",
       "      <th>datetime</th>\n",
       "      <th>req_datetime</th>\n",
       "      <th>12h_bin</th>\n",
       "      <th>temp</th>\n",
       "      <th>hum</th>\n",
       "      <th>press</th>\n",
       "      <th>precip</th>\n",
       "      <th>snowfall</th>\n",
       "      <th>snow_depth</th>\n",
       "      <th>wind_speed</th>\n",
       "      <th>wind_dir</th>\n",
       "      <th>conditions</th>\n",
       "      <th>road</th>\n",
       "      <th>vis</th>\n",
       "      <th>uv_ind</th>\n",
       "      <th>kp_ind</th>\n",
       "      <th>birch</th>\n",
       "      <th>wind_gusts</th>\n",
       "    </tr>\n",
       "  </thead>\n",
       "  <tbody>\n",
       "    <tr>\n",
       "      <th>4364</th>\n",
       "      <td>2022-03-22 14:00:00</td>\n",
       "      <td>2022-03-17 05:32:19</td>\n",
       "      <td>11</td>\n",
       "      <td>0.0</td>\n",
       "      <td>81.0</td>\n",
       "      <td>734.0</td>\n",
       "      <td>0.8</td>\n",
       "      <td>NaN</td>\n",
       "      <td>NaN</td>\n",
       "      <td>4.0</td>\n",
       "      <td>270.0</td>\n",
       "      <td>Пасмурно, небольшой снег с дождём</td>\n",
       "      <td>NaN</td>\n",
       "      <td>NaN</td>\n",
       "      <td>NaN</td>\n",
       "      <td>2.0</td>\n",
       "      <td>NaN</td>\n",
       "      <td>7.0</td>\n",
       "    </tr>\n",
       "    <tr>\n",
       "      <th>1969</th>\n",
       "      <td>2022-03-08 05:00:00</td>\n",
       "      <td>2022-03-02 05:41:44</td>\n",
       "      <td>12</td>\n",
       "      <td>-23.0</td>\n",
       "      <td>78.0</td>\n",
       "      <td>748.0</td>\n",
       "      <td>0.0</td>\n",
       "      <td>NaN</td>\n",
       "      <td>49.3</td>\n",
       "      <td>2.0</td>\n",
       "      <td>315.0</td>\n",
       "      <td>Ясно</td>\n",
       "      <td>Сухая дорога</td>\n",
       "      <td>28000.0</td>\n",
       "      <td>0.0</td>\n",
       "      <td>2.0</td>\n",
       "      <td>NaN</td>\n",
       "      <td>4.0</td>\n",
       "    </tr>\n",
       "    <tr>\n",
       "      <th>29403</th>\n",
       "      <td>2022-08-24 11:00:00</td>\n",
       "      <td>2022-08-19 05:25:29</td>\n",
       "      <td>10</td>\n",
       "      <td>24.0</td>\n",
       "      <td>51.0</td>\n",
       "      <td>757.0</td>\n",
       "      <td>0.0</td>\n",
       "      <td>NaN</td>\n",
       "      <td>NaN</td>\n",
       "      <td>2.0</td>\n",
       "      <td>315.0</td>\n",
       "      <td>Малооблачно</td>\n",
       "      <td>Сухая дорога</td>\n",
       "      <td>NaN</td>\n",
       "      <td>NaN</td>\n",
       "      <td>2.0</td>\n",
       "      <td>NaN</td>\n",
       "      <td>3.0</td>\n",
       "    </tr>\n",
       "    <tr>\n",
       "      <th>24701</th>\n",
       "      <td>2022-07-27 17:00:00</td>\n",
       "      <td>2022-07-20 17:25:28</td>\n",
       "      <td>14</td>\n",
       "      <td>24.0</td>\n",
       "      <td>61.0</td>\n",
       "      <td>749.0</td>\n",
       "      <td>0.0</td>\n",
       "      <td>NaN</td>\n",
       "      <td>NaN</td>\n",
       "      <td>3.0</td>\n",
       "      <td>45.0</td>\n",
       "      <td>Ясно</td>\n",
       "      <td>Сухая дорога</td>\n",
       "      <td>NaN</td>\n",
       "      <td>NaN</td>\n",
       "      <td>2.0</td>\n",
       "      <td>NaN</td>\n",
       "      <td>NaN</td>\n",
       "    </tr>\n",
       "  </tbody>\n",
       "</table>\n",
       "</div>"
      ],
      "text/plain": [
       "                 datetime        req_datetime  12h_bin  temp   hum  press  \\\n",
       "4364  2022-03-22 14:00:00 2022-03-17 05:32:19       11   0.0  81.0  734.0   \n",
       "1969  2022-03-08 05:00:00 2022-03-02 05:41:44       12 -23.0  78.0  748.0   \n",
       "29403 2022-08-24 11:00:00 2022-08-19 05:25:29       10  24.0  51.0  757.0   \n",
       "24701 2022-07-27 17:00:00 2022-07-20 17:25:28       14  24.0  61.0  749.0   \n",
       "\n",
       "       precip  snowfall  snow_depth  wind_speed  wind_dir  \\\n",
       "4364      0.8       NaN         NaN         4.0     270.0   \n",
       "1969      0.0       NaN        49.3         2.0     315.0   \n",
       "29403     0.0       NaN         NaN         2.0     315.0   \n",
       "24701     0.0       NaN         NaN         3.0      45.0   \n",
       "\n",
       "                              conditions          road      vis  uv_ind  \\\n",
       "4364   Пасмурно, небольшой снег с дождём           NaN      NaN     NaN   \n",
       "1969                                Ясно  Сухая дорога  28000.0     0.0   \n",
       "29403                        Малооблачно  Сухая дорога      NaN     NaN   \n",
       "24701                               Ясно  Сухая дорога      NaN     NaN   \n",
       "\n",
       "       kp_ind  birch  wind_gusts  \n",
       "4364      2.0    NaN         7.0  \n",
       "1969      2.0    NaN         4.0  \n",
       "29403     2.0    NaN         3.0  \n",
       "24701     2.0    NaN         NaN  "
      ]
     },
     "execution_count": 64,
     "metadata": {},
     "output_type": "execute_result"
    }
   ],
   "source": [
    "gm = pd.read_csv(forecast_dir + 'gismeteo-artemovsky-4495.csv',\n",
    "                 sep=';',\n",
    "                 parse_dates=[0, 1, 2],\n",
    "                 dtype={3: 'float', 4: 'float', 5: 'float', 7: 'str', 8: 'str', 13: 'str'},\n",
    "                 na_values=['н/д', '-', '—', 'Нет данных'])\n",
    "gm.rename(columns=forecast_cols, inplace=True)\n",
    "gm['req_datetime'].fillna(method='ffill', inplace=True)\n",
    "# replace commas in some columns and convert them to float\n",
    "for c in ['precip', 'snowfall', 'snow_depth']:\n",
    "    gm[c] = gm[c].str.replace(',', '.').astype(float)\n",
    "gm['kp_ind'] = gm['kp_ind'].astype(float)\n",
    "# split wind data into speed and gusts columns\n",
    "speed_gusts = gm['wind_speed'].str.split(pat='-', expand=True)\n",
    "gm['wind_speed'] = speed_gusts[0].astype(float)\n",
    "gm['wind_gusts'] = speed_gusts[1].astype(float)\n",
    "# convert wind directions into numerical values (degrees)\n",
    "gm['wind_dir'] = gm['wind_dir'].map(wind_dir_to_deg).astype(float)\n",
    "# visibility column has different units\n",
    "vis = gm['vis'].str.extract(r'(\\d+)\\ ?([км]+)')\n",
    "vis[2] = vis[0].astype(float)\n",
    "km_filt = vis[1] == 'км'\n",
    "vis.loc[km_filt, 2] = vis.loc[km_filt, 2] * 1000\n",
    "gm['vis'] = vis[2]\n",
    "# Gismeteo forecast also contains actual data\n",
    "# (temperature, wind speed, wind gusts, precipitations, conditions)\n",
    "past_filt = gm['req_datetime'] > gm['datetime']\n",
    "gm_hist = gm.loc[past_filt & gm['upd_datetime'].isna()].copy()\n",
    "gm = gm.loc[~past_filt]\n",
    "# \"upd_datetime\" column can be dropped\n",
    "gm.drop('upd_datetime', axis=1, inplace=True)\n",
    "gm_hist.drop(['req_datetime', 'upd_datetime'], axis=1, inplace=True)\n",
    "gm_hist.drop_duplicates(subset='datetime', keep='last', inplace=True)\n",
    "gm_hist.set_index('datetime', inplace=True)\n",
    "# \"datetime\" and \"req_datetime\" can be split into 12-hour bins ([00:00, 12:00) and [12:00, 24:00))\n",
    "# add \"12h_bin\" column indicating bin number: 0 if \"datetime\" and \"req_datetime\" are in the same bin,\n",
    "# 1 if \"datetime\" is in the next bin relative to \"req_datetime\" and so on\n",
    "gm['12h_bin'] = ((gm['datetime'].dt.floor('12H') - gm['req_datetime'].dt.floor('12H')) / pd.to_timedelta(12, unit=\"h\")).astype(int)\n",
    "# drop duplicates by keeping the last record in a bin for each \"datetime\"\n",
    "gm.drop_duplicates(subset=['datetime', '12h_bin'], keep='last', inplace=True)\n",
    "# sort columns and rows\n",
    "gm = sort_cols_rows(gm)\n",
    "gm.sample(4)"
   ]
  },
  {
   "cell_type": "markdown",
   "metadata": {
    "jp-MarkdownHeadingCollapsed": true,
    "tags": []
   },
   "source": [
    "# rp5 Forecast\n"
   ]
  },
  {
   "cell_type": "markdown",
   "metadata": {},
   "source": [
    "**rp5** (Russian: **РП5**) offers [6-day forecast](https://rp5.ru/%D0%9F%D0%BE%D0%B3%D0%BE%D0%B4%D0%B0_%D0%B2_%D0%9F%D0%BE%D0%BA%D1%80%D0%BE%D0%B2%D1%81%D0%BA%D0%BE%D0%BC,_%D0%90%D1%80%D1%82%D0%B5%D0%BC%D0%BE%D0%B2%D1%81%D0%BA%D0%B8%D0%B9_%D1%80%D0%B0%D0%B9%D0%BE%D0%BD) ([EN](https://rp5.ru/Weather_in_Artyomovsky)) with one hour interval for the first day or two and a three hour interval for the rest (time points are similar to those of Gismeteo). To convert snow precipitation into water we need to [divide by 10](https://rp5.ru/docs/descript/ru) ([EN](https://rp5.ru/docs/descript/en))."
   ]
  },
  {
   "cell_type": "markdown",
   "metadata": {
    "jp-MarkdownHeadingCollapsed": true,
    "tags": []
   },
   "source": [
    "### Russian Version"
   ]
  },
  {
   "cell_type": "markdown",
   "metadata": {},
   "source": [
    "![rp5_1_ru.png](./data/images/rp5_1_ru.png)"
   ]
  },
  {
   "cell_type": "markdown",
   "metadata": {},
   "source": [
    "![rp5_4_ru.png](./data/images/rp5_4_ru.png)"
   ]
  },
  {
   "cell_type": "markdown",
   "metadata": {
    "jp-MarkdownHeadingCollapsed": true,
    "tags": []
   },
   "source": [
    "### English Version"
   ]
  },
  {
   "cell_type": "markdown",
   "metadata": {},
   "source": [
    "![rp5_1_en.png](./data/images/rp5_1_en.png)"
   ]
  },
  {
   "cell_type": "markdown",
   "metadata": {},
   "source": [
    "![rp5_4_en.png](./data/images/rp5_4_en.png)"
   ]
  },
  {
   "cell_type": "markdown",
   "metadata": {
    "jp-MarkdownHeadingCollapsed": true,
    "tags": []
   },
   "source": [
    "### Loading Data"
   ]
  },
  {
   "cell_type": "code",
   "execution_count": 65,
   "metadata": {},
   "outputs": [
    {
     "data": {
      "text/html": [
       "<div>\n",
       "<style scoped>\n",
       "    .dataframe tbody tr th:only-of-type {\n",
       "        vertical-align: middle;\n",
       "    }\n",
       "\n",
       "    .dataframe tbody tr th {\n",
       "        vertical-align: top;\n",
       "    }\n",
       "\n",
       "    .dataframe thead th {\n",
       "        text-align: right;\n",
       "    }\n",
       "</style>\n",
       "<table border=\"1\" class=\"dataframe\">\n",
       "  <thead>\n",
       "    <tr style=\"text-align: right;\">\n",
       "      <th></th>\n",
       "      <th>datetime</th>\n",
       "      <th>req_datetime</th>\n",
       "      <th>12h_bin</th>\n",
       "      <th>temp</th>\n",
       "      <th>feels_like</th>\n",
       "      <th>hum</th>\n",
       "      <th>press</th>\n",
       "      <th>wind_speed</th>\n",
       "      <th>wind_gusts</th>\n",
       "      <th>wind_dir</th>\n",
       "      <th>fog</th>\n",
       "      <th>precip_str</th>\n",
       "      <th>cloud_cover</th>\n",
       "      <th>precip</th>\n",
       "    </tr>\n",
       "  </thead>\n",
       "  <tbody>\n",
       "    <tr>\n",
       "      <th>3873</th>\n",
       "      <td>2022-04-07 05:00:00</td>\n",
       "      <td>2022-04-04 17:25:04</td>\n",
       "      <td>5</td>\n",
       "      <td>-2.0</td>\n",
       "      <td>-7.0</td>\n",
       "      <td>74.0</td>\n",
       "      <td>746.0</td>\n",
       "      <td>4.0</td>\n",
       "      <td>8.0</td>\n",
       "      <td>180.0</td>\n",
       "      <td>NaN</td>\n",
       "      <td>Явления погоды отсутствуют</td>\n",
       "      <td>Облачно с прояснениями (облака нижнего яруса 4...</td>\n",
       "      <td>0.0</td>\n",
       "    </tr>\n",
       "    <tr>\n",
       "      <th>20407</th>\n",
       "      <td>2022-08-03 11:00:00</td>\n",
       "      <td>2022-08-01 17:25:05</td>\n",
       "      <td>3</td>\n",
       "      <td>22.0</td>\n",
       "      <td>22.0</td>\n",
       "      <td>56.0</td>\n",
       "      <td>752.0</td>\n",
       "      <td>2.0</td>\n",
       "      <td>7.0</td>\n",
       "      <td>45.0</td>\n",
       "      <td>NaN</td>\n",
       "      <td>Явления погоды отсутствуют</td>\n",
       "      <td>Переменная облачность (облака нижнего яруса 46...</td>\n",
       "      <td>0.0</td>\n",
       "    </tr>\n",
       "    <tr>\n",
       "      <th>30149</th>\n",
       "      <td>2022-10-08 21:00:00</td>\n",
       "      <td>2022-10-08 17:25:05</td>\n",
       "      <td>0</td>\n",
       "      <td>8.0</td>\n",
       "      <td>6.0</td>\n",
       "      <td>64.0</td>\n",
       "      <td>748.0</td>\n",
       "      <td>4.0</td>\n",
       "      <td>9.0</td>\n",
       "      <td>270.0</td>\n",
       "      <td>NaN</td>\n",
       "      <td>Явления погоды отсутствуют</td>\n",
       "      <td>Облачно (облака нижнего яруса 80%, среднего яр...</td>\n",
       "      <td>0.0</td>\n",
       "    </tr>\n",
       "    <tr>\n",
       "      <th>6310</th>\n",
       "      <td>2022-04-24 03:00:00</td>\n",
       "      <td>2022-04-22 17:25:03</td>\n",
       "      <td>3</td>\n",
       "      <td>-2.0</td>\n",
       "      <td>-6.0</td>\n",
       "      <td>67.0</td>\n",
       "      <td>753.0</td>\n",
       "      <td>3.0</td>\n",
       "      <td>6.0</td>\n",
       "      <td>180.0</td>\n",
       "      <td>NaN</td>\n",
       "      <td>Явления погоды отсутствуют</td>\n",
       "      <td>Малооблачно (облака нижнего яруса 9%, верхнего...</td>\n",
       "      <td>0.0</td>\n",
       "    </tr>\n",
       "  </tbody>\n",
       "</table>\n",
       "</div>"
      ],
      "text/plain": [
       "                 datetime        req_datetime  12h_bin  temp  feels_like  \\\n",
       "3873  2022-04-07 05:00:00 2022-04-04 17:25:04        5  -2.0        -7.0   \n",
       "20407 2022-08-03 11:00:00 2022-08-01 17:25:05        3  22.0        22.0   \n",
       "30149 2022-10-08 21:00:00 2022-10-08 17:25:05        0   8.0         6.0   \n",
       "6310  2022-04-24 03:00:00 2022-04-22 17:25:03        3  -2.0        -6.0   \n",
       "\n",
       "        hum  press  wind_speed  wind_gusts  wind_dir  fog  \\\n",
       "3873   74.0  746.0         4.0         8.0     180.0  NaN   \n",
       "20407  56.0  752.0         2.0         7.0      45.0  NaN   \n",
       "30149  64.0  748.0         4.0         9.0     270.0  NaN   \n",
       "6310   67.0  753.0         3.0         6.0     180.0  NaN   \n",
       "\n",
       "                       precip_str  \\\n",
       "3873   Явления погоды отсутствуют   \n",
       "20407  Явления погоды отсутствуют   \n",
       "30149  Явления погоды отсутствуют   \n",
       "6310   Явления погоды отсутствуют   \n",
       "\n",
       "                                             cloud_cover  precip  \n",
       "3873   Облачно с прояснениями (облака нижнего яруса 4...     0.0  \n",
       "20407  Переменная облачность (облака нижнего яруса 46...     0.0  \n",
       "30149  Облачно (облака нижнего яруса 80%, среднего яр...     0.0  \n",
       "6310   Малооблачно (облака нижнего яруса 9%, верхнего...     0.0  "
      ]
     },
     "execution_count": 65,
     "metadata": {},
     "output_type": "execute_result"
    }
   ],
   "source": [
    "rp = pd.read_csv(forecast_dir + 'rp5-Погода_в_Артемовском_Свердловская_область.csv',\n",
    "                 sep=\";\",\n",
    "                 parse_dates=[0, 1, 2],\n",
    "                 dtype={3: 'float', 4: 'float', 5: 'float', 6: 'float', 7: 'float', 8: 'float', 10: 'float'},\n",
    "                 na_values=['-'])\n",
    "rp.rename(columns=forecast_cols, inplace=True)\n",
    "# \"upd_datetime\" column can be dropped\n",
    "rp.drop('upd_datetime', axis=1, inplace=True)\n",
    "rp['req_datetime'].fillna(method='ffill', inplace=True)\n",
    "# due to a poorly written script for parsing HTML \n",
    "# forecast data has only four time points for each day (05:00, 11:00, 17:00, 23:00)\n",
    "# before the evening of 2022-03-15\n",
    "rp = rp.loc[rp['req_datetime'] >= '2022-03-16']\n",
    "# drop past records in case if there is any\n",
    "past_filt = rp['req_datetime'] > rp['datetime']\n",
    "rp = rp.loc[~past_filt]\n",
    "# add \"12h_bin\" column indicating bin number\n",
    "rp['12h_bin'] = ((rp['datetime'].dt.floor('12H') - rp['req_datetime'].dt.floor('12H')) / pd.to_timedelta(12, unit=\"h\")).astype(int)\n",
    "# drop duplicates by keeping the last record in a bin for each \"datetime\"\n",
    "rp.drop_duplicates(subset=['datetime', '12h_bin'], keep='last', inplace=True)\n",
    "# convert wind directions into numerical values (degrees)\n",
    "rp['wind_dir'] = rp['wind_dir'].str.replace('-', '').map(wind_dir_to_deg).astype(float)\n",
    "# sort columns and rows\n",
    "rp = sort_cols_rows(rp)\n",
    "# extract precipitation values from \"precip_str\" and convert them in mm\n",
    "precip_pat = r'(?P<amt>[0-9\\.]+)\\s(?P<unit>мм|см)\\s(?P<type>воды|снега)'\n",
    "pat = precip_pat + r'(?P<str_1>.+)за\\s(?P<dur>\\d)\\s[а-я]+\\sс\\s(?P<start>\\d\\d)\\:00\\sдо\\s(?P<end>\\d\\d)\\:00'\n",
    "amnt0 = rp['precip_str'].str.extract(pat, expand=True)\n",
    "amnt1 = amnt0['str_1'].str.extract(precip_pat, expand=True)\n",
    "amnt = amnt0.drop(columns='str_1').merge(amnt1, left_index=True, right_index=True, suffixes=('_0', '_1'))\n",
    "precip_int = amnt['end'].astype(float) - amnt['start'].astype(float)\n",
    "precip_int[precip_int<0] += 24\n",
    "# here we rely on the fact the snowfall is always in cm and we don't need a conversion\n",
    "p0 = amnt['amt_0'].astype(float).fillna(0.0)\n",
    "p1 = amnt['amt_1'].astype(float).fillna(0.0)\n",
    "rp['precip'] = ((p0 + p1) * precip_int / amnt['dur'].astype(float)).fillna(0.0)\n",
    "rp.sample(4)"
   ]
  },
  {
   "cell_type": "markdown",
   "metadata": {
    "jp-MarkdownHeadingCollapsed": true,
    "tags": []
   },
   "source": [
    "# Yandex.Weather Forecast"
   ]
  },
  {
   "cell_type": "markdown",
   "metadata": {},
   "source": [
    "**Yandex.Weather** (Russian: **Яндекс.Погода**) provides [10-day forecast](https://yandex.ru/pogoda/artyomovsky/details) ([EN](https://yandex.com/weather/artyomovsky/details)) with a day divided into [four intervals](https://yandex.ru/pogoda/docs/forecast-periods.html) ([EN](https://yandex.com/weather/docs/forecast-periods.html)): morning (06:00-12:00), day (12:00-18:00), evening (18:00-00:00), night (00:00-06:00)."
   ]
  },
  {
   "cell_type": "markdown",
   "metadata": {
    "jp-MarkdownHeadingCollapsed": true,
    "tags": []
   },
   "source": [
    "### Russian Version"
   ]
  },
  {
   "cell_type": "markdown",
   "metadata": {},
   "source": [
    "Only the first and last days are shown."
   ]
  },
  {
   "cell_type": "markdown",
   "metadata": {},
   "source": [
    "![ya_01_ru.png](./data/images/ya_01_ru.png)"
   ]
  },
  {
   "cell_type": "markdown",
   "metadata": {},
   "source": [
    "![ya_10_ru.png](./data/images/ya_10_ru.png)"
   ]
  },
  {
   "cell_type": "markdown",
   "metadata": {
    "jp-MarkdownHeadingCollapsed": true,
    "tags": []
   },
   "source": [
    "### English Version"
   ]
  },
  {
   "cell_type": "markdown",
   "metadata": {},
   "source": [
    "Only the first and last days are shown."
   ]
  },
  {
   "cell_type": "markdown",
   "metadata": {},
   "source": [
    "![ya_01_en.png](./data/images/ya_01_en.png)"
   ]
  },
  {
   "cell_type": "markdown",
   "metadata": {},
   "source": [
    "![ya_10_en.png](./data/images/ya_10_en.png)"
   ]
  },
  {
   "cell_type": "markdown",
   "metadata": {
    "jp-MarkdownHeadingCollapsed": true,
    "tags": []
   },
   "source": [
    "### Loading Data"
   ]
  },
  {
   "cell_type": "code",
   "execution_count": 66,
   "metadata": {},
   "outputs": [
    {
     "data": {
      "text/html": [
       "<div>\n",
       "<style scoped>\n",
       "    .dataframe tbody tr th:only-of-type {\n",
       "        vertical-align: middle;\n",
       "    }\n",
       "\n",
       "    .dataframe tbody tr th {\n",
       "        vertical-align: top;\n",
       "    }\n",
       "\n",
       "    .dataframe thead th {\n",
       "        text-align: right;\n",
       "    }\n",
       "</style>\n",
       "<table border=\"1\" class=\"dataframe\">\n",
       "  <thead>\n",
       "    <tr style=\"text-align: right;\">\n",
       "      <th></th>\n",
       "      <th>datetime</th>\n",
       "      <th>req_datetime</th>\n",
       "      <th>12h_bin</th>\n",
       "      <th>min_temp</th>\n",
       "      <th>max_temp</th>\n",
       "      <th>feels_like</th>\n",
       "      <th>hum</th>\n",
       "      <th>press</th>\n",
       "      <th>wind_speed</th>\n",
       "      <th>wind_dir</th>\n",
       "      <th>conditions</th>\n",
       "      <th>uv_ind</th>\n",
       "      <th>m_field</th>\n",
       "    </tr>\n",
       "  </thead>\n",
       "  <tbody>\n",
       "    <tr>\n",
       "      <th>9216</th>\n",
       "      <td>2022-06-15 09:00:00</td>\n",
       "      <td>2022-06-11 05:25:03</td>\n",
       "      <td>8</td>\n",
       "      <td>18.0</td>\n",
       "      <td>22.0</td>\n",
       "      <td>19.0</td>\n",
       "      <td>57.0</td>\n",
       "      <td>745.0</td>\n",
       "      <td>3.2</td>\n",
       "      <td>315.0</td>\n",
       "      <td>Облачно с прояснениями</td>\n",
       "      <td>5.0</td>\n",
       "      <td>NaN</td>\n",
       "    </tr>\n",
       "    <tr>\n",
       "      <th>7395</th>\n",
       "      <td>2022-05-28 03:00:00</td>\n",
       "      <td>2022-05-19 17:25:02</td>\n",
       "      <td>17</td>\n",
       "      <td>7.0</td>\n",
       "      <td>7.0</td>\n",
       "      <td>5.0</td>\n",
       "      <td>80.0</td>\n",
       "      <td>745.0</td>\n",
       "      <td>1.6</td>\n",
       "      <td>315.0</td>\n",
       "      <td>Пасмурно</td>\n",
       "      <td>NaN</td>\n",
       "      <td>NaN</td>\n",
       "    </tr>\n",
       "    <tr>\n",
       "      <th>3489</th>\n",
       "      <td>2022-04-04 15:00:00</td>\n",
       "      <td>2022-04-02 05:25:02</td>\n",
       "      <td>5</td>\n",
       "      <td>9.0</td>\n",
       "      <td>11.0</td>\n",
       "      <td>6.0</td>\n",
       "      <td>62.0</td>\n",
       "      <td>730.0</td>\n",
       "      <td>3.4</td>\n",
       "      <td>180.0</td>\n",
       "      <td>Пасмурно</td>\n",
       "      <td>2.0</td>\n",
       "      <td>неустойчивое</td>\n",
       "    </tr>\n",
       "    <tr>\n",
       "      <th>12748</th>\n",
       "      <td>2022-08-01 09:00:00</td>\n",
       "      <td>2022-07-25 05:25:02</td>\n",
       "      <td>14</td>\n",
       "      <td>18.0</td>\n",
       "      <td>22.0</td>\n",
       "      <td>20.0</td>\n",
       "      <td>69.0</td>\n",
       "      <td>741.0</td>\n",
       "      <td>1.3</td>\n",
       "      <td>0.0</td>\n",
       "      <td>Облачно с прояснениями</td>\n",
       "      <td>NaN</td>\n",
       "      <td>NaN</td>\n",
       "    </tr>\n",
       "  </tbody>\n",
       "</table>\n",
       "</div>"
      ],
      "text/plain": [
       "                 datetime        req_datetime  12h_bin  min_temp  max_temp  \\\n",
       "9216  2022-06-15 09:00:00 2022-06-11 05:25:03        8      18.0      22.0   \n",
       "7395  2022-05-28 03:00:00 2022-05-19 17:25:02       17       7.0       7.0   \n",
       "3489  2022-04-04 15:00:00 2022-04-02 05:25:02        5       9.0      11.0   \n",
       "12748 2022-08-01 09:00:00 2022-07-25 05:25:02       14      18.0      22.0   \n",
       "\n",
       "       feels_like   hum  press  wind_speed  wind_dir              conditions  \\\n",
       "9216         19.0  57.0  745.0         3.2     315.0  Облачно с прояснениями   \n",
       "7395          5.0  80.0  745.0         1.6     315.0                Пасмурно   \n",
       "3489          6.0  62.0  730.0         3.4     180.0                Пасмурно   \n",
       "12748        20.0  69.0  741.0         1.3       0.0  Облачно с прояснениями   \n",
       "\n",
       "       uv_ind       m_field  \n",
       "9216      5.0           NaN  \n",
       "7395      NaN           NaN  \n",
       "3489      2.0  неустойчивое  \n",
       "12748     NaN           NaN  "
      ]
     },
     "execution_count": 66,
     "metadata": {},
     "output_type": "execute_result"
    }
   ],
   "source": [
    "ya = pd.read_csv(forecast_dir + 'yandex-artyomovsky.csv',\n",
    "                 sep=';',\n",
    "                 parse_dates=[0, 1],\n",
    "                 dtype={5: 'float', 6: 'float'},\n",
    "                 na_values=['-'])\n",
    "ya.rename(columns=forecast_cols, inplace=True)\n",
    "ya['req_datetime'].fillna(method='ffill', inplace=True)\n",
    "# 03:00, 09:00, 15:00 and 21:00 times are used to define intervals (morning, day, evening and night)\n",
    "# drop records with a request time after the end of an interval\n",
    "past_filt = ya['req_datetime'] > (ya['datetime'] + pd.to_timedelta(3, unit=\"h\"))\n",
    "ya = ya.loc[~past_filt]\n",
    "# add \"12h_bin\" column indicating bin number\n",
    "ya['12h_bin'] = ((ya['datetime'].dt.floor('12H') - ya['req_datetime'].dt.floor('12H')) / pd.to_timedelta(12, unit=\"h\")).astype(int)\n",
    "# drop duplicates by keeping the last record in a bin for each \"datetime\"\n",
    "ya.drop_duplicates(subset=['datetime', '12h_bin'], keep='last', inplace=True)\n",
    "# convert \"wind_speed\" values to float\n",
    "ya['wind_speed'] = ya['wind_speed'].str.replace(',', '.')\n",
    "ya['wind_speed'] = ya['wind_speed'].str.replace('Штиль', '0')\n",
    "ya['wind_speed'] = ya['wind_speed'].astype(float)\n",
    "# convert wind directions into numerical values (degrees)\n",
    "ya['wind_dir'] = ya['wind_dir'].map(wind_dir_to_deg).astype(float)\n",
    "replace_minus_plus(ya, ['min_temp', 'max_temp', 'feels_like'])\n",
    "ya['uv_ind'] = ya['uv_ind'].str.split(pat=',', expand=True)[0].astype(float)\n",
    "# sort columns and rows\n",
    "ya = sort_cols_rows(ya)\n",
    "ya.sample(4)"
   ]
  },
  {
   "cell_type": "markdown",
   "metadata": {
    "jp-MarkdownHeadingCollapsed": true,
    "tags": []
   },
   "source": [
    "# Forecast by Hydrometeorological Center of Russia (HMCR)"
   ]
  },
  {
   "cell_type": "markdown",
   "metadata": {},
   "source": [
    "The [official website](https://meteoinfo.ru/) of **Hydrometeorological Center of Russia** (Russian: **Гидрометцентр России**) has [two types of weather forecasts](https://meteoinfo.ru/forecasts/russia/sverdlovsk-area/artenovsky) ([EN](https://meteoinfo.ru/en/forecasts-eng/russia/sverdlovsk-area/artenovsky)): 7-day forecast (\"1-week forecast\" or \"Прогноз на 7 дней\" tab) with a day divided into two intervals (day and night) and a 3- to 4-day forecast presented by graphs with three hour intervals (\"GRAPHS\" or \"График\" tab)."
   ]
  },
  {
   "cell_type": "markdown",
   "metadata": {
    "jp-MarkdownHeadingCollapsed": true,
    "tags": []
   },
   "source": [
    "## 1-week Forecast"
   ]
  },
  {
   "cell_type": "markdown",
   "metadata": {
    "jp-MarkdownHeadingCollapsed": true,
    "tags": []
   },
   "source": [
    "### Russian Version"
   ]
  },
  {
   "cell_type": "markdown",
   "metadata": {},
   "source": [
    "![hmcr_w_ru.png](./data/images/hmcr_w_ru.png)"
   ]
  },
  {
   "cell_type": "markdown",
   "metadata": {
    "jp-MarkdownHeadingCollapsed": true,
    "tags": []
   },
   "source": [
    "### English Version"
   ]
  },
  {
   "cell_type": "markdown",
   "metadata": {},
   "source": [
    "![hmcr_w_en.png](./data/images/hmcr_w_en.png)"
   ]
  },
  {
   "cell_type": "markdown",
   "metadata": {
    "jp-MarkdownHeadingCollapsed": true,
    "tags": []
   },
   "source": [
    "### Loading Data"
   ]
  },
  {
   "cell_type": "markdown",
   "metadata": {},
   "source": [
    "Terms \"day\" and \"night\" are not clear despite a reference to a standard ([website](https://meteoinfo.ru/images/media/books-docs/RHM/nast-KPP-2019.pdf) or [local](./data/nast-KPP-2019.pdf)). Definitions on page 9 of the document suggest that a \"day\" is an interval from 9:00 to 17:00 and a \"night\" from 21:00 to 5:00. [meteonovosti.ru](http://www.hmn.ru/index.php?index=41&value=8) also uses terms \"day\" and \"night\" for its forecasts and they are from 09:00 to 21:00 (day) and from 21:00 to 09:00 (night); we will be using these definitions."
   ]
  },
  {
   "cell_type": "code",
   "execution_count": 67,
   "metadata": {},
   "outputs": [
    {
     "data": {
      "text/html": [
       "<div>\n",
       "<style scoped>\n",
       "    .dataframe tbody tr th:only-of-type {\n",
       "        vertical-align: middle;\n",
       "    }\n",
       "\n",
       "    .dataframe tbody tr th {\n",
       "        vertical-align: top;\n",
       "    }\n",
       "\n",
       "    .dataframe thead th {\n",
       "        text-align: right;\n",
       "    }\n",
       "</style>\n",
       "<table border=\"1\" class=\"dataframe\">\n",
       "  <thead>\n",
       "    <tr style=\"text-align: right;\">\n",
       "      <th></th>\n",
       "      <th>datetime</th>\n",
       "      <th>req_datetime</th>\n",
       "      <th>12h_bin</th>\n",
       "      <th>temp</th>\n",
       "      <th>press</th>\n",
       "      <th>wind_speed</th>\n",
       "      <th>wind_dir</th>\n",
       "      <th>precip</th>\n",
       "      <th>precip_prob</th>\n",
       "      <th>conditions</th>\n",
       "    </tr>\n",
       "  </thead>\n",
       "  <tbody>\n",
       "    <tr>\n",
       "      <th>860</th>\n",
       "      <td>2022-03-29 14:00:00</td>\n",
       "      <td>2022-03-28 17:25:05</td>\n",
       "      <td>2</td>\n",
       "      <td>0.0</td>\n",
       "      <td>736.0</td>\n",
       "      <td>3.0</td>\n",
       "      <td>180.0</td>\n",
       "      <td>0.4</td>\n",
       "      <td>56.0</td>\n",
       "      <td>Облачно, небольшие осадки</td>\n",
       "    </tr>\n",
       "    <tr>\n",
       "      <th>1031</th>\n",
       "      <td>2022-04-05 14:00:00</td>\n",
       "      <td>2022-04-03 17:25:05</td>\n",
       "      <td>4</td>\n",
       "      <td>6.0</td>\n",
       "      <td>737.0</td>\n",
       "      <td>6.0</td>\n",
       "      <td>225.0</td>\n",
       "      <td>0.2</td>\n",
       "      <td>74.0</td>\n",
       "      <td>Облачно, небольшой кратковременный дождь</td>\n",
       "    </tr>\n",
       "    <tr>\n",
       "      <th>1966</th>\n",
       "      <td>2022-05-11 02:00:00</td>\n",
       "      <td>2022-05-09 05:25:06</td>\n",
       "      <td>4</td>\n",
       "      <td>8.0</td>\n",
       "      <td>741.0</td>\n",
       "      <td>3.0</td>\n",
       "      <td>90.0</td>\n",
       "      <td>2.1</td>\n",
       "      <td>87.0</td>\n",
       "      <td>Облачно, небольшой дождь</td>\n",
       "    </tr>\n",
       "    <tr>\n",
       "      <th>3447</th>\n",
       "      <td>2022-07-05 14:00:00</td>\n",
       "      <td>2022-07-04 17:25:07</td>\n",
       "      <td>2</td>\n",
       "      <td>19.0</td>\n",
       "      <td>745.0</td>\n",
       "      <td>3.0</td>\n",
       "      <td>0.0</td>\n",
       "      <td>0.0</td>\n",
       "      <td>NaN</td>\n",
       "      <td>Облачно, без осадков</td>\n",
       "    </tr>\n",
       "  </tbody>\n",
       "</table>\n",
       "</div>"
      ],
      "text/plain": [
       "                datetime        req_datetime  12h_bin  temp  press  \\\n",
       "860  2022-03-29 14:00:00 2022-03-28 17:25:05        2   0.0  736.0   \n",
       "1031 2022-04-05 14:00:00 2022-04-03 17:25:05        4   6.0  737.0   \n",
       "1966 2022-05-11 02:00:00 2022-05-09 05:25:06        4   8.0  741.0   \n",
       "3447 2022-07-05 14:00:00 2022-07-04 17:25:07        2  19.0  745.0   \n",
       "\n",
       "      wind_speed  wind_dir  precip  precip_prob  \\\n",
       "860          3.0     180.0     0.4         56.0   \n",
       "1031         6.0     225.0     0.2         74.0   \n",
       "1966         3.0      90.0     2.1         87.0   \n",
       "3447         3.0       0.0     0.0          NaN   \n",
       "\n",
       "                                    conditions  \n",
       "860                  Облачно, небольшие осадки  \n",
       "1031  Облачно, небольшой кратковременный дождь  \n",
       "1966                  Облачно, небольшой дождь  \n",
       "3447                      Облачно, без осадков  "
      ]
     },
     "execution_count": 67,
     "metadata": {},
     "output_type": "execute_result"
    }
   ],
   "source": [
    "mi = pd.read_csv(forecast_dir + 'meteoinfo-russia-sverdlovsk-area-artenovsky.csv',\n",
    "                 sep=\";\",\n",
    "                 parse_dates=[0, 2],\n",
    "                 dtype={3: 'float', 4: 'float', 5: 'float', 7: 'float', 8: 'float'},\n",
    "                 na_values=['-'])\n",
    "mi.rename(columns=forecast_cols, inplace=True)\n",
    "# \"upd_datetime\" column can be dropped\n",
    "mi.drop('upd_datetime', axis=1, inplace=True)\n",
    "mi['req_datetime'].fillna(method='ffill', inplace=True)\n",
    "# 02:00 and 14:00 times are used to define intervals (night and day)\n",
    "# \"temp\" indicates the max temperature for the day interval and the min teperature for the night\n",
    "# drop rows of past data (request time > the end of the interval)\n",
    "past_filt = mi['req_datetime'] > (mi['datetime'] + pd.to_timedelta(7, unit=\"h\"))\n",
    "mi = mi.loc[~past_filt]\n",
    "# add \"12h_bin\" column indicating bin number\n",
    "mi['12h_bin'] = ((mi['datetime'].dt.floor('12H') - mi['req_datetime'].dt.floor('12H')) / pd.to_timedelta(12, unit=\"h\")).astype(int)\n",
    "# drop duplicates by keeping the last record in a bin for each \"datetime\"\n",
    "mi.drop_duplicates(subset=['datetime', '12h_bin'], keep='last', inplace=True)\n",
    "# convert wind directions into numerical values (degrees)\n",
    "mi['wind_dir'] = mi['wind_dir'].str.replace('-', '').map(wind_dir_to_deg).astype(float)\n",
    "# sort columns and rows\n",
    "mi = sort_cols_rows(mi)\n",
    "mi.sample(4)"
   ]
  },
  {
   "cell_type": "markdown",
   "metadata": {
    "jp-MarkdownHeadingCollapsed": true,
    "tags": []
   },
   "source": [
    "## \"Graphs\" Forecast"
   ]
  },
  {
   "cell_type": "markdown",
   "metadata": {
    "jp-MarkdownHeadingCollapsed": true,
    "tags": []
   },
   "source": [
    "### Russian Version"
   ]
  },
  {
   "cell_type": "markdown",
   "metadata": {},
   "source": [
    "![hmcr_g_ru.png](./data/images/hmcr_g_ru.png)"
   ]
  },
  {
   "cell_type": "markdown",
   "metadata": {
    "jp-MarkdownHeadingCollapsed": true,
    "tags": []
   },
   "source": [
    "### English Version"
   ]
  },
  {
   "cell_type": "markdown",
   "metadata": {},
   "source": [
    "![hmcr_g_en.png](./data/images/hmcr_g_en.png)"
   ]
  },
  {
   "cell_type": "markdown",
   "metadata": {
    "jp-MarkdownHeadingCollapsed": true,
    "tags": []
   },
   "source": [
    "### Loading Data"
   ]
  },
  {
   "cell_type": "code",
   "execution_count": 68,
   "metadata": {},
   "outputs": [
    {
     "data": {
      "text/html": [
       "<div>\n",
       "<style scoped>\n",
       "    .dataframe tbody tr th:only-of-type {\n",
       "        vertical-align: middle;\n",
       "    }\n",
       "\n",
       "    .dataframe tbody tr th {\n",
       "        vertical-align: top;\n",
       "    }\n",
       "\n",
       "    .dataframe thead th {\n",
       "        text-align: right;\n",
       "    }\n",
       "</style>\n",
       "<table border=\"1\" class=\"dataframe\">\n",
       "  <thead>\n",
       "    <tr style=\"text-align: right;\">\n",
       "      <th></th>\n",
       "      <th>datetime</th>\n",
       "      <th>req_datetime</th>\n",
       "      <th>12h_bin</th>\n",
       "      <th>temp</th>\n",
       "      <th>hum</th>\n",
       "      <th>press</th>\n",
       "      <th>wind_speed</th>\n",
       "      <th>wind_dir</th>\n",
       "      <th>precip</th>\n",
       "      <th>precip_prob</th>\n",
       "      <th>conditions</th>\n",
       "    </tr>\n",
       "  </thead>\n",
       "  <tbody>\n",
       "    <tr>\n",
       "      <th>10545</th>\n",
       "      <td>2022-08-21 05:00:00</td>\n",
       "      <td>2022-08-19 17:25:08</td>\n",
       "      <td>3</td>\n",
       "      <td>8.9</td>\n",
       "      <td>90.0</td>\n",
       "      <td>757.0</td>\n",
       "      <td>2.0</td>\n",
       "      <td>355.0</td>\n",
       "      <td>0.0</td>\n",
       "      <td>29.0</td>\n",
       "      <td>Переменная облачность, без осадков</td>\n",
       "    </tr>\n",
       "    <tr>\n",
       "      <th>1549</th>\n",
       "      <td>2022-03-23 11:00:00</td>\n",
       "      <td>2022-03-21 17:32:05</td>\n",
       "      <td>3</td>\n",
       "      <td>1.6</td>\n",
       "      <td>57.0</td>\n",
       "      <td>742.0</td>\n",
       "      <td>6.0</td>\n",
       "      <td>291.0</td>\n",
       "      <td>0.0</td>\n",
       "      <td>45.0</td>\n",
       "      <td>Переменная облачность, без осадков</td>\n",
       "    </tr>\n",
       "    <tr>\n",
       "      <th>624</th>\n",
       "      <td>2022-03-06 14:00:00</td>\n",
       "      <td>2022-03-06 05:32:05</td>\n",
       "      <td>1</td>\n",
       "      <td>-11.8</td>\n",
       "      <td>65.0</td>\n",
       "      <td>730.0</td>\n",
       "      <td>6.0</td>\n",
       "      <td>5.0</td>\n",
       "      <td>0.9</td>\n",
       "      <td>99.0</td>\n",
       "      <td>Облачно, снег</td>\n",
       "    </tr>\n",
       "    <tr>\n",
       "      <th>6151</th>\n",
       "      <td>2022-06-07 20:00:00</td>\n",
       "      <td>2022-06-06 05:25:07</td>\n",
       "      <td>3</td>\n",
       "      <td>13.1</td>\n",
       "      <td>58.0</td>\n",
       "      <td>734.0</td>\n",
       "      <td>5.0</td>\n",
       "      <td>101.0</td>\n",
       "      <td>7.0</td>\n",
       "      <td>99.0</td>\n",
       "      <td>Облачно, дождь</td>\n",
       "    </tr>\n",
       "  </tbody>\n",
       "</table>\n",
       "</div>"
      ],
      "text/plain": [
       "                 datetime        req_datetime  12h_bin  temp   hum  press  \\\n",
       "10545 2022-08-21 05:00:00 2022-08-19 17:25:08        3   8.9  90.0  757.0   \n",
       "1549  2022-03-23 11:00:00 2022-03-21 17:32:05        3   1.6  57.0  742.0   \n",
       "624   2022-03-06 14:00:00 2022-03-06 05:32:05        1 -11.8  65.0  730.0   \n",
       "6151  2022-06-07 20:00:00 2022-06-06 05:25:07        3  13.1  58.0  734.0   \n",
       "\n",
       "       wind_speed  wind_dir  precip  precip_prob  \\\n",
       "10545         2.0     355.0     0.0         29.0   \n",
       "1549          6.0     291.0     0.0         45.0   \n",
       "624           6.0       5.0     0.9         99.0   \n",
       "6151          5.0     101.0     7.0         99.0   \n",
       "\n",
       "                               conditions  \n",
       "10545  Переменная облачность, без осадков  \n",
       "1549   Переменная облачность, без осадков  \n",
       "624                         Облачно, снег  \n",
       "6151                       Облачно, дождь  "
      ]
     },
     "execution_count": 68,
     "metadata": {},
     "output_type": "execute_result"
    }
   ],
   "source": [
    "ms = pd.read_csv(forecast_dir + 'meteoinfo-js-russia-sverdlovsk-area-artenovsky.csv',\n",
    "                 sep=\";\",\n",
    "                 parse_dates=[0, 1],\n",
    "                 dtype={2: 'float', 3: 'float', 4: 'float', 5: 'float', 6: 'float', 8: 'float', 8: 'float'},\n",
    "                 na_values=['-'])\n",
    "ms.rename(columns=forecast_cols, inplace=True)\n",
    "ms['req_datetime'].fillna(method='ffill', inplace=True)\n",
    "# drop rows of past data\n",
    "past_filt = ms['req_datetime'] > ms['datetime']\n",
    "ms = ms.loc[~past_filt]\n",
    "# add \"12h_bin\" column indicating bin number\n",
    "ms['12h_bin'] = ((ms['datetime'].dt.floor('12H') - ms['req_datetime'].dt.floor('12H')) / pd.to_timedelta(12, unit=\"h\")).astype(int)\n",
    "# drop duplicates by keeping the last record in a bin for each \"datetime\"\n",
    "ms.drop_duplicates(subset=['datetime', '12h_bin'], keep='last', inplace=True)\n",
    "# the data already contains wind directions in degrees\n",
    "ms.loc[ms['wind_dir']=='Штиль', 'wind_dir_deg'] = np.nan\n",
    "ms.drop('wind_dir', axis=1, inplace=True)\n",
    "ms.rename(columns={'wind_dir_deg': 'wind_dir'}, inplace=True)\n",
    "# sort columns and rows\n",
    "ms = sort_cols_rows(ms)\n",
    "ms.sample(4)"
   ]
  },
  {
   "cell_type": "markdown",
   "metadata": {
    "jp-MarkdownHeadingCollapsed": true,
    "tags": []
   },
   "source": [
    "# Comparison of Forecasts"
   ]
  },
  {
   "cell_type": "markdown",
   "metadata": {
    "jp-MarkdownHeadingCollapsed": true,
    "tags": []
   },
   "source": [
    "## Minimum Temperature Before 12:00 and Maximum Temperature After 12:00"
   ]
  },
  {
   "cell_type": "markdown",
   "metadata": {},
   "source": [
    "A day's minimum temperature for this location is usually observed before 12:00 and maximum temperature after 12:00. We can divide a day into these two intervals and search for minimum or maximum temperature in a corresponding interval. Let's start by looking at hours of minimum and maximum temperature records in the historical data."
   ]
  },
  {
   "cell_type": "code",
   "execution_count": 69,
   "metadata": {},
   "outputs": [
    {
     "data": {
      "text/plain": [
       "8     277\n",
       "11     35\n",
       "Name: datetime, dtype: int64"
      ]
     },
     "execution_count": 69,
     "metadata": {},
     "output_type": "execute_result"
    }
   ],
   "source": [
    "hist_temp = hist.loc['2022-01-01':,['temp', 'min_temp_3h', 'max_temp_3h']].asfreq(\"3H\")\n",
    "hist_temp['min_temp_3h'].dropna().index.hour.value_counts()"
   ]
  },
  {
   "cell_type": "code",
   "execution_count": 70,
   "metadata": {},
   "outputs": [
    {
     "data": {
      "text/plain": [
       "20    279\n",
       "17      1\n",
       "Name: datetime, dtype: int64"
      ]
     },
     "execution_count": 70,
     "metadata": {},
     "output_type": "execute_result"
    }
   ],
   "source": [
    "hist_temp['max_temp_3h'].dropna().index.hour.value_counts()"
   ]
  },
  {
   "cell_type": "markdown",
   "metadata": {},
   "source": [
    "As we can see minimum temperatures are mostly observed between 05:00 and 08:00 and maximum temperatures between 17:00 and 20:00. Depending on weather forecast we can extract minimum and maximum temperatures as follows:\n",
    "* **Gismeteo**: choose min value for points in {02:00, 05:00, 08:00, 11:00} and max in {14:00, 17:00, 20:00, 23:00};\n",
    "* **rp5**: choose min value for points in \\[00:00, 12:00) and max in \\[12:00, 24:00);\n",
    "* **Yandex.Weather**: choose min value in {night, morning} and max in {day, evening};\n",
    "* **HMCR (1-week)**: min and max values are already provided;\n",
    "* **HMCR (Graphs)**: the same as for Gismeteo."
   ]
  },
  {
   "cell_type": "code",
   "execution_count": 71,
   "metadata": {},
   "outputs": [],
   "source": [
    "# get dataframes with min and max temperatures for each forecast\n",
    "gm_min, gm_max = get_min_max_temp(gm)\n",
    "rp_min, rp_max = get_min_max_temp(rp)\n",
    "mi_min, mi_max = get_min_max_temp(mi)\n",
    "ms_min, ms_max = get_min_max_temp(ms)\n",
    "ya_min = get_min_max_temp(ya, col='min_temp', new_col_name='temp', which='min')\n",
    "ya_max = get_min_max_temp(ya, col='max_temp', new_col_name='temp', which='max')\n",
    "# merge all forecasts of min/max temp into min_temp/max_temp dataframe \n",
    "min_temp = merge_dfs({'gismeteo': gm_min, 'rp5': rp_min, 'yandex': ya_min, 'hmcr_w': mi_min, 'hmcr_g': ms_min},\n",
    "                     col='temp',\n",
    "                     col_keys=['date', '12h_bin'],\n",
    "                     how='outer')\n",
    "max_temp = merge_dfs({'gismeteo': gm_max, 'rp5': rp_max, 'yandex': ya_max, 'hmcr_w': mi_max, 'hmcr_g': ms_max},\n",
    "                     col='temp',\n",
    "                     col_keys=['date', '12h_bin'],\n",
    "                     how='outer')\n",
    "# select min and max temperatures from the historical weather dataset\n",
    "# this actually looks for the min value in (23:00, 11:00] and the max value in (11:00, 23:00]\n",
    "# but this is OK because we saw when those values are mostly recorded\n",
    "min_hist_temp = hist_temp.loc[hist_temp.index.hour < 12, ['min_temp_3h']]\n",
    "min_hist_temp = min_hist_temp.groupby(min_hist_temp.index.date).min().reset_index()\n",
    "min_hist_temp.rename(columns={'index': 'date', 'min_temp_3h': 'hist'}, inplace=True)\n",
    "max_hist_temp = hist_temp.loc[hist_temp.index.hour > 12, ['max_temp_3h']]\n",
    "max_hist_temp = max_hist_temp.groupby(max_hist_temp.index.date).max().reset_index()\n",
    "max_hist_temp.rename(columns={'index': 'date', 'max_temp_3h': 'hist'}, inplace=True)\n",
    "# add \"hist\" column containing historical values\n",
    "min_temp = min_temp.merge(min_hist_temp, how='left', left_on='date', right_on='date')\n",
    "max_temp = max_temp.merge(max_hist_temp, how='left', left_on='date', right_on='date')\n",
    "# subtract historical values from forecasted ones\n",
    "# and convert \"date\" column to datetime data type\n",
    "for col in ['gismeteo', 'rp5', 'yandex', 'hmcr_w', 'hmcr_g']:\n",
    "    min_temp[col] = min_temp[col] - min_temp['hist']\n",
    "    max_temp[col] = max_temp[col] - max_temp['hist']\n",
    "min_temp['date'] = pd.to_datetime(min_temp['date'])\n",
    "max_temp['date'] = pd.to_datetime(max_temp['date'])"
   ]
  },
  {
   "cell_type": "markdown",
   "metadata": {},
   "source": [
    "**min_temp** and **max_temp** dataframes contain differences between forecast temperatures and actual ones."
   ]
  },
  {
   "cell_type": "code",
   "execution_count": 72,
   "metadata": {},
   "outputs": [
    {
     "data": {
      "text/html": [
       "<div>\n",
       "<style scoped>\n",
       "    .dataframe tbody tr th:only-of-type {\n",
       "        vertical-align: middle;\n",
       "    }\n",
       "\n",
       "    .dataframe tbody tr th {\n",
       "        vertical-align: top;\n",
       "    }\n",
       "\n",
       "    .dataframe thead th {\n",
       "        text-align: right;\n",
       "    }\n",
       "</style>\n",
       "<table border=\"1\" class=\"dataframe\">\n",
       "  <thead>\n",
       "    <tr style=\"text-align: right;\">\n",
       "      <th></th>\n",
       "      <th>date</th>\n",
       "      <th>12h_bin</th>\n",
       "      <th>gismeteo</th>\n",
       "      <th>rp5</th>\n",
       "      <th>yandex</th>\n",
       "      <th>hmcr_w</th>\n",
       "      <th>hmcr_g</th>\n",
       "      <th>hist</th>\n",
       "    </tr>\n",
       "  </thead>\n",
       "  <tbody>\n",
       "    <tr>\n",
       "      <th>3140</th>\n",
       "      <td>2022-08-16</td>\n",
       "      <td>10</td>\n",
       "      <td>10.7</td>\n",
       "      <td>5.7</td>\n",
       "      <td>7.7</td>\n",
       "      <td>6.7</td>\n",
       "      <td>NaN</td>\n",
       "      <td>2.3</td>\n",
       "    </tr>\n",
       "    <tr>\n",
       "      <th>1771</th>\n",
       "      <td>2022-06-01</td>\n",
       "      <td>11</td>\n",
       "      <td>5.7</td>\n",
       "      <td>3.7</td>\n",
       "      <td>6.7</td>\n",
       "      <td>3.7</td>\n",
       "      <td>NaN</td>\n",
       "      <td>4.3</td>\n",
       "    </tr>\n",
       "    <tr>\n",
       "      <th>1806</th>\n",
       "      <td>2022-06-03</td>\n",
       "      <td>12</td>\n",
       "      <td>8.1</td>\n",
       "      <td>NaN</td>\n",
       "      <td>5.1</td>\n",
       "      <td>4.1</td>\n",
       "      <td>NaN</td>\n",
       "      <td>5.9</td>\n",
       "    </tr>\n",
       "    <tr>\n",
       "      <th>2318</th>\n",
       "      <td>2022-07-01</td>\n",
       "      <td>4</td>\n",
       "      <td>0.7</td>\n",
       "      <td>1.7</td>\n",
       "      <td>0.7</td>\n",
       "      <td>1.7</td>\n",
       "      <td>2.2</td>\n",
       "      <td>4.3</td>\n",
       "    </tr>\n",
       "  </tbody>\n",
       "</table>\n",
       "</div>"
      ],
      "text/plain": [
       "           date  12h_bin  gismeteo  rp5  yandex  hmcr_w  hmcr_g  hist\n",
       "3140 2022-08-16       10      10.7  5.7     7.7     6.7     NaN   2.3\n",
       "1771 2022-06-01       11       5.7  3.7     6.7     3.7     NaN   4.3\n",
       "1806 2022-06-03       12       8.1  NaN     5.1     4.1     NaN   5.9\n",
       "2318 2022-07-01        4       0.7  1.7     0.7     1.7     2.2   4.3"
      ]
     },
     "execution_count": 72,
     "metadata": {},
     "output_type": "execute_result"
    }
   ],
   "source": [
    "min_temp.sample(4)"
   ]
  },
  {
   "cell_type": "code",
   "execution_count": 73,
   "metadata": {},
   "outputs": [
    {
     "data": {
      "text/html": [
       "<div>\n",
       "<style scoped>\n",
       "    .dataframe tbody tr th:only-of-type {\n",
       "        vertical-align: middle;\n",
       "    }\n",
       "\n",
       "    .dataframe tbody tr th {\n",
       "        vertical-align: top;\n",
       "    }\n",
       "\n",
       "    .dataframe thead th {\n",
       "        text-align: right;\n",
       "    }\n",
       "</style>\n",
       "<table border=\"1\" class=\"dataframe\">\n",
       "  <thead>\n",
       "    <tr style=\"text-align: right;\">\n",
       "      <th></th>\n",
       "      <th>date</th>\n",
       "      <th>12h_bin</th>\n",
       "      <th>gismeteo</th>\n",
       "      <th>rp5</th>\n",
       "      <th>yandex</th>\n",
       "      <th>hmcr_w</th>\n",
       "      <th>hmcr_g</th>\n",
       "      <th>hist</th>\n",
       "    </tr>\n",
       "  </thead>\n",
       "  <tbody>\n",
       "    <tr>\n",
       "      <th>725</th>\n",
       "      <td>2022-04-01</td>\n",
       "      <td>2</td>\n",
       "      <td>-0.5</td>\n",
       "      <td>1.5</td>\n",
       "      <td>-1.5</td>\n",
       "      <td>0.5</td>\n",
       "      <td>-0.1</td>\n",
       "      <td>-0.5</td>\n",
       "    </tr>\n",
       "    <tr>\n",
       "      <th>239</th>\n",
       "      <td>2022-03-07</td>\n",
       "      <td>13</td>\n",
       "      <td>-1.8</td>\n",
       "      <td>NaN</td>\n",
       "      <td>4.2</td>\n",
       "      <td>4.2</td>\n",
       "      <td>NaN</td>\n",
       "      <td>-13.2</td>\n",
       "    </tr>\n",
       "    <tr>\n",
       "      <th>2796</th>\n",
       "      <td>2022-07-19</td>\n",
       "      <td>2</td>\n",
       "      <td>-1.3</td>\n",
       "      <td>-0.3</td>\n",
       "      <td>-0.3</td>\n",
       "      <td>0.7</td>\n",
       "      <td>-0.8</td>\n",
       "      <td>27.3</td>\n",
       "    </tr>\n",
       "    <tr>\n",
       "      <th>4289</th>\n",
       "      <td>2022-10-06</td>\n",
       "      <td>10</td>\n",
       "      <td>0.9</td>\n",
       "      <td>-4.1</td>\n",
       "      <td>-1.1</td>\n",
       "      <td>-0.1</td>\n",
       "      <td>NaN</td>\n",
       "      <td>12.1</td>\n",
       "    </tr>\n",
       "  </tbody>\n",
       "</table>\n",
       "</div>"
      ],
      "text/plain": [
       "           date  12h_bin  gismeteo  rp5  yandex  hmcr_w  hmcr_g  hist\n",
       "725  2022-04-01        2      -0.5  1.5    -1.5     0.5    -0.1  -0.5\n",
       "239  2022-03-07       13      -1.8  NaN     4.2     4.2     NaN -13.2\n",
       "2796 2022-07-19        2      -1.3 -0.3    -0.3     0.7    -0.8  27.3\n",
       "4289 2022-10-06       10       0.9 -4.1    -1.1    -0.1     NaN  12.1"
      ]
     },
     "execution_count": 73,
     "metadata": {},
     "output_type": "execute_result"
    }
   ],
   "source": [
    "max_temp.sample(4)"
   ]
  },
  {
   "cell_type": "markdown",
   "metadata": {
    "jp-MarkdownHeadingCollapsed": true,
    "tags": []
   },
   "source": [
    "## Weather Parameters at 02:00, 05:00, 08:00, 11:00, 14:00, 17:00, 20:00 and 23:00"
   ]
  },
  {
   "cell_type": "markdown",
   "metadata": {},
   "source": [
    "3 out of 5 abovementioned weather forecasts offer forecast for hours of 02:00, 05:00, 08:00, 11:00, 14:00, 17:00, 20:00 and 23:00 (Yandex.Weather gives values for four intervals in a day and 1-week forecast by HMCR for two intervals). Historical records are also provided at this time points. Let's take a look at some weather parameters that we can compare:\n",
    "* **Temperature**: Gismeteo, rp5, HMCR (Graphs);\n",
    "* **Atmospheric pressure**: Gismeteo, rp5, Yandex.Weather, HMCR (1-week), HMCR (Graphs);\n",
    "* **Relative humidity**: Gismeteo, rp5, Yandex.Weather, HMCR (Graphs);\n",
    "* **Wind speed & direction**: Gismeteo, rp5, Yandex.Weather, HMCR (1-week), HMCR (Graphs)."
   ]
  },
  {
   "cell_type": "markdown",
   "metadata": {
    "jp-MarkdownHeadingCollapsed": true,
    "tags": []
   },
   "source": [
    "### Extracting Parameters Into Separate Dataframes"
   ]
  },
  {
   "cell_type": "markdown",
   "metadata": {},
   "source": [
    "**Gismeteo** forecast has all needed parameters at desired time points."
   ]
  },
  {
   "cell_type": "code",
   "execution_count": 74,
   "metadata": {},
   "outputs": [
    {
     "data": {
      "text/html": [
       "<div>\n",
       "<style scoped>\n",
       "    .dataframe tbody tr th:only-of-type {\n",
       "        vertical-align: middle;\n",
       "    }\n",
       "\n",
       "    .dataframe tbody tr th {\n",
       "        vertical-align: top;\n",
       "    }\n",
       "\n",
       "    .dataframe thead th {\n",
       "        text-align: right;\n",
       "    }\n",
       "</style>\n",
       "<table border=\"1\" class=\"dataframe\">\n",
       "  <thead>\n",
       "    <tr style=\"text-align: right;\">\n",
       "      <th></th>\n",
       "      <th>datetime</th>\n",
       "      <th>12h_bin</th>\n",
       "      <th>temp</th>\n",
       "      <th>hum</th>\n",
       "      <th>press</th>\n",
       "      <th>wind_speed</th>\n",
       "      <th>wind_dir</th>\n",
       "    </tr>\n",
       "  </thead>\n",
       "  <tbody>\n",
       "    <tr>\n",
       "      <th>30289</th>\n",
       "      <td>2022-08-30 05:00:00</td>\n",
       "      <td>11</td>\n",
       "      <td>15.0</td>\n",
       "      <td>86.0</td>\n",
       "      <td>748.0</td>\n",
       "      <td>3.0</td>\n",
       "      <td>270.0</td>\n",
       "    </tr>\n",
       "    <tr>\n",
       "      <th>11996</th>\n",
       "      <td>2022-05-11 14:00:00</td>\n",
       "      <td>18</td>\n",
       "      <td>20.0</td>\n",
       "      <td>32.0</td>\n",
       "      <td>748.0</td>\n",
       "      <td>4.0</td>\n",
       "      <td>45.0</td>\n",
       "    </tr>\n",
       "    <tr>\n",
       "      <th>31944</th>\n",
       "      <td>2022-09-07 02:00:00</td>\n",
       "      <td>6</td>\n",
       "      <td>6.0</td>\n",
       "      <td>72.0</td>\n",
       "      <td>739.0</td>\n",
       "      <td>2.0</td>\n",
       "      <td>315.0</td>\n",
       "    </tr>\n",
       "    <tr>\n",
       "      <th>12773</th>\n",
       "      <td>2022-05-13 17:00:00</td>\n",
       "      <td>12</td>\n",
       "      <td>15.0</td>\n",
       "      <td>52.0</td>\n",
       "      <td>736.0</td>\n",
       "      <td>6.0</td>\n",
       "      <td>225.0</td>\n",
       "    </tr>\n",
       "  </tbody>\n",
       "</table>\n",
       "</div>"
      ],
      "text/plain": [
       "                 datetime  12h_bin  temp   hum  press  wind_speed  wind_dir\n",
       "30289 2022-08-30 05:00:00       11  15.0  86.0  748.0         3.0     270.0\n",
       "11996 2022-05-11 14:00:00       18  20.0  32.0  748.0         4.0      45.0\n",
       "31944 2022-09-07 02:00:00        6   6.0  72.0  739.0         2.0     315.0\n",
       "12773 2022-05-13 17:00:00       12  15.0  52.0  736.0         6.0     225.0"
      ]
     },
     "execution_count": 74,
     "metadata": {},
     "output_type": "execute_result"
    }
   ],
   "source": [
    "gm_8 = gm[['datetime', '12h_bin', 'temp', 'hum', 'press', 'wind_speed', 'wind_dir']].copy()\n",
    "gm_8.sample(4)"
   ]
  },
  {
   "cell_type": "markdown",
   "metadata": {},
   "source": [
    "**rp5** also has all listed parameters although we need to filter desired time points."
   ]
  },
  {
   "cell_type": "code",
   "execution_count": 75,
   "metadata": {},
   "outputs": [
    {
     "data": {
      "text/html": [
       "<div>\n",
       "<style scoped>\n",
       "    .dataframe tbody tr th:only-of-type {\n",
       "        vertical-align: middle;\n",
       "    }\n",
       "\n",
       "    .dataframe tbody tr th {\n",
       "        vertical-align: top;\n",
       "    }\n",
       "\n",
       "    .dataframe thead th {\n",
       "        text-align: right;\n",
       "    }\n",
       "</style>\n",
       "<table border=\"1\" class=\"dataframe\">\n",
       "  <thead>\n",
       "    <tr style=\"text-align: right;\">\n",
       "      <th></th>\n",
       "      <th>datetime</th>\n",
       "      <th>12h_bin</th>\n",
       "      <th>temp</th>\n",
       "      <th>hum</th>\n",
       "      <th>press</th>\n",
       "      <th>wind_speed</th>\n",
       "      <th>wind_dir</th>\n",
       "    </tr>\n",
       "  </thead>\n",
       "  <tbody>\n",
       "    <tr>\n",
       "      <th>4314</th>\n",
       "      <td>2022-04-08 14:00:00</td>\n",
       "      <td>1</td>\n",
       "      <td>7.0</td>\n",
       "      <td>27.0</td>\n",
       "      <td>749.0</td>\n",
       "      <td>5.0</td>\n",
       "      <td>270.0</td>\n",
       "    </tr>\n",
       "    <tr>\n",
       "      <th>16391</th>\n",
       "      <td>2022-07-07 23:00:00</td>\n",
       "      <td>6</td>\n",
       "      <td>15.0</td>\n",
       "      <td>89.0</td>\n",
       "      <td>749.0</td>\n",
       "      <td>2.0</td>\n",
       "      <td>180.0</td>\n",
       "    </tr>\n",
       "    <tr>\n",
       "      <th>16242</th>\n",
       "      <td>2022-07-06 08:00:00</td>\n",
       "      <td>5</td>\n",
       "      <td>13.0</td>\n",
       "      <td>79.0</td>\n",
       "      <td>744.0</td>\n",
       "      <td>2.0</td>\n",
       "      <td>270.0</td>\n",
       "    </tr>\n",
       "    <tr>\n",
       "      <th>26320</th>\n",
       "      <td>2022-09-15 14:00:00</td>\n",
       "      <td>8</td>\n",
       "      <td>16.0</td>\n",
       "      <td>47.0</td>\n",
       "      <td>753.0</td>\n",
       "      <td>4.0</td>\n",
       "      <td>180.0</td>\n",
       "    </tr>\n",
       "  </tbody>\n",
       "</table>\n",
       "</div>"
      ],
      "text/plain": [
       "                 datetime  12h_bin  temp   hum  press  wind_speed  wind_dir\n",
       "4314  2022-04-08 14:00:00        1   7.0  27.0  749.0         5.0     270.0\n",
       "16391 2022-07-07 23:00:00        6  15.0  89.0  749.0         2.0     180.0\n",
       "16242 2022-07-06 08:00:00        5  13.0  79.0  744.0         2.0     270.0\n",
       "26320 2022-09-15 14:00:00        8  16.0  47.0  753.0         4.0     180.0"
      ]
     },
     "execution_count": 75,
     "metadata": {},
     "output_type": "execute_result"
    }
   ],
   "source": [
    "hours = rp['datetime'].dt.hour.isin([2, 5, 8, 11, 14, 17, 20, 23])\n",
    "rp_8 = rp.loc[hours, ['datetime', '12h_bin', 'temp', 'hum', 'press', 'wind_speed', 'wind_dir']].copy()\n",
    "rp_8.sample(4)"
   ]
  },
  {
   "cell_type": "markdown",
   "metadata": {},
   "source": [
    "**Yandex.Weather** gives one value per interval for all parameters except the temperature. We will ignore the temperature and assign one value of each of the remaining parameters for an interval to two time points that are inside of that interval (e.g., assign morning value to 08:00 and 11:00 points)."
   ]
  },
  {
   "cell_type": "code",
   "execution_count": 76,
   "metadata": {},
   "outputs": [
    {
     "data": {
      "text/html": [
       "<div>\n",
       "<style scoped>\n",
       "    .dataframe tbody tr th:only-of-type {\n",
       "        vertical-align: middle;\n",
       "    }\n",
       "\n",
       "    .dataframe tbody tr th {\n",
       "        vertical-align: top;\n",
       "    }\n",
       "\n",
       "    .dataframe thead th {\n",
       "        text-align: right;\n",
       "    }\n",
       "</style>\n",
       "<table border=\"1\" class=\"dataframe\">\n",
       "  <thead>\n",
       "    <tr style=\"text-align: right;\">\n",
       "      <th></th>\n",
       "      <th>datetime</th>\n",
       "      <th>12h_bin</th>\n",
       "      <th>hum</th>\n",
       "      <th>press</th>\n",
       "      <th>wind_speed</th>\n",
       "      <th>wind_dir</th>\n",
       "    </tr>\n",
       "  </thead>\n",
       "  <tbody>\n",
       "    <tr>\n",
       "      <th>5924</th>\n",
       "      <td>2022-05-03 08:00:00</td>\n",
       "      <td>2</td>\n",
       "      <td>68.0</td>\n",
       "      <td>743.0</td>\n",
       "      <td>2.8</td>\n",
       "      <td>270.0</td>\n",
       "    </tr>\n",
       "    <tr>\n",
       "      <th>622</th>\n",
       "      <td>2022-03-02 23:00:00</td>\n",
       "      <td>10</td>\n",
       "      <td>81.0</td>\n",
       "      <td>752.0</td>\n",
       "      <td>1.9</td>\n",
       "      <td>270.0</td>\n",
       "    </tr>\n",
       "    <tr>\n",
       "      <th>4392</th>\n",
       "      <td>2022-04-21 11:00:00</td>\n",
       "      <td>16</td>\n",
       "      <td>64.0</td>\n",
       "      <td>749.0</td>\n",
       "      <td>1.7</td>\n",
       "      <td>315.0</td>\n",
       "    </tr>\n",
       "    <tr>\n",
       "      <th>11725</th>\n",
       "      <td>2022-07-13 17:00:00</td>\n",
       "      <td>2</td>\n",
       "      <td>33.0</td>\n",
       "      <td>751.0</td>\n",
       "      <td>1.4</td>\n",
       "      <td>180.0</td>\n",
       "    </tr>\n",
       "  </tbody>\n",
       "</table>\n",
       "</div>"
      ],
      "text/plain": [
       "                 datetime  12h_bin   hum  press  wind_speed  wind_dir\n",
       "5924  2022-05-03 08:00:00        2  68.0  743.0         2.8     270.0\n",
       "622   2022-03-02 23:00:00       10  81.0  752.0         1.9     270.0\n",
       "4392  2022-04-21 11:00:00       16  64.0  749.0         1.7     315.0\n",
       "11725 2022-07-13 17:00:00        2  33.0  751.0         1.4     180.0"
      ]
     },
     "execution_count": 76,
     "metadata": {},
     "output_type": "execute_result"
    }
   ],
   "source": [
    "# create records at required time points for Yandex.Weather\n",
    "ya_8 = ya[['datetime', 'req_datetime', '12h_bin', 'hum', 'press', 'wind_speed', 'wind_dir']].copy()\n",
    "ya_8['datetime'] = ya_8['datetime'] - pd.to_timedelta(1, unit=\"h\")\n",
    "ya_8_copy = ya_8.copy()\n",
    "ya_8_copy['datetime'] = ya_8_copy['datetime'] + pd.to_timedelta(3, unit=\"h\")\n",
    "ya_8 = pd.concat([ya_8, ya_8_copy], ignore_index=False)\n",
    "past_filt = ya_8['datetime'] < ya_8['req_datetime']\n",
    "ya_8 = ya_8.loc[~past_filt]\n",
    "ya_8.drop(columns=['req_datetime'], inplace=True)\n",
    "ya_8.sample(4)"
   ]
  },
  {
   "cell_type": "markdown",
   "metadata": {},
   "source": [
    "**1-week** forecast by **HMCR** does not have values for relative humidity. As in the case of Yandex.Weather we will not use the temperature. Values at 23:00, 02:00, 05:00, 08:00 correspond to a \"day\" interval and the remaining to a \"night\" one."
   ]
  },
  {
   "cell_type": "code",
   "execution_count": 77,
   "metadata": {},
   "outputs": [
    {
     "data": {
      "text/html": [
       "<div>\n",
       "<style scoped>\n",
       "    .dataframe tbody tr th:only-of-type {\n",
       "        vertical-align: middle;\n",
       "    }\n",
       "\n",
       "    .dataframe tbody tr th {\n",
       "        vertical-align: top;\n",
       "    }\n",
       "\n",
       "    .dataframe thead th {\n",
       "        text-align: right;\n",
       "    }\n",
       "</style>\n",
       "<table border=\"1\" class=\"dataframe\">\n",
       "  <thead>\n",
       "    <tr style=\"text-align: right;\">\n",
       "      <th></th>\n",
       "      <th>datetime</th>\n",
       "      <th>12h_bin</th>\n",
       "      <th>press</th>\n",
       "      <th>wind_speed</th>\n",
       "      <th>wind_dir</th>\n",
       "    </tr>\n",
       "  </thead>\n",
       "  <tbody>\n",
       "    <tr>\n",
       "      <th>4919</th>\n",
       "      <td>2022-09-02 08:00:00</td>\n",
       "      <td>6</td>\n",
       "      <td>743.0</td>\n",
       "      <td>2.0</td>\n",
       "      <td>180.0</td>\n",
       "    </tr>\n",
       "    <tr>\n",
       "      <th>2605</th>\n",
       "      <td>2022-06-05 08:00:00</td>\n",
       "      <td>6</td>\n",
       "      <td>748.0</td>\n",
       "      <td>3.0</td>\n",
       "      <td>90.0</td>\n",
       "    </tr>\n",
       "    <tr>\n",
       "      <th>2879</th>\n",
       "      <td>2022-06-15 14:00:00</td>\n",
       "      <td>6</td>\n",
       "      <td>746.0</td>\n",
       "      <td>4.0</td>\n",
       "      <td>315.0</td>\n",
       "    </tr>\n",
       "    <tr>\n",
       "      <th>3587</th>\n",
       "      <td>2022-07-15 20:00:00</td>\n",
       "      <td>12</td>\n",
       "      <td>742.0</td>\n",
       "      <td>1.0</td>\n",
       "      <td>270.0</td>\n",
       "    </tr>\n",
       "  </tbody>\n",
       "</table>\n",
       "</div>"
      ],
      "text/plain": [
       "                datetime  12h_bin  press  wind_speed  wind_dir\n",
       "4919 2022-09-02 08:00:00        6  743.0         2.0     180.0\n",
       "2605 2022-06-05 08:00:00        6  748.0         3.0      90.0\n",
       "2879 2022-06-15 14:00:00        6  746.0         4.0     315.0\n",
       "3587 2022-07-15 20:00:00       12  742.0         1.0     270.0"
      ]
     },
     "execution_count": 77,
     "metadata": {},
     "output_type": "execute_result"
    }
   ],
   "source": [
    "mi_8 = mi[['datetime', 'req_datetime', '12h_bin', 'press', 'wind_speed', 'wind_dir']].copy()\n",
    "# values at 11:00 and 23:00 (bins change)\n",
    "mi_8_11_23 = mi_8.copy()\n",
    "mi_8_11_23['datetime'] = mi_8_11_23['datetime'] - pd.to_timedelta(3, unit=\"h\")\n",
    "mi_8_11_23['12h_bin'] = mi_8_11_23['12h_bin'] - 1\n",
    "# values at 05:00 and 17:00 \n",
    "mi_8_5_17 = mi_8.copy()\n",
    "mi_8_5_17['datetime'] = mi_8_5_17['datetime'] + pd.to_timedelta(3, unit=\"h\")\n",
    "# values at 08:00 and 20:00 \n",
    "mi_8_8_20 = mi_8.copy()\n",
    "mi_8_8_20['datetime'] = mi_8_8_20['datetime'] + pd.to_timedelta(6, unit=\"h\")\n",
    "# concatenate all four dataframes\n",
    "mi_8 = pd.concat([mi_8, mi_8_11_23, mi_8_5_17, mi_8_8_20], ignore_index=False)\n",
    "past_filt = mi_8['datetime'] < mi_8['req_datetime']\n",
    "mi_8 = mi_8.loc[~past_filt]\n",
    "mi_8.drop(columns=['req_datetime'], inplace=True)\n",
    "mi_8.sample(4)"
   ]
  },
  {
   "cell_type": "markdown",
   "metadata": {},
   "source": [
    "**\"Graphs\"** forecast by **HMCR** has all parameters."
   ]
  },
  {
   "cell_type": "code",
   "execution_count": 78,
   "metadata": {},
   "outputs": [
    {
     "data": {
      "text/html": [
       "<div>\n",
       "<style scoped>\n",
       "    .dataframe tbody tr th:only-of-type {\n",
       "        vertical-align: middle;\n",
       "    }\n",
       "\n",
       "    .dataframe tbody tr th {\n",
       "        vertical-align: top;\n",
       "    }\n",
       "\n",
       "    .dataframe thead th {\n",
       "        text-align: right;\n",
       "    }\n",
       "</style>\n",
       "<table border=\"1\" class=\"dataframe\">\n",
       "  <thead>\n",
       "    <tr style=\"text-align: right;\">\n",
       "      <th></th>\n",
       "      <th>datetime</th>\n",
       "      <th>12h_bin</th>\n",
       "      <th>temp</th>\n",
       "      <th>hum</th>\n",
       "      <th>press</th>\n",
       "      <th>wind_speed</th>\n",
       "      <th>wind_dir</th>\n",
       "    </tr>\n",
       "  </thead>\n",
       "  <tbody>\n",
       "    <tr>\n",
       "      <th>2830</th>\n",
       "      <td>2022-04-14 23:00:00</td>\n",
       "      <td>6</td>\n",
       "      <td>9.4</td>\n",
       "      <td>60.0</td>\n",
       "      <td>747.0</td>\n",
       "      <td>3.0</td>\n",
       "      <td>173.0</td>\n",
       "    </tr>\n",
       "    <tr>\n",
       "      <th>146</th>\n",
       "      <td>2022-03-01 02:00:00</td>\n",
       "      <td>7</td>\n",
       "      <td>-7.0</td>\n",
       "      <td>71.0</td>\n",
       "      <td>756.0</td>\n",
       "      <td>4.0</td>\n",
       "      <td>267.0</td>\n",
       "    </tr>\n",
       "    <tr>\n",
       "      <th>9812</th>\n",
       "      <td>2022-08-09 05:00:00</td>\n",
       "      <td>4</td>\n",
       "      <td>13.8</td>\n",
       "      <td>89.0</td>\n",
       "      <td>751.0</td>\n",
       "      <td>1.0</td>\n",
       "      <td>144.0</td>\n",
       "    </tr>\n",
       "    <tr>\n",
       "      <th>2181</th>\n",
       "      <td>2022-04-03 23:00:00</td>\n",
       "      <td>6</td>\n",
       "      <td>4.5</td>\n",
       "      <td>50.0</td>\n",
       "      <td>739.0</td>\n",
       "      <td>3.0</td>\n",
       "      <td>186.0</td>\n",
       "    </tr>\n",
       "  </tbody>\n",
       "</table>\n",
       "</div>"
      ],
      "text/plain": [
       "                datetime  12h_bin  temp   hum  press  wind_speed  wind_dir\n",
       "2830 2022-04-14 23:00:00        6   9.4  60.0  747.0         3.0     173.0\n",
       "146  2022-03-01 02:00:00        7  -7.0  71.0  756.0         4.0     267.0\n",
       "9812 2022-08-09 05:00:00        4  13.8  89.0  751.0         1.0     144.0\n",
       "2181 2022-04-03 23:00:00        6   4.5  50.0  739.0         3.0     186.0"
      ]
     },
     "execution_count": 78,
     "metadata": {},
     "output_type": "execute_result"
    }
   ],
   "source": [
    "ms_8 = ms[['datetime', '12h_bin', 'temp', 'hum', 'press', 'wind_speed', 'wind_dir']].copy()\n",
    "ms_8.sample(4)"
   ]
  },
  {
   "cell_type": "markdown",
   "metadata": {},
   "source": [
    "Wind speed and directions in **the historical dataset** are average 10-minute values which we will use for comparison."
   ]
  },
  {
   "cell_type": "code",
   "execution_count": 79,
   "metadata": {},
   "outputs": [
    {
     "data": {
      "text/html": [
       "<div>\n",
       "<style scoped>\n",
       "    .dataframe tbody tr th:only-of-type {\n",
       "        vertical-align: middle;\n",
       "    }\n",
       "\n",
       "    .dataframe tbody tr th {\n",
       "        vertical-align: top;\n",
       "    }\n",
       "\n",
       "    .dataframe thead th {\n",
       "        text-align: right;\n",
       "    }\n",
       "</style>\n",
       "<table border=\"1\" class=\"dataframe\">\n",
       "  <thead>\n",
       "    <tr style=\"text-align: right;\">\n",
       "      <th></th>\n",
       "      <th>temp</th>\n",
       "      <th>hum</th>\n",
       "      <th>press</th>\n",
       "      <th>wind_speed</th>\n",
       "      <th>wind_dir</th>\n",
       "    </tr>\n",
       "    <tr>\n",
       "      <th>datetime</th>\n",
       "      <th></th>\n",
       "      <th></th>\n",
       "      <th></th>\n",
       "      <th></th>\n",
       "      <th></th>\n",
       "    </tr>\n",
       "  </thead>\n",
       "  <tbody>\n",
       "    <tr>\n",
       "      <th>2022-07-31 14:00:00</th>\n",
       "      <td>24.4</td>\n",
       "      <td>54.0</td>\n",
       "      <td>745.2</td>\n",
       "      <td>2.0</td>\n",
       "      <td>22.5</td>\n",
       "    </tr>\n",
       "    <tr>\n",
       "      <th>2022-10-02 20:00:00</th>\n",
       "      <td>NaN</td>\n",
       "      <td>NaN</td>\n",
       "      <td>NaN</td>\n",
       "      <td>NaN</td>\n",
       "      <td>NaN</td>\n",
       "    </tr>\n",
       "    <tr>\n",
       "      <th>2022-02-21 17:00:00</th>\n",
       "      <td>2.6</td>\n",
       "      <td>64.0</td>\n",
       "      <td>737.3</td>\n",
       "      <td>2.0</td>\n",
       "      <td>247.5</td>\n",
       "    </tr>\n",
       "    <tr>\n",
       "      <th>2022-02-23 23:00:00</th>\n",
       "      <td>2.1</td>\n",
       "      <td>71.0</td>\n",
       "      <td>742.9</td>\n",
       "      <td>3.0</td>\n",
       "      <td>225.0</td>\n",
       "    </tr>\n",
       "  </tbody>\n",
       "</table>\n",
       "</div>"
      ],
      "text/plain": [
       "                     temp   hum  press  wind_speed  wind_dir\n",
       "datetime                                                    \n",
       "2022-07-31 14:00:00  24.4  54.0  745.2         2.0      22.5\n",
       "2022-10-02 20:00:00   NaN   NaN    NaN         NaN       NaN\n",
       "2022-02-21 17:00:00   2.6  64.0  737.3         2.0     247.5\n",
       "2022-02-23 23:00:00   2.1  71.0  742.9         3.0     225.0"
      ]
     },
     "execution_count": 79,
     "metadata": {},
     "output_type": "execute_result"
    }
   ],
   "source": [
    "hist_8 = hist.loc['2022-01-01':,['temp', 'hum', 'press', 'wind_speed_10m', 'wind_dir_10m']].asfreq(\"3H\")\n",
    "hist_8.rename(columns={'wind_speed_10m': 'wind_speed', 'wind_dir_10m': 'wind_dir'}, inplace=True)\n",
    "hist_8.sample(4)"
   ]
  },
  {
   "cell_type": "markdown",
   "metadata": {
    "jp-MarkdownHeadingCollapsed": true,
    "tags": []
   },
   "source": [
    "### Temperature"
   ]
  },
  {
   "cell_type": "code",
   "execution_count": 80,
   "metadata": {},
   "outputs": [
    {
     "data": {
      "text/html": [
       "<div>\n",
       "<style scoped>\n",
       "    .dataframe tbody tr th:only-of-type {\n",
       "        vertical-align: middle;\n",
       "    }\n",
       "\n",
       "    .dataframe tbody tr th {\n",
       "        vertical-align: top;\n",
       "    }\n",
       "\n",
       "    .dataframe thead th {\n",
       "        text-align: right;\n",
       "    }\n",
       "</style>\n",
       "<table border=\"1\" class=\"dataframe\">\n",
       "  <thead>\n",
       "    <tr style=\"text-align: right;\">\n",
       "      <th></th>\n",
       "      <th>datetime</th>\n",
       "      <th>12h_bin</th>\n",
       "      <th>gismeteo</th>\n",
       "      <th>rp5</th>\n",
       "      <th>hmcr_g</th>\n",
       "      <th>hist</th>\n",
       "    </tr>\n",
       "  </thead>\n",
       "  <tbody>\n",
       "    <tr>\n",
       "      <th>35150</th>\n",
       "      <td>2022-10-12 02:00:00</td>\n",
       "      <td>17</td>\n",
       "      <td>5.9</td>\n",
       "      <td>NaN</td>\n",
       "      <td>NaN</td>\n",
       "      <td>-0.9</td>\n",
       "    </tr>\n",
       "    <tr>\n",
       "      <th>19971</th>\n",
       "      <td>2022-07-04 05:00:00</td>\n",
       "      <td>15</td>\n",
       "      <td>-3.3</td>\n",
       "      <td>NaN</td>\n",
       "      <td>NaN</td>\n",
       "      <td>11.3</td>\n",
       "    </tr>\n",
       "    <tr>\n",
       "      <th>13813</th>\n",
       "      <td>2022-05-24 17:00:00</td>\n",
       "      <td>17</td>\n",
       "      <td>-1.0</td>\n",
       "      <td>NaN</td>\n",
       "      <td>NaN</td>\n",
       "      <td>18.0</td>\n",
       "    </tr>\n",
       "    <tr>\n",
       "      <th>2743</th>\n",
       "      <td>2022-03-12 20:00:00</td>\n",
       "      <td>11</td>\n",
       "      <td>8.3</td>\n",
       "      <td>NaN</td>\n",
       "      <td>NaN</td>\n",
       "      <td>-18.3</td>\n",
       "    </tr>\n",
       "  </tbody>\n",
       "</table>\n",
       "</div>"
      ],
      "text/plain": [
       "                 datetime  12h_bin  gismeteo  rp5  hmcr_g  hist\n",
       "35150 2022-10-12 02:00:00       17       5.9  NaN     NaN  -0.9\n",
       "19971 2022-07-04 05:00:00       15      -3.3  NaN     NaN  11.3\n",
       "13813 2022-05-24 17:00:00       17      -1.0  NaN     NaN  18.0\n",
       "2743  2022-03-12 20:00:00       11       8.3  NaN     NaN -18.3"
      ]
     },
     "execution_count": 80,
     "metadata": {},
     "output_type": "execute_result"
    }
   ],
   "source": [
    "dfs = {'gismeteo': gm_8, 'rp5': rp_8, 'hmcr_g': ms_8}\n",
    "temp_8 = merge_dfs(dfs, col='temp', col_keys=['datetime', '12h_bin'], how='outer')\n",
    "temp_8 = temp_8.merge(hist_8[['temp']].rename(columns={'temp': 'hist'}),\n",
    "                      how='left',\n",
    "                      left_on='datetime',\n",
    "                      right_on='datetime',\n",
    "                      sort=False)\n",
    "for col in dfs.keys():\n",
    "    temp_8[col] = temp_8[col] - temp_8['hist']\n",
    "temp_8.sample(4)"
   ]
  },
  {
   "cell_type": "markdown",
   "metadata": {
    "jp-MarkdownHeadingCollapsed": true,
    "tags": []
   },
   "source": [
    "### Atmospheric Pressure"
   ]
  },
  {
   "cell_type": "code",
   "execution_count": 81,
   "metadata": {},
   "outputs": [
    {
     "data": {
      "text/html": [
       "<div>\n",
       "<style scoped>\n",
       "    .dataframe tbody tr th:only-of-type {\n",
       "        vertical-align: middle;\n",
       "    }\n",
       "\n",
       "    .dataframe tbody tr th {\n",
       "        vertical-align: top;\n",
       "    }\n",
       "\n",
       "    .dataframe thead th {\n",
       "        text-align: right;\n",
       "    }\n",
       "</style>\n",
       "<table border=\"1\" class=\"dataframe\">\n",
       "  <thead>\n",
       "    <tr style=\"text-align: right;\">\n",
       "      <th></th>\n",
       "      <th>datetime</th>\n",
       "      <th>12h_bin</th>\n",
       "      <th>gismeteo</th>\n",
       "      <th>rp5</th>\n",
       "      <th>yandex</th>\n",
       "      <th>hmcr_w</th>\n",
       "      <th>hmcr_g</th>\n",
       "      <th>hist</th>\n",
       "    </tr>\n",
       "  </thead>\n",
       "  <tbody>\n",
       "    <tr>\n",
       "      <th>30889</th>\n",
       "      <td>2022-09-13 23:00:00</td>\n",
       "      <td>3</td>\n",
       "      <td>0.4</td>\n",
       "      <td>0.4</td>\n",
       "      <td>-2.6</td>\n",
       "      <td>-0.6</td>\n",
       "      <td>0.4</td>\n",
       "      <td>754.6</td>\n",
       "    </tr>\n",
       "    <tr>\n",
       "      <th>25377</th>\n",
       "      <td>2022-08-08 17:00:00</td>\n",
       "      <td>5</td>\n",
       "      <td>-0.1</td>\n",
       "      <td>-0.1</td>\n",
       "      <td>-1.1</td>\n",
       "      <td>0.9</td>\n",
       "      <td>0.9</td>\n",
       "      <td>750.1</td>\n",
       "    </tr>\n",
       "    <tr>\n",
       "      <th>26348</th>\n",
       "      <td>2022-08-15 02:00:00</td>\n",
       "      <td>4</td>\n",
       "      <td>-0.5</td>\n",
       "      <td>-0.5</td>\n",
       "      <td>-2.5</td>\n",
       "      <td>-0.5</td>\n",
       "      <td>-0.5</td>\n",
       "      <td>751.5</td>\n",
       "    </tr>\n",
       "    <tr>\n",
       "      <th>13526</th>\n",
       "      <td>2022-05-22 20:00:00</td>\n",
       "      <td>19</td>\n",
       "      <td>6.4</td>\n",
       "      <td>NaN</td>\n",
       "      <td>11.4</td>\n",
       "      <td>NaN</td>\n",
       "      <td>NaN</td>\n",
       "      <td>733.6</td>\n",
       "    </tr>\n",
       "  </tbody>\n",
       "</table>\n",
       "</div>"
      ],
      "text/plain": [
       "                 datetime  12h_bin  gismeteo  rp5  yandex  hmcr_w  hmcr_g  \\\n",
       "30889 2022-09-13 23:00:00        3       0.4  0.4    -2.6    -0.6     0.4   \n",
       "25377 2022-08-08 17:00:00        5      -0.1 -0.1    -1.1     0.9     0.9   \n",
       "26348 2022-08-15 02:00:00        4      -0.5 -0.5    -2.5    -0.5    -0.5   \n",
       "13526 2022-05-22 20:00:00       19       6.4  NaN    11.4     NaN     NaN   \n",
       "\n",
       "        hist  \n",
       "30889  754.6  \n",
       "25377  750.1  \n",
       "26348  751.5  \n",
       "13526  733.6  "
      ]
     },
     "execution_count": 81,
     "metadata": {},
     "output_type": "execute_result"
    }
   ],
   "source": [
    "dfs = {'gismeteo': gm_8, 'rp5': rp_8, 'yandex': ya_8, 'hmcr_w': mi_8, 'hmcr_g': ms_8}\n",
    "press_8 = merge_dfs(dfs, col='press', col_keys=['datetime', '12h_bin'], how='outer')\n",
    "press_8 = press_8.merge(hist_8[['press']].rename(columns={'press': 'hist'}),\n",
    "                        how='left',\n",
    "                        left_on='datetime',\n",
    "                        right_on='datetime',\n",
    "                        sort=False)\n",
    "for col in dfs.keys():\n",
    "    press_8[col] = press_8[col] - press_8['hist']\n",
    "press_8.sample(4)"
   ]
  },
  {
   "cell_type": "markdown",
   "metadata": {
    "jp-MarkdownHeadingCollapsed": true,
    "tags": []
   },
   "source": [
    "### Relative Humidity"
   ]
  },
  {
   "cell_type": "code",
   "execution_count": 82,
   "metadata": {},
   "outputs": [
    {
     "data": {
      "text/html": [
       "<div>\n",
       "<style scoped>\n",
       "    .dataframe tbody tr th:only-of-type {\n",
       "        vertical-align: middle;\n",
       "    }\n",
       "\n",
       "    .dataframe tbody tr th {\n",
       "        vertical-align: top;\n",
       "    }\n",
       "\n",
       "    .dataframe thead th {\n",
       "        text-align: right;\n",
       "    }\n",
       "</style>\n",
       "<table border=\"1\" class=\"dataframe\">\n",
       "  <thead>\n",
       "    <tr style=\"text-align: right;\">\n",
       "      <th></th>\n",
       "      <th>datetime</th>\n",
       "      <th>12h_bin</th>\n",
       "      <th>gismeteo</th>\n",
       "      <th>rp5</th>\n",
       "      <th>yandex</th>\n",
       "      <th>hmcr_g</th>\n",
       "      <th>hist</th>\n",
       "    </tr>\n",
       "  </thead>\n",
       "  <tbody>\n",
       "    <tr>\n",
       "      <th>20762</th>\n",
       "      <td>2022-07-09 08:00:00</td>\n",
       "      <td>2</td>\n",
       "      <td>2.0</td>\n",
       "      <td>17.0</td>\n",
       "      <td>2.0</td>\n",
       "      <td>6.0</td>\n",
       "      <td>65.0</td>\n",
       "    </tr>\n",
       "    <tr>\n",
       "      <th>31040</th>\n",
       "      <td>2022-09-14 23:00:00</td>\n",
       "      <td>4</td>\n",
       "      <td>-35.0</td>\n",
       "      <td>4.0</td>\n",
       "      <td>-30.0</td>\n",
       "      <td>-26.0</td>\n",
       "      <td>92.0</td>\n",
       "    </tr>\n",
       "    <tr>\n",
       "      <th>37020</th>\n",
       "      <td>2022-10-26 17:00:00</td>\n",
       "      <td>18</td>\n",
       "      <td>NaN</td>\n",
       "      <td>NaN</td>\n",
       "      <td>NaN</td>\n",
       "      <td>NaN</td>\n",
       "      <td>NaN</td>\n",
       "    </tr>\n",
       "    <tr>\n",
       "      <th>26163</th>\n",
       "      <td>2022-08-13 23:00:00</td>\n",
       "      <td>18</td>\n",
       "      <td>4.0</td>\n",
       "      <td>NaN</td>\n",
       "      <td>6.0</td>\n",
       "      <td>NaN</td>\n",
       "      <td>64.0</td>\n",
       "    </tr>\n",
       "  </tbody>\n",
       "</table>\n",
       "</div>"
      ],
      "text/plain": [
       "                 datetime  12h_bin  gismeteo   rp5  yandex  hmcr_g  hist\n",
       "20762 2022-07-09 08:00:00        2       2.0  17.0     2.0     6.0  65.0\n",
       "31040 2022-09-14 23:00:00        4     -35.0   4.0   -30.0   -26.0  92.0\n",
       "37020 2022-10-26 17:00:00       18       NaN   NaN     NaN     NaN   NaN\n",
       "26163 2022-08-13 23:00:00       18       4.0   NaN     6.0     NaN  64.0"
      ]
     },
     "execution_count": 82,
     "metadata": {},
     "output_type": "execute_result"
    }
   ],
   "source": [
    "dfs = {'gismeteo': gm_8, 'rp5': rp_8, 'yandex': ya_8, 'hmcr_g': ms_8}\n",
    "hum_8 = merge_dfs(dfs, col='hum', col_keys=['datetime', '12h_bin'], how='outer')\n",
    "hum_8 = hum_8.merge(hist_8[['hum']].rename(columns={'hum': 'hist'}),\n",
    "                    how='left',\n",
    "                    left_on='datetime',\n",
    "                    right_on='datetime',\n",
    "                    sort=False)\n",
    "for col in dfs.keys():\n",
    "    hum_8[col] = hum_8[col] - hum_8['hist']\n",
    "hum_8.sample(4)"
   ]
  },
  {
   "cell_type": "markdown",
   "metadata": {
    "jp-MarkdownHeadingCollapsed": true,
    "tags": []
   },
   "source": [
    "### Wind Speed"
   ]
  },
  {
   "cell_type": "code",
   "execution_count": 83,
   "metadata": {},
   "outputs": [
    {
     "data": {
      "text/html": [
       "<div>\n",
       "<style scoped>\n",
       "    .dataframe tbody tr th:only-of-type {\n",
       "        vertical-align: middle;\n",
       "    }\n",
       "\n",
       "    .dataframe tbody tr th {\n",
       "        vertical-align: top;\n",
       "    }\n",
       "\n",
       "    .dataframe thead th {\n",
       "        text-align: right;\n",
       "    }\n",
       "</style>\n",
       "<table border=\"1\" class=\"dataframe\">\n",
       "  <thead>\n",
       "    <tr style=\"text-align: right;\">\n",
       "      <th></th>\n",
       "      <th>datetime</th>\n",
       "      <th>12h_bin</th>\n",
       "      <th>gismeteo</th>\n",
       "      <th>rp5</th>\n",
       "      <th>yandex</th>\n",
       "      <th>hmcr_w</th>\n",
       "      <th>hmcr_g</th>\n",
       "      <th>hist</th>\n",
       "    </tr>\n",
       "  </thead>\n",
       "  <tbody>\n",
       "    <tr>\n",
       "      <th>9676</th>\n",
       "      <td>2022-04-27 11:00:00</td>\n",
       "      <td>12</td>\n",
       "      <td>-1.0</td>\n",
       "      <td>NaN</td>\n",
       "      <td>-1.8</td>\n",
       "      <td>-2.0</td>\n",
       "      <td>NaN</td>\n",
       "      <td>4.0</td>\n",
       "    </tr>\n",
       "    <tr>\n",
       "      <th>12862</th>\n",
       "      <td>2022-05-18 11:00:00</td>\n",
       "      <td>17</td>\n",
       "      <td>1.0</td>\n",
       "      <td>NaN</td>\n",
       "      <td>0.1</td>\n",
       "      <td>NaN</td>\n",
       "      <td>NaN</td>\n",
       "      <td>2.0</td>\n",
       "    </tr>\n",
       "    <tr>\n",
       "      <th>32339</th>\n",
       "      <td>2022-09-23 14:00:00</td>\n",
       "      <td>15</td>\n",
       "      <td>0.0</td>\n",
       "      <td>NaN</td>\n",
       "      <td>-1.3</td>\n",
       "      <td>NaN</td>\n",
       "      <td>NaN</td>\n",
       "      <td>3.0</td>\n",
       "    </tr>\n",
       "    <tr>\n",
       "      <th>30444</th>\n",
       "      <td>2022-09-11 02:00:00</td>\n",
       "      <td>11</td>\n",
       "      <td>0.0</td>\n",
       "      <td>1.0</td>\n",
       "      <td>-0.3</td>\n",
       "      <td>1.0</td>\n",
       "      <td>NaN</td>\n",
       "      <td>2.0</td>\n",
       "    </tr>\n",
       "  </tbody>\n",
       "</table>\n",
       "</div>"
      ],
      "text/plain": [
       "                 datetime  12h_bin  gismeteo  rp5  yandex  hmcr_w  hmcr_g  \\\n",
       "9676  2022-04-27 11:00:00       12      -1.0  NaN    -1.8    -2.0     NaN   \n",
       "12862 2022-05-18 11:00:00       17       1.0  NaN     0.1     NaN     NaN   \n",
       "32339 2022-09-23 14:00:00       15       0.0  NaN    -1.3     NaN     NaN   \n",
       "30444 2022-09-11 02:00:00       11       0.0  1.0    -0.3     1.0     NaN   \n",
       "\n",
       "       hist  \n",
       "9676    4.0  \n",
       "12862   2.0  \n",
       "32339   3.0  \n",
       "30444   2.0  "
      ]
     },
     "execution_count": 83,
     "metadata": {},
     "output_type": "execute_result"
    }
   ],
   "source": [
    "dfs = {'gismeteo': gm_8, 'rp5': rp_8, 'yandex': ya_8, 'hmcr_w': mi_8, 'hmcr_g': ms_8}\n",
    "wind_speed_8 = merge_dfs(dfs, col='wind_speed', col_keys=['datetime', '12h_bin'], how='outer')\n",
    "wind_speed_8 = wind_speed_8.merge(hist_8[['wind_speed']].rename(columns={'wind_speed': 'hist'}),\n",
    "                                  how='left',\n",
    "                                  left_on='datetime',\n",
    "                                  right_on='datetime',\n",
    "                                  sort=False)\n",
    "for col in dfs.keys():\n",
    "    wind_speed_8[col] = wind_speed_8[col] - wind_speed_8['hist']\n",
    "wind_speed_8.sample(4)"
   ]
  },
  {
   "cell_type": "markdown",
   "metadata": {
    "jp-MarkdownHeadingCollapsed": true,
    "tags": []
   },
   "source": [
    "### Wind Direction"
   ]
  },
  {
   "cell_type": "code",
   "execution_count": 84,
   "metadata": {},
   "outputs": [
    {
     "data": {
      "text/html": [
       "<div>\n",
       "<style scoped>\n",
       "    .dataframe tbody tr th:only-of-type {\n",
       "        vertical-align: middle;\n",
       "    }\n",
       "\n",
       "    .dataframe tbody tr th {\n",
       "        vertical-align: top;\n",
       "    }\n",
       "\n",
       "    .dataframe thead th {\n",
       "        text-align: right;\n",
       "    }\n",
       "</style>\n",
       "<table border=\"1\" class=\"dataframe\">\n",
       "  <thead>\n",
       "    <tr style=\"text-align: right;\">\n",
       "      <th></th>\n",
       "      <th>datetime</th>\n",
       "      <th>12h_bin</th>\n",
       "      <th>gismeteo</th>\n",
       "      <th>rp5</th>\n",
       "      <th>yandex</th>\n",
       "      <th>hmcr_w</th>\n",
       "      <th>hmcr_g</th>\n",
       "      <th>hist</th>\n",
       "    </tr>\n",
       "  </thead>\n",
       "  <tbody>\n",
       "    <tr>\n",
       "      <th>19537</th>\n",
       "      <td>2022-07-01 08:00:00</td>\n",
       "      <td>11</td>\n",
       "      <td>-45.0</td>\n",
       "      <td>NaN</td>\n",
       "      <td>-45.0</td>\n",
       "      <td>45.0</td>\n",
       "      <td>NaN</td>\n",
       "      <td>0.0</td>\n",
       "    </tr>\n",
       "    <tr>\n",
       "      <th>32586</th>\n",
       "      <td>2022-09-25 05:00:00</td>\n",
       "      <td>15</td>\n",
       "      <td>22.5</td>\n",
       "      <td>NaN</td>\n",
       "      <td>67.5</td>\n",
       "      <td>NaN</td>\n",
       "      <td>NaN</td>\n",
       "      <td>22.5</td>\n",
       "    </tr>\n",
       "    <tr>\n",
       "      <th>10252</th>\n",
       "      <td>2022-05-01 05:00:00</td>\n",
       "      <td>7</td>\n",
       "      <td>-67.5</td>\n",
       "      <td>-22.5</td>\n",
       "      <td>-67.5</td>\n",
       "      <td>-67.5</td>\n",
       "      <td>NaN</td>\n",
       "      <td>202.5</td>\n",
       "    </tr>\n",
       "    <tr>\n",
       "      <th>19128</th>\n",
       "      <td>2022-06-28 14:00:00</td>\n",
       "      <td>3</td>\n",
       "      <td>-22.5</td>\n",
       "      <td>-22.5</td>\n",
       "      <td>-22.5</td>\n",
       "      <td>-22.5</td>\n",
       "      <td>-17.5</td>\n",
       "      <td>337.5</td>\n",
       "    </tr>\n",
       "  </tbody>\n",
       "</table>\n",
       "</div>"
      ],
      "text/plain": [
       "                 datetime  12h_bin  gismeteo   rp5  yandex  hmcr_w  hmcr_g  \\\n",
       "19537 2022-07-01 08:00:00       11     -45.0   NaN   -45.0    45.0     NaN   \n",
       "32586 2022-09-25 05:00:00       15      22.5   NaN    67.5     NaN     NaN   \n",
       "10252 2022-05-01 05:00:00        7     -67.5 -22.5   -67.5   -67.5     NaN   \n",
       "19128 2022-06-28 14:00:00        3     -22.5 -22.5   -22.5   -22.5   -17.5   \n",
       "\n",
       "        hist  \n",
       "19537    0.0  \n",
       "32586   22.5  \n",
       "10252  202.5  \n",
       "19128  337.5  "
      ]
     },
     "execution_count": 84,
     "metadata": {},
     "output_type": "execute_result"
    }
   ],
   "source": [
    "dfs = {'gismeteo': gm_8, 'rp5': rp_8, 'yandex': ya_8, 'hmcr_w': mi_8, 'hmcr_g': ms_8}\n",
    "wind_dir_8 = merge_dfs(dfs, col='wind_dir', col_keys=['datetime', '12h_bin'], how='outer')\n",
    "wind_dir_8 = wind_dir_8.merge(hist_8[['wind_dir']].rename(columns={'wind_dir': 'hist'}),\n",
    "                              how='left',\n",
    "                              left_on='datetime',\n",
    "                              right_on='datetime',\n",
    "                              sort=False)\n",
    "for col in dfs.keys():\n",
    "    wind_dir_8[col] = wind_dir_8[col] - wind_dir_8['hist']\n",
    "    # values should be in the interval (-180, 180]\n",
    "    wind_dir_8.loc[wind_dir_8[col] <= -180.0, col] += 360.0\n",
    "    wind_dir_8.loc[wind_dir_8[col] > 180.0, col] -= 360.0\n",
    "wind_dir_8.sample(4)"
   ]
  },
  {
   "cell_type": "markdown",
   "metadata": {
    "jp-MarkdownHeadingCollapsed": true,
    "tags": []
   },
   "source": [
    "## Precipitation in 12-Hour Intervals"
   ]
  },
  {
   "cell_type": "markdown",
   "metadata": {},
   "source": [
    "Most precipitation records in the historical data provided for intervals (20:00, 08:00] and (08:00, 20:00]. We can get precipitation data for these intervals for **Gismeteo**, **rp5** and **HMCR (Graphs)** forecasts."
   ]
  },
  {
   "cell_type": "code",
   "execution_count": 85,
   "metadata": {},
   "outputs": [
    {
     "data": {
      "text/html": [
       "<div>\n",
       "<style scoped>\n",
       "    .dataframe tbody tr th:only-of-type {\n",
       "        vertical-align: middle;\n",
       "    }\n",
       "\n",
       "    .dataframe tbody tr th {\n",
       "        vertical-align: top;\n",
       "    }\n",
       "\n",
       "    .dataframe thead th {\n",
       "        text-align: right;\n",
       "    }\n",
       "</style>\n",
       "<table border=\"1\" class=\"dataframe\">\n",
       "  <thead>\n",
       "    <tr style=\"text-align: right;\">\n",
       "      <th></th>\n",
       "      <th>datetime</th>\n",
       "      <th>12h_bin</th>\n",
       "      <th>gismeteo</th>\n",
       "      <th>rp5</th>\n",
       "      <th>hmcr_g</th>\n",
       "      <th>hist</th>\n",
       "    </tr>\n",
       "  </thead>\n",
       "  <tbody>\n",
       "    <tr>\n",
       "      <th>926</th>\n",
       "      <td>2022-03-19 20:00:00</td>\n",
       "      <td>4</td>\n",
       "      <td>0.0</td>\n",
       "      <td>0.27</td>\n",
       "      <td>0.0</td>\n",
       "      <td>0.0</td>\n",
       "    </tr>\n",
       "    <tr>\n",
       "      <th>366</th>\n",
       "      <td>2022-03-04 20:00:00</td>\n",
       "      <td>9</td>\n",
       "      <td>0.0</td>\n",
       "      <td>NaN</td>\n",
       "      <td>NaN</td>\n",
       "      <td>0.0</td>\n",
       "    </tr>\n",
       "    <tr>\n",
       "      <th>6627</th>\n",
       "      <td>2022-08-20 20:00:00</td>\n",
       "      <td>1</td>\n",
       "      <td>0.5</td>\n",
       "      <td>-0.30</td>\n",
       "      <td>1.8</td>\n",
       "      <td>0.6</td>\n",
       "    </tr>\n",
       "    <tr>\n",
       "      <th>8691</th>\n",
       "      <td>2022-10-15 20:00:00</td>\n",
       "      <td>9</td>\n",
       "      <td>2.9</td>\n",
       "      <td>-1.82</td>\n",
       "      <td>NaN</td>\n",
       "      <td>2.0</td>\n",
       "    </tr>\n",
       "  </tbody>\n",
       "</table>\n",
       "</div>"
      ],
      "text/plain": [
       "                datetime  12h_bin  gismeteo   rp5  hmcr_g  hist\n",
       "926  2022-03-19 20:00:00        4       0.0  0.27     0.0   0.0\n",
       "366  2022-03-04 20:00:00        9       0.0   NaN     NaN   0.0\n",
       "6627 2022-08-20 20:00:00        1       0.5 -0.30     1.8   0.6\n",
       "8691 2022-10-15 20:00:00        9       2.9 -1.82     NaN   2.0"
      ]
     },
     "execution_count": 85,
     "metadata": {},
     "output_type": "execute_result"
    }
   ],
   "source": [
    "hist_precip = hist.loc['2022-01-01 08:00:00':,['precip', 'precip_int']].asfreq('12h')\n",
    "hist_precip.loc[hist_precip['precip_int'] != 12.0, 'precip'] = np.nan\n",
    "hist_precip.drop(columns='precip_int', axis=1, inplace=True)\n",
    "# get forecast data\n",
    "gm_p = precip_at_8_and_20(gm)\n",
    "rp_p = precip_at_8_and_20(rp)\n",
    "ms_p = precip_at_8_and_20(ms)\n",
    "dfs = {'gismeteo': gm_p, 'rp5': rp_p, 'hmcr_g': ms_p}\n",
    "precip = merge_dfs(dfs, col='precip', col_keys=['datetime', '12h_bin'], how='outer')\n",
    "precip = precip.merge(hist_precip[['precip']].rename(columns={'precip': 'hist'}),\n",
    "                      how='left',\n",
    "                      left_on='datetime',\n",
    "                      right_index=True,\n",
    "                      sort=False)\n",
    "for col in dfs.keys():\n",
    "    precip[col] = precip[col] - precip['hist']\n",
    "precip.sample(4)"
   ]
  },
  {
   "cell_type": "markdown",
   "metadata": {
    "tags": []
   },
   "source": [
    "# Plotting the Differences Between Forecast and Historical Values"
   ]
  },
  {
   "cell_type": "code",
   "execution_count": 100,
   "metadata": {},
   "outputs": [],
   "source": [
    "# choose the start date based on the latest date among the erliest records of all forecat datasets\n",
    "# rp5 dataset starts on 2022-03-16 (later than others) and it's a 6-day forecast\n",
    "start_date = '2022-03-21'\n",
    "end_date = '2022-10-17'\n",
    "day_lim = 6\n",
    "# specify color palette for seaborn\n",
    "colors = {}\n",
    "for k, v in {'yandex': 0, 'rp5': 1, 'gismeteo': 3, 'hmcr_w': 4, 'hmcr_g': 5}.items():\n",
    "    colors[k] = sns.color_palette('hls', 6)[v]\n",
    "# seaborn parameters\n",
    "sns.set_style('whitegrid')\n",
    "sns.set(rc={'figure.figsize':(18, 9)})\n",
    "sns.set(font_scale=1.6)"
   ]
  },
  {
   "cell_type": "markdown",
   "metadata": {
    "tags": []
   },
   "source": [
    "## Minimum Temperature Before 12:00"
   ]
  },
  {
   "cell_type": "code",
   "execution_count": 101,
   "metadata": {},
   "outputs": [],
   "source": [
    "legend_labels = {'gismeteo': 'Gismeteo*',\n",
    "                 'rp5': 'rp5*',\n",
    "                 'yandex': 'Yandex.Weather',\n",
    "                 'hmcr_w': 'HMCR (1-week)',\n",
    "                 'hmcr_g': 'HMCR (Graphs)*'}\n",
    "min_temp_plt = min_temp.loc[(min_temp['date'] >= start_date) & (min_temp['date'] <= end_date)].copy()\n",
    "min_temp_plt['Day'] = np.ceil(min_temp_plt['12h_bin'] / 2).astype(int)\n",
    "min_temp_plt = min_temp_plt.loc[min_temp_plt['Day'] <= day_lim]\n",
    "min_temp_plt = min_temp_plt.melt(id_vars=['Day'],\n",
    "                                 value_vars=['gismeteo', 'rp5', 'yandex', 'hmcr_w', 'hmcr_g'],\n",
    "                                 var_name='Forecast',\n",
    "                                 value_name='Error (°C)')"
   ]
  },
  {
   "cell_type": "code",
   "execution_count": 102,
   "metadata": {},
   "outputs": [
    {
     "data": {
      "image/png": "[encoded data removed]",
      "text/plain": [
       "<Figure size 1296x648 with 1 Axes>"
      ]
     },
     "metadata": {},
     "output_type": "display_data"
    }
   ],
   "source": [
    "ax = sns.boxplot(x='Day', y='Error (°C)', data=min_temp_plt, hue='Forecast', palette=colors, whis=1.5, fliersize=3)\n",
    "handles, labels  =  ax.get_legend_handles_labels()\n",
    "ax.set(title='Minimum Temperature Before 12:00')\n",
    "ax.set_ylim(-20.0, 20.0)\n",
    "_ = ax.legend(handles, [legend_labels[k] for k in labels], ncol=5, loc='upper left')"
   ]
  },
  {
   "cell_type": "markdown",
   "metadata": {
    "tags": []
   },
   "source": [
    "## Maximum Temperature After 12:00"
   ]
  },
  {
   "cell_type": "code",
   "execution_count": 103,
   "metadata": {},
   "outputs": [],
   "source": [
    "max_temp_plt = max_temp.loc[(max_temp['date'] >= start_date) & (max_temp['date'] <= end_date)].copy()\n",
    "max_temp_plt['Day'] = np.ceil((max_temp['12h_bin'] - 1) / 2).astype(int)\n",
    "max_temp_plt = max_temp_plt.loc[max_temp_plt['Day'] <= day_lim]\n",
    "max_temp_plt = max_temp_plt.melt(id_vars=['Day'],\n",
    "                                 value_vars=['gismeteo', 'rp5', 'yandex', 'hmcr_w', 'hmcr_g'],\n",
    "                                 var_name='Forecast',\n",
    "                                 value_name='Error (°C)')"
   ]
  },
  {
   "cell_type": "code",
   "execution_count": 104,
   "metadata": {},
   "outputs": [
    {
     "data": {
      "image/png": "[encoded data removed]",
      "text/plain": [
       "<Figure size 1296x648 with 1 Axes>"
      ]
     },
     "metadata": {},
     "output_type": "display_data"
    }
   ],
   "source": [
    "ax = sns.boxplot(x='Day', y='Error (°C)', data=max_temp_plt, hue='Forecast', palette=colors, whis=1.5, fliersize=3)\n",
    "handles, labels  =  ax.get_legend_handles_labels()\n",
    "ax.set(title='Maximum Temperature After 12:00')\n",
    "ax.set_ylim(-20.0, 20.0)\n",
    "_ = ax.legend(handles, [legend_labels[k] for k in labels], ncol=5, loc='upper left')"
   ]
  },
  {
   "cell_type": "markdown",
   "metadata": {
    "tags": []
   },
   "source": [
    "## Temperature at 02:00, 05:00, 08:00, 11:00, 14:00, 17:00, 20:00 and 23:00"
   ]
  },
  {
   "cell_type": "code",
   "execution_count": 105,
   "metadata": {},
   "outputs": [
    {
     "data": {
      "image/png": "[encoded data removed]",
      "text/plain": [
       "<Figure size 1296x648 with 1 Axes>"
      ]
     },
     "metadata": {},
     "output_type": "display_data"
    }
   ],
   "source": [
    "title = 'Temperature at 02:00, 05:00, 08:00, 11:00, 14:00, 17:00, 20:00 and 23:00'\n",
    "legend_labels = {'gismeteo': 'Gismeteo', 'rp5': 'rp5', 'hmcr_g': 'HMCR (Graphs)'}\n",
    "boxplot_params(temp_8, title, 'Error (°C)', (-20.0, 20.0), legend_labels)"
   ]
  },
  {
   "cell_type": "markdown",
   "metadata": {
    "tags": []
   },
   "source": [
    "## Atmospheric Pressure at 02:00, 05:00, 08:00, 11:00, 14:00, 17:00, 20:00 and 23:00"
   ]
  },
  {
   "cell_type": "code",
   "execution_count": 106,
   "metadata": {},
   "outputs": [
    {
     "data": {
      "image/png": "[encoded data removed]",
      "text/plain": [
       "<Figure size 1296x648 with 1 Axes>"
      ]
     },
     "metadata": {},
     "output_type": "display_data"
    }
   ],
   "source": [
    "title = 'Atmospheric Pressure at 02:00, 05:00, 08:00, 11:00, 14:00, 17:00, 20:00 and 23:00'\n",
    "legend_labels = {'gismeteo': 'Gismeteo',\n",
    "                 'rp5': 'rp5',\n",
    "                 'yandex': 'Yandex.Weather*',\n",
    "                 'hmcr_w': 'HMCR (1-week)*',\n",
    "                 'hmcr_g': 'HMCR (Graphs)'}\n",
    "boxplot_params(press_8, title, 'Error (mmHg)', (-25.0, 25.0), legend_labels, yticks=(-25, 26, 5))"
   ]
  },
  {
   "cell_type": "markdown",
   "metadata": {
    "tags": []
   },
   "source": [
    "## Relative Humidity"
   ]
  },
  {
   "cell_type": "code",
   "execution_count": 107,
   "metadata": {},
   "outputs": [
    {
     "data": {
      "image/png": "[encoded data removed]",
      "text/plain": [
       "<Figure size 1296x648 with 1 Axes>"
      ]
     },
     "metadata": {},
     "output_type": "display_data"
    }
   ],
   "source": [
    "title = 'Relative Humidity at 02:00, 05:00, 08:00, 11:00, 14:00, 17:00, 20:00 and 23:00'\n",
    "legend_labels = {'gismeteo': 'Gismeteo',\n",
    "                 'rp5': 'rp5',\n",
    "                 'yandex': 'Yandex.Weather*',\n",
    "                 'hmcr_g': 'HMCR (Graphs)'}\n",
    "boxplot_params(hum_8, title, 'Error (%)', (-101.0, 101.0), legend_labels, yticks=(-100, 101, 20))"
   ]
  },
  {
   "cell_type": "markdown",
   "metadata": {
    "tags": []
   },
   "source": [
    "## Wind Speed"
   ]
  },
  {
   "cell_type": "code",
   "execution_count": 108,
   "metadata": {},
   "outputs": [
    {
     "data": {
      "image/png": "[encoded data removed]",
      "text/plain": [
       "<Figure size 1296x648 with 1 Axes>"
      ]
     },
     "metadata": {},
     "output_type": "display_data"
    }
   ],
   "source": [
    "title = 'Wind Speed at 02:00, 05:00, 08:00, 11:00, 14:00, 17:00, 20:00 and 23:00'\n",
    "legend_labels = {'gismeteo': 'Gismeteo',\n",
    "                 'rp5': 'rp5',\n",
    "                 'yandex': 'Yandex.Weather*',\n",
    "                 'hmcr_w': 'HMCR (1-week)*',\n",
    "                 'hmcr_g': 'HMCR (Graphs)'}\n",
    "boxplot_params(wind_speed_8, title, 'Error (m/s)', (-10.0, 10.0), legend_labels, yticks=(-10, 11, 2))"
   ]
  },
  {
   "cell_type": "markdown",
   "metadata": {
    "tags": []
   },
   "source": [
    "## Wind Direction at 02:00, 05:00, 08:00, 11:00, 14:00, 17:00, 20:00 and 23:00"
   ]
  },
  {
   "cell_type": "code",
   "execution_count": 109,
   "metadata": {},
   "outputs": [
    {
     "data": {
      "image/png": "[encoded data removed]",
      "text/plain": [
       "<Figure size 1296x648 with 1 Axes>"
      ]
     },
     "metadata": {},
     "output_type": "display_data"
    }
   ],
   "source": [
    "title = 'Wind Direction at 02:00, 05:00, 08:00, 11:00, 14:00, 17:00, 20:00 and 23:00'\n",
    "legend_labels = {'gismeteo': 'Gismeteo',\n",
    "                 'rp5': 'rp5',\n",
    "                 'yandex': 'Yandex.Weather*',\n",
    "                 'hmcr_w': 'HMCR (1-week)*',\n",
    "                 'hmcr_g': 'HMCR (Graphs)'}\n",
    "boxplot_params(wind_dir_8, title, 'Error (°)', (-180, 220), legend_labels, yticks=(-180, 181, 45))"
   ]
  },
  {
   "cell_type": "markdown",
   "metadata": {
    "tags": []
   },
   "source": [
    "## Precipitation in 12-Hour Intervals"
   ]
  },
  {
   "cell_type": "code",
   "execution_count": 110,
   "metadata": {},
   "outputs": [],
   "source": [
    "precip_plt = precip.loc[(precip['datetime'] >= start_date) & (precip['datetime'] <= end_date)]\n",
    "ylabel_precip = 'Error (mm per 12 hours)'\n",
    "legend_labels = {'gismeteo': 'Gismeteo',\n",
    "                 'rp5': 'rp5',\n",
    "                 'hmcr_g': 'HMCR (Graphs)'}"
   ]
  },
  {
   "cell_type": "code",
   "execution_count": 111,
   "metadata": {},
   "outputs": [
    {
     "data": {
      "image/png": "[encoded data removed]",
      "text/plain": [
       "<Figure size 1296x648 with 1 Axes>"
      ]
     },
     "metadata": {},
     "output_type": "display_data"
    }
   ],
   "source": [
    "df_ = precip_plt.melt(id_vars=['12h_bin'],\n",
    "                      value_vars=[*legend_labels.keys()],\n",
    "                      var_name='Forecast',\n",
    "                      value_name='Error (mm per 12 hours)')\n",
    "df_ = df_.loc[df_['12h_bin'] <= 10]\n",
    "ax = sns.boxplot(x='12h_bin', y='Error (mm per 12 hours)', data=df_, hue='Forecast', palette=colors, whis=1.5, fliersize=3)\n",
    "handles, labels = ax.get_legend_handles_labels()\n",
    "ax.set(title='Precipitation in 12-Hour Intervals', xlabel='12-hour bin')\n",
    "ax.set_ylim(-4, 4)\n",
    "# ax.set_yticks(range(*yticks))\n",
    "_ = ax.legend(handles, [legend_labels[k] for k in labels], ncol=3, loc='upper left')"
   ]
  },
  {
   "cell_type": "markdown",
   "metadata": {},
   "source": [
    "We can define the elements of the confusion matrix as:\n",
    "* **True Positive (TP)**: forecast value > 0, historical value > 0;\n",
    "* **False Positive (FP)**: forecast value > 0, historical value = 0;\n",
    "* **True Negative (TN)**: forecast value = 0, historical value = 0;\n",
    "* **False Negative (FN)**: forecast value = 0, historical value > 0."
   ]
  },
  {
   "cell_type": "markdown",
   "metadata": {},
   "source": [
    "Balanced accuracy ($BA$) is defined as: $$ BA = \\frac{TPR + TNR}{2},$$\n",
    "where $TPR$ is true positive rate (also called recall or sensitivity): \n",
    "$$ \\text{TPR} = \\frac{\\sum \\text{TP} } {\\sum \\text{TP} + \\sum \\text{FN}},$$\n",
    "and $TNR$ is true negative rate (or specificity):\n",
    "$$ \\text{TNR} = \\frac{\\sum \\text{TN} } {\\sum \\text{TN} + \\sum \\text{FP}}.$$"
   ]
  },
  {
   "cell_type": "code",
   "execution_count": 112,
   "metadata": {},
   "outputs": [],
   "source": [
    "# TPR\n",
    "precip_tpr = precip_plt.loc[precip_plt['hist'] > 0.0].copy()\n",
    "for col in ['gismeteo', 'rp5', 'hmcr_g']:\n",
    "    val = precip_tpr[col] + precip_tpr['hist']\n",
    "    tp = val > 0.001\n",
    "    fn = val <= 0.001\n",
    "    precip_tpr.loc[tp, col] = 1\n",
    "    precip_tpr.loc[fn, col] = 0\n",
    "precip_tpr = precip_tpr.groupby('12h_bin').sum() / precip_tpr.groupby('12h_bin').count()\n",
    "precip_tpr = precip_tpr[['gismeteo', 'rp5', 'hmcr_g']]\n",
    "# TNR\n",
    "precip_tnr = precip_plt.loc[precip_plt['hist'] == 0.0].copy()\n",
    "for col in ['gismeteo', 'rp5', 'hmcr_g']:\n",
    "    val = precip_tnr[col] + precip_tnr['hist']\n",
    "    fp = val > 0.001\n",
    "    tn = val <= 0.001\n",
    "    precip_tnr.loc[tn, col] = 1\n",
    "    precip_tnr.loc[fp, col] = 0\n",
    "precip_tnr = precip_tnr.groupby('12h_bin').sum() / precip_tnr.groupby('12h_bin').count()\n",
    "precip_tnr = precip_tnr[['gismeteo', 'rp5', 'hmcr_g']]\n",
    "# BA\n",
    "precip_ba = (precip_tpr + precip_tnr) / 2"
   ]
  },
  {
   "cell_type": "code",
   "execution_count": 113,
   "metadata": {},
   "outputs": [
    {
     "data": {
      "image/png": "[encoded data removed]",
      "text/plain": [
       "<Figure size 1296x648 with 1 Axes>"
      ]
     },
     "metadata": {},
     "output_type": "display_data"
    }
   ],
   "source": [
    "ax = sns.lineplot(data=precip_ba, palette=colors, linewidth=1, marker='o', markersize=14, dashes=False)\n",
    "ax.set(xlabel='12-hour bin', ylabel='Balanced accuracy', title='Precipitation in 12-Hour Intervals')\n",
    "ax.set_ylim(0, 1)\n",
    "ax.set_xticks(list(range(1, 20)))\n",
    "ax.set_yticks([float(x)/10 for x in range(0, 11)])\n",
    "_ = ax.legend(labels=['Gismeteo', 'rp5', 'HMCR (Graphs)'])"
   ]
  }
 ],
 "metadata": {
  "interpreter": {
   "hash": "6d7eac0224fe749e12e1e6e642c52b105747583a5c2714f5eaa22f49258e7a6c"
  },
  "kernelspec": {
   "display_name": "Python 3 (ipykernel)",
   "language": "python",
   "name": "python3"
  },
  "language_info": {
   "codemirror_mode": {
    "name": "ipython",
    "version": 3
   },
   "file_extension": ".py",
   "mimetype": "text/x-python",
   "name": "python",
   "nbconvert_exporter": "python",
   "pygments_lexer": "ipython3",
   "version": "3.9.12"
  }
 },
 "nbformat": 4,
 "nbformat_minor": 4
}
